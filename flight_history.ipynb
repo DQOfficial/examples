{
 "cells": [
  {
   "cell_type": "markdown",
   "metadata": {},
   "source": [
    "# US Airport Delays"
   ]
  },
  {
   "cell_type": "markdown",
   "metadata": {},
   "source": [
    "This notebook will analyze the reasons for flight cancellations and delays in 2008 \n",
    "\n",
    "[Airline Codes](http://stat-computing.org/dataexpo/2009/carriers.csv), [Airport Codes](http://stat-computing.org/dataexpo/2009/airports.csv), [Data Dictionary](http://stat-computing.org/dataexpo/2009/the-data.html)"
   ]
  },
  {
   "cell_type": "code",
   "execution_count": 1,
   "metadata": {
    "collapsed": false
   },
   "outputs": [
    {
     "name": "stdout",
     "output_type": "stream",
     "text": [
      "2.7.11 (default, Dec  5 2015, 14:44:47) \n",
      "[GCC 4.2.1 Compatible Apple LLVM 7.0.0 (clang-700.1.76)]\n",
      "Populating the interactive namespace from numpy and matplotlib\n"
     ]
    }
   ],
   "source": [
    "import pandas as pd\n",
    "import numpy as np\n",
    "import matplotlib.pyplot as plt\n",
    "import statsmodels.api as sm\n",
    "import statsmodels.formula.api as smf\n",
    "import math\n",
    "import sys\n",
    "print sys.version\n",
    "from matplotlib import style\n",
    "style.use('fivethirtyeight')\n",
    "%pylab inline"
   ]
  },
  {
   "cell_type": "code",
   "execution_count": 2,
   "metadata": {
    "collapsed": false
   },
   "outputs": [],
   "source": [
    "# read in data\n",
    "flights = pd.read_csv('datasets/2008.csv.bz2')\n",
    "#flights = pd.read_csv('http://stat-computing.org/dataexpo/2009/2008.csv.bz2', compression = 'bz2')\n",
    "# 'bz2' compression is not supported in Python 2 :("
   ]
  },
  {
   "cell_type": "code",
   "execution_count": 3,
   "metadata": {
    "collapsed": false
   },
   "outputs": [
    {
     "data": {
      "text/plain": [
       "Index([u'Year', u'Month', u'DayofMonth', u'DayOfWeek', u'DepTime',\n",
       "       u'CRSDepTime', u'ArrTime', u'CRSArrTime', u'UniqueCarrier',\n",
       "       u'FlightNum', u'TailNum', u'ActualElapsedTime', u'CRSElapsedTime',\n",
       "       u'AirTime', u'ArrDelay', u'DepDelay', u'Origin', u'Dest', u'Distance',\n",
       "       u'TaxiIn', u'TaxiOut', u'Cancelled', u'CancellationCode', u'Diverted',\n",
       "       u'CarrierDelay', u'WeatherDelay', u'NASDelay', u'SecurityDelay',\n",
       "       u'LateAircraftDelay'],\n",
       "      dtype='object')"
      ]
     },
     "execution_count": 3,
     "metadata": {},
     "output_type": "execute_result"
    }
   ],
   "source": [
    "flights.columns"
   ]
  },
  {
   "cell_type": "code",
   "execution_count": 4,
   "metadata": {
    "collapsed": false
   },
   "outputs": [],
   "source": [
    "# create lane pairs to determine highest traffic routes\n",
    "flights['lanes'] = flights['Origin'] + ' - ' + flights['Dest']\n",
    "\n",
    "# # create two empty lists to store origin airports and destination airports\n",
    "# origin = []\n",
    "# dest = []\n",
    "\n",
    "# def split_col(series):\n",
    "#     for i in series:\n",
    "#         s = i.split('-') # split each pair on the dash\n",
    "#         origin.append(s[0]) # append the first value to origin\n",
    "#         dest.append(s[1]) # append the second value to destination\n",
    "        \n",
    "# # run split function on lane pair column in the merged dataframe\n",
    "# split_col(flights['lanes'])\n",
    "\n",
    "# # create new columns in merged df\n",
    "# merged['Origin'] = np.asarray(origin)\n",
    "# merged['Dest'] = np.asarray(dest)\n",
    "# merged.head()\n",
    "\n",
    "# next, let's read in some data on the airports and air carriers \n",
    "carriers = pd.read_csv('http://stat-computing.org/dataexpo/2009/carriers.csv')\n",
    "airports = pd.read_csv('http://stat-computing.org/dataexpo/2009/airports.csv')\n",
    "\n",
    "airports_orig = pd.DataFrame(airports[['iata','airport']])\n",
    "airports_orig.rename(columns = {'iata':'Origin'}, inplace = True)\n",
    "\n",
    "flights2 = pd.merge(flights,airports_orig, on ='Origin')\n",
    "flights2.rename(columns = {'airport':'origin_airport'}, inplace = True)\n",
    "flights2.columns\n",
    "\n",
    "airports_dest = pd.DataFrame(airports[['iata','airport']])\n",
    "airports_dest.rename(columns = {'iata':'Dest'}, inplace = True)\n",
    "\n",
    "flights3 = pd.merge(flights2,airports_dest, on ='Dest')\n",
    "flights3.rename(columns = {'airport':'dest_airport'}, inplace = True)\n",
    "\n",
    "# then create origin-destination pairs\n",
    "flights3['lane_pairs'] = flights3['origin_airport'] + '-' + flights3['dest_airport']"
   ]
  },
  {
   "cell_type": "code",
   "execution_count": 5,
   "metadata": {
    "collapsed": false
   },
   "outputs": [
    {
     "data": {
      "text/plain": [
       "Index([u'Year', u'Month', u'DayofMonth', u'DayOfWeek', u'DepTime',\n",
       "       u'CRSDepTime', u'ArrTime', u'CRSArrTime', u'UniqueCarrier',\n",
       "       u'FlightNum', u'TailNum', u'ActualElapsedTime', u'CRSElapsedTime',\n",
       "       u'AirTime', u'ArrDelay', u'DepDelay', u'Origin', u'Dest', u'Distance',\n",
       "       u'TaxiIn', u'TaxiOut', u'Cancelled', u'CancellationCode', u'Diverted',\n",
       "       u'CarrierDelay', u'WeatherDelay', u'NASDelay', u'SecurityDelay',\n",
       "       u'LateAircraftDelay', u'lanes', u'origin_airport', u'dest_airport',\n",
       "       u'lane_pairs'],\n",
       "      dtype='object')"
      ]
     },
     "execution_count": 5,
     "metadata": {},
     "output_type": "execute_result"
    }
   ],
   "source": [
    "flights3.columns"
   ]
  },
  {
   "cell_type": "code",
   "execution_count": 6,
   "metadata": {
    "collapsed": false
   },
   "outputs": [
    {
     "data": {
      "text/html": [
       "<div>\n",
       "<table border=\"1\" class=\"dataframe\">\n",
       "  <thead>\n",
       "    <tr style=\"text-align: right;\">\n",
       "      <th></th>\n",
       "      <th>iata</th>\n",
       "      <th>airport</th>\n",
       "      <th>city</th>\n",
       "      <th>state</th>\n",
       "      <th>country</th>\n",
       "      <th>lat</th>\n",
       "      <th>long</th>\n",
       "    </tr>\n",
       "  </thead>\n",
       "  <tbody>\n",
       "    <tr>\n",
       "      <th>0</th>\n",
       "      <td>00M</td>\n",
       "      <td>Thigpen</td>\n",
       "      <td>Bay Springs</td>\n",
       "      <td>MS</td>\n",
       "      <td>USA</td>\n",
       "      <td>31.953765</td>\n",
       "      <td>-89.234505</td>\n",
       "    </tr>\n",
       "    <tr>\n",
       "      <th>1</th>\n",
       "      <td>00R</td>\n",
       "      <td>Livingston Municipal</td>\n",
       "      <td>Livingston</td>\n",
       "      <td>TX</td>\n",
       "      <td>USA</td>\n",
       "      <td>30.685861</td>\n",
       "      <td>-95.017928</td>\n",
       "    </tr>\n",
       "    <tr>\n",
       "      <th>2</th>\n",
       "      <td>00V</td>\n",
       "      <td>Meadow Lake</td>\n",
       "      <td>Colorado Springs</td>\n",
       "      <td>CO</td>\n",
       "      <td>USA</td>\n",
       "      <td>38.945749</td>\n",
       "      <td>-104.569893</td>\n",
       "    </tr>\n",
       "    <tr>\n",
       "      <th>3</th>\n",
       "      <td>01G</td>\n",
       "      <td>Perry-Warsaw</td>\n",
       "      <td>Perry</td>\n",
       "      <td>NY</td>\n",
       "      <td>USA</td>\n",
       "      <td>42.741347</td>\n",
       "      <td>-78.052081</td>\n",
       "    </tr>\n",
       "    <tr>\n",
       "      <th>4</th>\n",
       "      <td>01J</td>\n",
       "      <td>Hilliard Airpark</td>\n",
       "      <td>Hilliard</td>\n",
       "      <td>FL</td>\n",
       "      <td>USA</td>\n",
       "      <td>30.688012</td>\n",
       "      <td>-81.905944</td>\n",
       "    </tr>\n",
       "  </tbody>\n",
       "</table>\n",
       "</div>"
      ],
      "text/plain": [
       "  iata               airport              city state country        lat  \\\n",
       "0  00M              Thigpen        Bay Springs    MS     USA  31.953765   \n",
       "1  00R  Livingston Municipal        Livingston    TX     USA  30.685861   \n",
       "2  00V           Meadow Lake  Colorado Springs    CO     USA  38.945749   \n",
       "3  01G          Perry-Warsaw             Perry    NY     USA  42.741347   \n",
       "4  01J      Hilliard Airpark          Hilliard    FL     USA  30.688012   \n",
       "\n",
       "         long  \n",
       "0  -89.234505  \n",
       "1  -95.017928  \n",
       "2 -104.569893  \n",
       "3  -78.052081  \n",
       "4  -81.905944  "
      ]
     },
     "execution_count": 6,
     "metadata": {},
     "output_type": "execute_result"
    }
   ],
   "source": [
    "# adding origin and destination state, airport codes\n",
    "airports.head()"
   ]
  },
  {
   "cell_type": "code",
   "execution_count": 7,
   "metadata": {
    "collapsed": false
   },
   "outputs": [
    {
     "data": {
      "text/plain": [
       "Index([u'Origin', u'airport_x', u'city_x', u'orig_state', u'country_x',\n",
       "       u'lat_x', u'long_x', u'Year', u'Month', u'DayofMonth', u'DayOfWeek',\n",
       "       u'DepTime', u'CRSDepTime', u'ArrTime', u'CRSArrTime', u'UniqueCarrier',\n",
       "       u'FlightNum', u'TailNum', u'ActualElapsedTime', u'CRSElapsedTime',\n",
       "       u'AirTime', u'ArrDelay', u'DepDelay', u'Dest', u'Distance', u'TaxiIn',\n",
       "       u'TaxiOut', u'Cancelled', u'CancellationCode', u'Diverted',\n",
       "       u'CarrierDelay', u'WeatherDelay', u'NASDelay', u'SecurityDelay',\n",
       "       u'LateAircraftDelay', u'lanes', u'origin_airport', u'dest_airport',\n",
       "       u'lane_pairs', u'airport_y', u'city_y', u'dest_state', u'country_y',\n",
       "       u'lat_y', u'long_y'],\n",
       "      dtype='object')"
      ]
     },
     "execution_count": 7,
     "metadata": {},
     "output_type": "execute_result"
    }
   ],
   "source": [
    "# add origin state\n",
    "orig_state = airports.rename(columns = {'iata':'Origin'})\n",
    "orig_state2 = pd.merge(orig_state, flights3, on = 'Origin')\n",
    "orig_state2.rename(columns = {'state':'orig_state'}, inplace = True)\n",
    "#orig_state2.columns\n",
    "\n",
    "\n",
    "# add destination state\n",
    "dest_state = airports.rename(columns = {'iata':'Dest'})\n",
    "dest_state2 = pd.merge(orig_state2,dest_state, on = 'Dest')\n",
    "dest_state2.rename(columns = {'state':'dest_state'}, inplace = True)\n",
    "\n",
    "dest_state2.columns"
   ]
  },
  {
   "cell_type": "code",
   "execution_count": 8,
   "metadata": {
    "collapsed": false
   },
   "outputs": [
    {
     "data": {
      "text/plain": [
       "Index([u'Origin', u'airport_x', u'city_x', u'orig_state', u'country_x',\n",
       "       u'lat_x', u'long_x', u'Year', u'Month', u'DayofMonth', u'DayOfWeek',\n",
       "       u'DepTime', u'CRSDepTime', u'ArrTime', u'CRSArrTime', u'UniqueCarrier',\n",
       "       u'FlightNum', u'TailNum', u'ActualElapsedTime', u'CRSElapsedTime',\n",
       "       u'AirTime', u'ArrDelay', u'DepDelay', u'Dest', u'Distance', u'TaxiIn',\n",
       "       u'TaxiOut', u'Cancelled', u'CancellationCode', u'Diverted',\n",
       "       u'CarrierDelay', u'WeatherDelay', u'NASDelay', u'SecurityDelay',\n",
       "       u'LateAircraftDelay', u'lanes', u'origin_airport', u'dest_airport',\n",
       "       u'lane_pairs', u'airport_y', u'city_y', u'dest_state', u'country_y',\n",
       "       u'lat_y', u'long_y'],\n",
       "      dtype='object')"
      ]
     },
     "execution_count": 8,
     "metadata": {},
     "output_type": "execute_result"
    }
   ],
   "source": [
    "# rename fully merged dataframe for cleaner replication\n",
    "flights5 = dest_state2\n",
    "flights5.columns"
   ]
  },
  {
   "cell_type": "code",
   "execution_count": 9,
   "metadata": {
    "collapsed": false
   },
   "outputs": [],
   "source": [
    "# # first create a bar graph of the types of cancellations by type\n",
    "# # the four categories are broken down as follows: A = carrier, B = weather, C = NAS, D = security\n",
    "# c_code = {'CancellationCode':['A','B','C','D']}\n",
    "\n",
    "# cancellations = flights['FlightNum'].groupby(flights['CancellationCode']).count()\n",
    "# cancellations = pd.DataFrame(cancellations)\n",
    "# cancellations.reset_index('CancellationCode', inplace = True)\n",
    "# cancellations.rename(columns = {0:'cancellation_count'}, inplace = True)\n",
    "# cancellations\n"
   ]
  },
  {
   "cell_type": "code",
   "execution_count": 10,
   "metadata": {
    "collapsed": false
   },
   "outputs": [],
   "source": [
    "# # calculate the average duration of each delay by type\n",
    "# # first, carrier delays\n",
    "# a_delay = flights['CarrierDelay'].mean()\n",
    "# b_delay = flights['WeatherDelay'].mean()\n",
    "# c_delay = flights['NASDelay'].mean()\n",
    "# d_delay = flights['SecurityDelay'].mean()\n",
    "# l_delay = flights['LateAircraftDelay'].mean()\n",
    "\n",
    "# delay_dict = {'Carrier' : [a_delay], \n",
    "#               'Weather' : [b_delay], \n",
    "#               'NAS' : [c_delay], \n",
    "#               'Security' : [d_delay], \n",
    "#               'Late Plane' : [l_delay]\n",
    "#              }\n",
    "\n",
    "# delays = [a_delay, b_delay, c_delay, d_delay]\n",
    "# delays = pd.DataFrame(delays)\n",
    "# delays.rename(columns = {0:'avg_delay'}, inplace = True)\n",
    "# delays['CancellationCode'] = ['A','B','C','D']\n",
    "# # delays.set_index([['A','B','C','D']], inplace = True)\n",
    "# # delays.reset_index()\n",
    "# delays"
   ]
  },
  {
   "cell_type": "code",
   "execution_count": 11,
   "metadata": {
    "collapsed": false
   },
   "outputs": [],
   "source": [
    "# # now merge delay counts and average delay dataframes\n",
    "# cancel_info = pd.merge(delays,cancellations, on = 'CancellationCode')\n",
    "# cancel_info['category'] = ['Carrier','Weather','NAS','Security']\n",
    "# cancel_info.set_index('CancellationCode', inplace = True)\n",
    "# cancel_info.reset_index('CancellationCode', inplace = True)\n",
    "# cancel_info.rename(columns = {'avg_delay':'avg_delay_min'}, inplace = True) # rename avg_delay to denote minutes\n",
    "# cancel_info.head()"
   ]
  },
  {
   "cell_type": "code",
   "execution_count": 12,
   "metadata": {
    "collapsed": false
   },
   "outputs": [],
   "source": [
    "# # before graphing, set the category to the index for better xlabels\n",
    "# cancel_info.set_index('category', inplace = True)\n",
    "# cancel_info.cancellation_count.plot(kind = 'bar')\n",
    "# plt.xlabel('Cancellation Code')\n",
    "# plt.ylabel('Number of Flights')\n",
    "# plt.title('Causes for Flight Cancellations in 2008')"
   ]
  },
  {
   "cell_type": "code",
   "execution_count": 13,
   "metadata": {
    "collapsed": false
   },
   "outputs": [],
   "source": [
    "# # since there is no record for cancellations due to late airplaces, we will have to measure the delays separately\n",
    "# delays = pd.DataFrame.from_dict(delay_dict)\n",
    "# delays = delays.T\n",
    "# delays.rename(columns = {0:'avg_delay_min'}, inplace = True)\n",
    "# delays.head()"
   ]
  },
  {
   "cell_type": "code",
   "execution_count": 14,
   "metadata": {
    "collapsed": false
   },
   "outputs": [],
   "source": [
    "# delays['avg_delay_min'].plot(kind = 'bar')\n",
    "# plt.title('Causes for Flight Delays in 2008')\n",
    "# plt.xlabel('Causes')\n",
    "# plt.ylabel('Average Delay in Minutes')"
   ]
  },
  {
   "cell_type": "code",
   "execution_count": 15,
   "metadata": {
    "collapsed": false
   },
   "outputs": [],
   "source": [
    "# create a unique value (index-like) for the dataframe by resetting the index, then using that value as a key\n",
    "# flights.reset_index(inplace = True)"
   ]
  },
  {
   "cell_type": "code",
   "execution_count": 16,
   "metadata": {
    "collapsed": false
   },
   "outputs": [],
   "source": [
    "# since counting the number of occurrences of each delay and keeping them in dataframes of the same length is a pain\n",
    "# i'm going to do that another way: creating a column of 1s whenever there's an occurrence for each delay type\n",
    "\n",
    "my_list = []\n",
    "\n",
    "def delay_flag(series):\n",
    "    for i in series:\n",
    "        if math.isnan(i) == True or i == 0.0: \n",
    "        # use math module to determine if value is nan -> numpy doesn't necessarily work\n",
    "        # use floats because the dtype is float64 (seen at the beginning)\n",
    "            my_list.append(0) # return 0 if it's zero or nan\n",
    "        else:\n",
    "            my_list.append(1) # otherwise return 1 so we can count them later"
   ]
  },
  {
   "cell_type": "code",
   "execution_count": 23,
   "metadata": {
    "collapsed": false
   },
   "outputs": [],
   "source": [
    "# create flag variables for each delay type, then append them to the flights5 dataframe\n",
    "\n",
    "my_list = []\n",
    "delay_flag(flights5['CarrierDelay'])\n",
    "flights5['f_carrier_delay'] = np.asarray(my_list)\n",
    "\n",
    "my_list = []\n",
    "delay_flag(flights5['WeatherDelay'])\n",
    "flights5['f_weather_delay'] = np.asarray(my_list)\n",
    "\n",
    "my_list = []\n",
    "delay_flag(flights5['NASDelay'])\n",
    "flights5['f_nas_delay'] = np.asarray(my_list)\n",
    "\n",
    "my_list = []\n",
    "delay_flag(flights5['SecurityDelay'])\n",
    "flights5['f_sec_delay'] = np.asarray(my_list)\n",
    "\n",
    "my_list = []\n",
    "delay_flag(flights5['LateAircraftDelay'])\n",
    "flights5['f_late_aircraft_delay'] = np.asarray(my_list)"
   ]
  },
  {
   "cell_type": "code",
   "execution_count": 24,
   "metadata": {
    "collapsed": false
   },
   "outputs": [
    {
     "data": {
      "text/plain": [
       "Index([u'Origin', u'airport_x', u'city_x', u'orig_state', u'country_x',\n",
       "       u'lat_x', u'long_x', u'Year', u'Month', u'DayofMonth', u'DayOfWeek',\n",
       "       u'DepTime', u'CRSDepTime', u'ArrTime', u'CRSArrTime', u'UniqueCarrier',\n",
       "       u'FlightNum', u'TailNum', u'ActualElapsedTime', u'CRSElapsedTime',\n",
       "       u'AirTime', u'ArrDelay', u'DepDelay', u'Dest', u'Distance', u'TaxiIn',\n",
       "       u'TaxiOut', u'Cancelled', u'CancellationCode', u'Diverted',\n",
       "       u'CarrierDelay', u'WeatherDelay', u'NASDelay', u'SecurityDelay',\n",
       "       u'LateAircraftDelay', u'lanes', u'origin_airport', u'dest_airport',\n",
       "       u'lane_pairs', u'airport_y', u'city_y', u'dest_state', u'country_y',\n",
       "       u'lat_y', u'long_y', u'f_carrier_delay', u'f_weather_delay',\n",
       "       u'f_nas_delay', u'f_sec_delay', u'f_late_aircraft_delay'],\n",
       "      dtype='object')"
      ]
     },
     "execution_count": 24,
     "metadata": {},
     "output_type": "execute_result"
    }
   ],
   "source": [
    "flights5.columns"
   ]
  },
  {
   "cell_type": "code",
   "execution_count": 25,
   "metadata": {
    "collapsed": false
   },
   "outputs": [],
   "source": [
    "# # change my_list to numpy array - TEST\n",
    "\n",
    "# df = pd.DataFrame(np.random.random_integers(0,25,100))\n",
    "# df.rename(columns = {0:'test'}, inplace = True)\n",
    "# df['my_list'] = np.asarray(my_list)\n",
    "# df.head()"
   ]
  },
  {
   "cell_type": "code",
   "execution_count": 26,
   "metadata": {
    "collapsed": false
   },
   "outputs": [],
   "source": [
    "# create lane pairs to determine highest traffic routes\n",
    "# flights['lanes'] = flights['Origin'] + ' - ' + flights['Dest']"
   ]
  },
  {
   "cell_type": "code",
   "execution_count": 38,
   "metadata": {
    "collapsed": false
   },
   "outputs": [
    {
     "name": "stdout",
     "output_type": "stream",
     "text": [
      "       lane_trip_count\n",
      "count      5366.000000\n",
      "mean       1306.322773\n",
      "std        1593.373115\n",
      "min           1.000000\n",
      "25%         293.000000\n",
      "50%         777.000000\n",
      "75%        1718.500000\n",
      "max       13788.000000\n",
      "\n",
      "                                         lane_pairs  lane_trip_count\n",
      "0  Abilene Regional-Dallas-Fort Worth International             2660\n",
      "1          Adak-Ted Stevens Anchorage International              102\n",
      "2         Adams -Baltimore-Washington International              366\n",
      "3            Adams -Charlotte/Douglas International               39\n",
      "4                             Adams -Chicago Midway              383\n"
     ]
    }
   ],
   "source": [
    "# group number of trips (using flight number) by lane pairs\n",
    "lane_trips = flights5['FlightNum'].groupby(flights5['lane_pairs']).agg('count')\n",
    "lane_trips = pd.DataFrame(lane_trips)\n",
    "lane_trips.rename(columns = {0:'lane_trip_count'}, inplace = True)\n",
    "lane_trips.reset_index(inplace = True)\n",
    "\n",
    "print lane_trips.describe()\n",
    "print ''\n",
    "print lane_trips.head()"
   ]
  },
  {
   "cell_type": "code",
   "execution_count": 36,
   "metadata": {
    "collapsed": false
   },
   "outputs": [],
   "source": [
    "# create a stripped down of flights5 with desired columns to merge into lane_df_trips\n",
    "flights6 = pd.DataFrame(flights5[['lane_pairs',\n",
    "                     'origin_airport',\n",
    "                     'orig_state',\n",
    "                     'dest_airport',\n",
    "                     'dest_state',]])"
   ]
  },
  {
   "cell_type": "code",
   "execution_count": 47,
   "metadata": {
    "collapsed": false
   },
   "outputs": [
    {
     "data": {
      "text/html": [
       "<div>\n",
       "<table border=\"1\" class=\"dataframe\">\n",
       "  <thead>\n",
       "    <tr style=\"text-align: right;\">\n",
       "      <th></th>\n",
       "      <th>lane_pairs</th>\n",
       "      <th>origin_airport</th>\n",
       "      <th>orig_state</th>\n",
       "      <th>dest_airport</th>\n",
       "      <th>dest_state</th>\n",
       "    </tr>\n",
       "  </thead>\n",
       "  <tbody>\n",
       "    <tr>\n",
       "      <th>0</th>\n",
       "      <td>Lehigh Valley International-Cleveland-Hopkins ...</td>\n",
       "      <td>Lehigh Valley International</td>\n",
       "      <td>PA</td>\n",
       "      <td>Cleveland-Hopkins Intl</td>\n",
       "      <td>OH</td>\n",
       "    </tr>\n",
       "    <tr>\n",
       "      <th>1</th>\n",
       "      <td>Lehigh Valley International-Cleveland-Hopkins ...</td>\n",
       "      <td>Lehigh Valley International</td>\n",
       "      <td>PA</td>\n",
       "      <td>Cleveland-Hopkins Intl</td>\n",
       "      <td>OH</td>\n",
       "    </tr>\n",
       "    <tr>\n",
       "      <th>2</th>\n",
       "      <td>Lehigh Valley International-Cleveland-Hopkins ...</td>\n",
       "      <td>Lehigh Valley International</td>\n",
       "      <td>PA</td>\n",
       "      <td>Cleveland-Hopkins Intl</td>\n",
       "      <td>OH</td>\n",
       "    </tr>\n",
       "    <tr>\n",
       "      <th>3</th>\n",
       "      <td>Lehigh Valley International-Cleveland-Hopkins ...</td>\n",
       "      <td>Lehigh Valley International</td>\n",
       "      <td>PA</td>\n",
       "      <td>Cleveland-Hopkins Intl</td>\n",
       "      <td>OH</td>\n",
       "    </tr>\n",
       "    <tr>\n",
       "      <th>4</th>\n",
       "      <td>Lehigh Valley International-Cleveland-Hopkins ...</td>\n",
       "      <td>Lehigh Valley International</td>\n",
       "      <td>PA</td>\n",
       "      <td>Cleveland-Hopkins Intl</td>\n",
       "      <td>OH</td>\n",
       "    </tr>\n",
       "  </tbody>\n",
       "</table>\n",
       "</div>"
      ],
      "text/plain": [
       "                                          lane_pairs  \\\n",
       "0  Lehigh Valley International-Cleveland-Hopkins ...   \n",
       "1  Lehigh Valley International-Cleveland-Hopkins ...   \n",
       "2  Lehigh Valley International-Cleveland-Hopkins ...   \n",
       "3  Lehigh Valley International-Cleveland-Hopkins ...   \n",
       "4  Lehigh Valley International-Cleveland-Hopkins ...   \n",
       "\n",
       "                origin_airport orig_state            dest_airport dest_state  \n",
       "0  Lehigh Valley International         PA  Cleveland-Hopkins Intl         OH  \n",
       "1  Lehigh Valley International         PA  Cleveland-Hopkins Intl         OH  \n",
       "2  Lehigh Valley International         PA  Cleveland-Hopkins Intl         OH  \n",
       "3  Lehigh Valley International         PA  Cleveland-Hopkins Intl         OH  \n",
       "4  Lehigh Valley International         PA  Cleveland-Hopkins Intl         OH  "
      ]
     },
     "execution_count": 47,
     "metadata": {},
     "output_type": "execute_result"
    }
   ],
   "source": [
    "flights6.head()"
   ]
  },
  {
   "cell_type": "code",
   "execution_count": 42,
   "metadata": {
    "collapsed": true
   },
   "outputs": [],
   "source": [
    "trips = flights5"
   ]
  },
  {
   "cell_type": "code",
   "execution_count": 44,
   "metadata": {
    "collapsed": false,
    "scrolled": false
   },
   "outputs": [
    {
     "name": "stdout",
     "output_type": "stream",
     "text": [
      "length of lane pairs: 5366\n",
      "length of carrier delays: 5366\n",
      "length of weather delays: 5366\n",
      "length of NAS delays: 5366\n",
      "length of late plane delays: 5366\n"
     ]
    }
   ],
   "source": [
    "# then group lane pairs by each type of delay\n",
    "# i'm filtering the columns to exclude NaNs instead of values greater than 0 \n",
    "# because 0 returns each series with a different length, making them difficult to merge\n",
    "\n",
    "# first we'll do carrier delays\n",
    "lane_df_carrier_delay = trips['f_carrier_delay'].groupby(trips['lane_pairs']).agg('sum')\n",
    "lane_df_carrier_delay = pd.DataFrame(lane_df_carrier_delay)\n",
    "lane_df_carrier_delay.rename(columns = {0:'carrier_delays'}, inplace = True)\n",
    "lane_df_carrier_delay.reset_index(inplace = True)\n",
    "#print lane_df_carrier_delay.head()\n",
    "\n",
    "# then we will do weather delays\n",
    "lane_df_weather_delay = trips['f_weather_delay'].groupby(trips['lane_pairs']).agg('sum')\n",
    "lane_df_weather_delay = pd.DataFrame(lane_df_weather_delay)\n",
    "lane_df_weather_delay.rename(columns = {0:'weather_delays'}, inplace = True)\n",
    "lane_df_weather_delay.reset_index(inplace = True)\n",
    "#lane_df_weather_delay.head()\n",
    "\n",
    "# NAS delays\n",
    "lane_df_nas_delay = trips['f_nas_delay'].groupby(trips['lane_pairs']).agg('sum')\n",
    "lane_df_nas_delay = pd.DataFrame(lane_df_nas_delay)\n",
    "lane_df_nas_delay.rename(columns = {0:'nas_delays'}, inplace = True)\n",
    "lane_df_nas_delay.reset_index(inplace = True)\n",
    "\n",
    "# security delays\n",
    "lane_df_sec_delay = trips['f_sec_delay'].groupby(trips['lane_pairs']).agg('sum')\n",
    "lane_df_sec_delay = pd.DataFrame(lane_df_sec_delay)\n",
    "lane_df_sec_delay.rename(columns = {0:'security_delays'}, inplace = True)\n",
    "lane_df_sec_delay.reset_index(inplace = True)\n",
    "\n",
    "# late aircraft delays\n",
    "lane_df_late_delay = trips['f_late_aircraft_delay'].groupby(trips['lane_pairs']).agg('sum')\n",
    "lane_df_late_delay = pd.DataFrame(lane_df_late_delay)\n",
    "lane_df_late_delay.rename(columns = {0:'late_aircraft_delays'}, inplace = True)\n",
    "lane_df_late_delay.reset_index(inplace = True)\n",
    "\n",
    "print 'length of lane pairs:', len(lane_trips)\n",
    "print 'length of carrier delays:', len(lane_df_carrier_delay)\n",
    "print 'length of weather delays:', len(lane_df_weather_delay)\n",
    "print 'length of NAS delays:', len(lane_df_nas_delay)\n",
    "print 'length of late plane delays:', len(lane_df_late_delay)\n"
   ]
  },
  {
   "cell_type": "markdown",
   "metadata": {},
   "source": [
    "## Now that they're all the same length, we can combine them all with the lane pairs"
   ]
  },
  {
   "cell_type": "code",
   "execution_count": 73,
   "metadata": {
    "collapsed": false
   },
   "outputs": [
    {
     "data": {
      "text/html": [
       "<div>\n",
       "<table border=\"1\" class=\"dataframe\">\n",
       "  <thead>\n",
       "    <tr style=\"text-align: right;\">\n",
       "      <th></th>\n",
       "      <th>lane_pairs</th>\n",
       "      <th>trip_count</th>\n",
       "      <th>carrier</th>\n",
       "      <th>weather</th>\n",
       "      <th>NAS</th>\n",
       "      <th>late_aircraft</th>\n",
       "    </tr>\n",
       "  </thead>\n",
       "  <tbody>\n",
       "    <tr>\n",
       "      <th>0</th>\n",
       "      <td>Abilene Regional-Dallas-Fort Worth International</td>\n",
       "      <td>2660</td>\n",
       "      <td>145</td>\n",
       "      <td>31</td>\n",
       "      <td>161</td>\n",
       "      <td>107</td>\n",
       "    </tr>\n",
       "    <tr>\n",
       "      <th>1</th>\n",
       "      <td>Adak-Ted Stevens Anchorage International</td>\n",
       "      <td>102</td>\n",
       "      <td>5</td>\n",
       "      <td>0</td>\n",
       "      <td>7</td>\n",
       "      <td>20</td>\n",
       "    </tr>\n",
       "    <tr>\n",
       "      <th>2</th>\n",
       "      <td>Adams -Baltimore-Washington International</td>\n",
       "      <td>366</td>\n",
       "      <td>62</td>\n",
       "      <td>5</td>\n",
       "      <td>30</td>\n",
       "      <td>87</td>\n",
       "    </tr>\n",
       "    <tr>\n",
       "      <th>3</th>\n",
       "      <td>Adams -Charlotte/Douglas International</td>\n",
       "      <td>39</td>\n",
       "      <td>1</td>\n",
       "      <td>0</td>\n",
       "      <td>0</td>\n",
       "      <td>0</td>\n",
       "    </tr>\n",
       "    <tr>\n",
       "      <th>4</th>\n",
       "      <td>Adams -Chicago Midway</td>\n",
       "      <td>383</td>\n",
       "      <td>28</td>\n",
       "      <td>4</td>\n",
       "      <td>16</td>\n",
       "      <td>49</td>\n",
       "    </tr>\n",
       "  </tbody>\n",
       "</table>\n",
       "</div>"
      ],
      "text/plain": [
       "                                         lane_pairs  trip_count  carrier  \\\n",
       "0  Abilene Regional-Dallas-Fort Worth International        2660      145   \n",
       "1          Adak-Ted Stevens Anchorage International         102        5   \n",
       "2         Adams -Baltimore-Washington International         366       62   \n",
       "3            Adams -Charlotte/Douglas International          39        1   \n",
       "4                             Adams -Chicago Midway         383       28   \n",
       "\n",
       "   weather  NAS  late_aircraft  \n",
       "0       31  161            107  \n",
       "1        0    7             20  \n",
       "2        5   30             87  \n",
       "3        0    0              0  \n",
       "4        4   16             49  "
      ]
     },
     "execution_count": 73,
     "metadata": {},
     "output_type": "execute_result"
    }
   ],
   "source": [
    "# waterfall merge since pd.merge doesn't like more than merging two dataframes at once\n",
    "df1 = pd.merge(lane_trips, lane_df_carrier_delay, on = 'lane_pairs')\n",
    "df2 = pd.merge(df1, lane_df_weather_delay, on = 'lane_pairs')\n",
    "df3 = pd.merge(df2, lane_df_nas_delay, on = 'lane_pairs')\n",
    "\n",
    "# change names so they're easier to read\n",
    "all_delays = pd.merge(df3, lane_df_late_delay, on = 'lane_pairs')\n",
    "all_delays.rename(columns = {'lane_trip_count': 'trip_count',\n",
    "                         'f_carrier_delay':'carrier',\n",
    "                         'f_weather_delay':'weather',\n",
    "                         'f_nas_delay':'NAS', \n",
    "                         'f_late_aircraft_delay':'late_aircraft'\n",
    "                        }, inplace = True)\n",
    "all_delays.head()\n"
   ]
  },
  {
   "cell_type": "code",
   "execution_count": 189,
   "metadata": {
    "collapsed": false
   },
   "outputs": [
    {
     "data": {
      "text/html": [
       "<div>\n",
       "<table border=\"1\" class=\"dataframe\">\n",
       "  <thead>\n",
       "    <tr style=\"text-align: right;\">\n",
       "      <th></th>\n",
       "      <th>lane_pairs</th>\n",
       "      <th>origin_airport</th>\n",
       "      <th>orig_state</th>\n",
       "      <th>dest_airport</th>\n",
       "      <th>dest_state</th>\n",
       "    </tr>\n",
       "  </thead>\n",
       "  <tbody>\n",
       "    <tr>\n",
       "      <th>0</th>\n",
       "      <td>Lehigh Valley International-Cleveland-Hopkins ...</td>\n",
       "      <td>Lehigh Valley International</td>\n",
       "      <td>PA</td>\n",
       "      <td>Cleveland-Hopkins Intl</td>\n",
       "      <td>OH</td>\n",
       "    </tr>\n",
       "    <tr>\n",
       "      <th>1</th>\n",
       "      <td>Lehigh Valley International-Cleveland-Hopkins ...</td>\n",
       "      <td>Lehigh Valley International</td>\n",
       "      <td>PA</td>\n",
       "      <td>Cleveland-Hopkins Intl</td>\n",
       "      <td>OH</td>\n",
       "    </tr>\n",
       "    <tr>\n",
       "      <th>2</th>\n",
       "      <td>Lehigh Valley International-Cleveland-Hopkins ...</td>\n",
       "      <td>Lehigh Valley International</td>\n",
       "      <td>PA</td>\n",
       "      <td>Cleveland-Hopkins Intl</td>\n",
       "      <td>OH</td>\n",
       "    </tr>\n",
       "    <tr>\n",
       "      <th>3</th>\n",
       "      <td>Lehigh Valley International-Cleveland-Hopkins ...</td>\n",
       "      <td>Lehigh Valley International</td>\n",
       "      <td>PA</td>\n",
       "      <td>Cleveland-Hopkins Intl</td>\n",
       "      <td>OH</td>\n",
       "    </tr>\n",
       "    <tr>\n",
       "      <th>4</th>\n",
       "      <td>Lehigh Valley International-Cleveland-Hopkins ...</td>\n",
       "      <td>Lehigh Valley International</td>\n",
       "      <td>PA</td>\n",
       "      <td>Cleveland-Hopkins Intl</td>\n",
       "      <td>OH</td>\n",
       "    </tr>\n",
       "  </tbody>\n",
       "</table>\n",
       "</div>"
      ],
      "text/plain": [
       "                                          lane_pairs  \\\n",
       "0  Lehigh Valley International-Cleveland-Hopkins ...   \n",
       "1  Lehigh Valley International-Cleveland-Hopkins ...   \n",
       "2  Lehigh Valley International-Cleveland-Hopkins ...   \n",
       "3  Lehigh Valley International-Cleveland-Hopkins ...   \n",
       "4  Lehigh Valley International-Cleveland-Hopkins ...   \n",
       "\n",
       "                origin_airport orig_state            dest_airport dest_state  \n",
       "0  Lehigh Valley International         PA  Cleveland-Hopkins Intl         OH  \n",
       "1  Lehigh Valley International         PA  Cleveland-Hopkins Intl         OH  \n",
       "2  Lehigh Valley International         PA  Cleveland-Hopkins Intl         OH  \n",
       "3  Lehigh Valley International         PA  Cleveland-Hopkins Intl         OH  \n",
       "4  Lehigh Valley International         PA  Cleveland-Hopkins Intl         OH  "
      ]
     },
     "execution_count": 189,
     "metadata": {},
     "output_type": "execute_result"
    }
   ],
   "source": [
    "flights6.head()"
   ]
  },
  {
   "cell_type": "code",
   "execution_count": 190,
   "metadata": {
    "collapsed": false
   },
   "outputs": [],
   "source": [
    "merged = pd.DataFrame(pd.merge(flights6, all_delays, on = 'lane_pairs', how = 'right'))"
   ]
  },
  {
   "cell_type": "code",
   "execution_count": 191,
   "metadata": {
    "collapsed": false
   },
   "outputs": [
    {
     "data": {
      "text/html": [
       "<div>\n",
       "<table border=\"1\" class=\"dataframe\">\n",
       "  <thead>\n",
       "    <tr style=\"text-align: right;\">\n",
       "      <th></th>\n",
       "      <th>lane_pairs</th>\n",
       "      <th>origin_airport</th>\n",
       "      <th>orig_state</th>\n",
       "      <th>dest_airport</th>\n",
       "      <th>dest_state</th>\n",
       "      <th>NAS</th>\n",
       "      <th>carrier</th>\n",
       "      <th>late_aircraft</th>\n",
       "      <th>trip_count</th>\n",
       "      <th>weather</th>\n",
       "    </tr>\n",
       "  </thead>\n",
       "  <tbody>\n",
       "    <tr>\n",
       "      <th>0</th>\n",
       "      <td>Abilene Regional-Dallas-Fort Worth International</td>\n",
       "      <td>Abilene Regional</td>\n",
       "      <td>TX</td>\n",
       "      <td>Dallas-Fort Worth International</td>\n",
       "      <td>TX</td>\n",
       "      <td>161</td>\n",
       "      <td>145</td>\n",
       "      <td>107</td>\n",
       "      <td>2660</td>\n",
       "      <td>31</td>\n",
       "    </tr>\n",
       "    <tr>\n",
       "      <th>1</th>\n",
       "      <td>Adak-Ted Stevens Anchorage International</td>\n",
       "      <td>Adak</td>\n",
       "      <td>AK</td>\n",
       "      <td>Ted Stevens Anchorage International</td>\n",
       "      <td>AK</td>\n",
       "      <td>7</td>\n",
       "      <td>5</td>\n",
       "      <td>20</td>\n",
       "      <td>102</td>\n",
       "      <td>0</td>\n",
       "    </tr>\n",
       "    <tr>\n",
       "      <th>2</th>\n",
       "      <td>Adams -Baltimore-Washington International</td>\n",
       "      <td>Adams</td>\n",
       "      <td>AR</td>\n",
       "      <td>Baltimore-Washington International</td>\n",
       "      <td>MD</td>\n",
       "      <td>30</td>\n",
       "      <td>62</td>\n",
       "      <td>87</td>\n",
       "      <td>366</td>\n",
       "      <td>5</td>\n",
       "    </tr>\n",
       "    <tr>\n",
       "      <th>3</th>\n",
       "      <td>Adams -Charlotte/Douglas International</td>\n",
       "      <td>Adams</td>\n",
       "      <td>AR</td>\n",
       "      <td>Charlotte/Douglas International</td>\n",
       "      <td>NC</td>\n",
       "      <td>0</td>\n",
       "      <td>1</td>\n",
       "      <td>0</td>\n",
       "      <td>39</td>\n",
       "      <td>0</td>\n",
       "    </tr>\n",
       "    <tr>\n",
       "      <th>4</th>\n",
       "      <td>Adams -Chicago Midway</td>\n",
       "      <td>Adams</td>\n",
       "      <td>AR</td>\n",
       "      <td>Chicago Midway</td>\n",
       "      <td>IL</td>\n",
       "      <td>16</td>\n",
       "      <td>28</td>\n",
       "      <td>49</td>\n",
       "      <td>383</td>\n",
       "      <td>4</td>\n",
       "    </tr>\n",
       "  </tbody>\n",
       "</table>\n",
       "</div>"
      ],
      "text/plain": [
       "                                         lane_pairs    origin_airport  \\\n",
       "0  Abilene Regional-Dallas-Fort Worth International  Abilene Regional   \n",
       "1          Adak-Ted Stevens Anchorage International              Adak   \n",
       "2         Adams -Baltimore-Washington International            Adams    \n",
       "3            Adams -Charlotte/Douglas International            Adams    \n",
       "4                             Adams -Chicago Midway            Adams    \n",
       "\n",
       "  orig_state                         dest_airport dest_state  NAS  carrier  \\\n",
       "0         TX      Dallas-Fort Worth International         TX  161      145   \n",
       "1         AK  Ted Stevens Anchorage International         AK    7        5   \n",
       "2         AR   Baltimore-Washington International         MD   30       62   \n",
       "3         AR      Charlotte/Douglas International         NC    0        1   \n",
       "4         AR                       Chicago Midway         IL   16       28   \n",
       "\n",
       "   late_aircraft  trip_count  weather  \n",
       "0            107        2660       31  \n",
       "1             20         102        0  \n",
       "2             87         366        5  \n",
       "3              0          39        0  \n",
       "4             49         383        4  "
      ]
     },
     "execution_count": 191,
     "metadata": {},
     "output_type": "execute_result"
    }
   ],
   "source": [
    "merged = merged.pivot_table(index=['lane_pairs','origin_airport','orig_state','dest_airport','dest_state'])\n",
    "merged = merged.reset_index()\n",
    "merged.ix[0:4]"
   ]
  },
  {
   "cell_type": "markdown",
   "metadata": {},
   "source": [
    "## Now I have a dataframe that includes delay types by states that lets me analyze those delays at the state or airport level!"
   ]
  },
  {
   "cell_type": "code",
   "execution_count": 193,
   "metadata": {
    "collapsed": true
   },
   "outputs": [],
   "source": [
    "# i'll save this to a csv for further analysis - stay tuned!\n",
    "merged.to_csv('datasets/flight_hist/cleaned_2008.csv')"
   ]
  }
 ],
 "metadata": {
  "kernelspec": {
   "display_name": "Python 2",
   "language": "python",
   "name": "python2"
  },
  "language_info": {
   "codemirror_mode": {
    "name": "ipython",
    "version": 2
   },
   "file_extension": ".py",
   "mimetype": "text/x-python",
   "name": "python",
   "nbconvert_exporter": "python",
   "pygments_lexer": "ipython2",
   "version": "2.7.11"
  }
 },
 "nbformat": 4,
 "nbformat_minor": 0
}
