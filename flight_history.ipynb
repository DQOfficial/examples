{
 "cells": [
  {
   "cell_type": "markdown",
   "metadata": {},
   "source": [
    "# US Airport Delays"
   ]
  },
  {
   "cell_type": "markdown",
   "metadata": {},
   "source": [
    "This notebook will analyze the reasons for flight cancellations and delays in 2008 \n",
    "\n",
    "[Airline Codes](http://stat-computing.org/dataexpo/2009/carriers.csv), [Airport Codes](http://stat-computing.org/dataexpo/2009/airports.csv), [Data Dictionary](http://stat-computing.org/dataexpo/2009/the-data.html)"
   ]
  },
  {
   "cell_type": "code",
   "execution_count": 109,
   "metadata": {
    "collapsed": false
   },
   "outputs": [
    {
     "name": "stdout",
     "output_type": "stream",
     "text": [
      "2.7.11 (default, Dec  5 2015, 14:44:47) \n",
      "[GCC 4.2.1 Compatible Apple LLVM 7.0.0 (clang-700.1.76)]\n",
      "Populating the interactive namespace from numpy and matplotlib\n"
     ]
    }
   ],
   "source": [
    "import pandas as pd\n",
    "import numpy as np\n",
    "import matplotlib.pyplot as plt\n",
    "import statsmodels.api as sm\n",
    "import statsmodels.formula.api as smf\n",
    "import math\n",
    "import sys\n",
    "print sys.version\n",
    "from matplotlib import style\n",
    "import urllib\n",
    "#import bz2file # so we can dowload directly from the website instead of saving the large csv files locally\n",
    "import bz2\n",
    "style.use('fivethirtyeight')\n",
    "%pylab inline"
   ]
  },
  {
   "cell_type": "code",
   "execution_count": 110,
   "metadata": {
    "collapsed": false
   },
   "outputs": [],
   "source": [
    "# # opens from link, but does not currently work\n",
    "# filename = 'datasets/temp.csv'  \n",
    "# req = urllib.urlopen('http://stat-computing.org/dataexpo/2009/2006.csv.bz2') # change year for each file\n",
    "# CHUNK = 16 * 1024\n",
    "\n",
    "# decompressor = bz2.BZ2Decompressor()\n",
    "# with open(filename, 'wb') as fp:\n",
    "#     while True:\n",
    "#         chunk = req.read(CHUNK)\n",
    "#         if not chunk:\n",
    "#             break\n",
    "#         fp.write(decompressor.decompress(chunk))\n",
    "# req.close()\n",
    "# # open the 'temp' file\n",
    "# flights = pd.read_csv('temp.csv')"
   ]
  },
  {
   "cell_type": "markdown",
   "metadata": {},
   "source": [
    "### Set year variable below:"
   ]
  },
  {
   "cell_type": "code",
   "execution_count": 111,
   "metadata": {
    "collapsed": true
   },
   "outputs": [],
   "source": [
    "year = 1996"
   ]
  },
  {
   "cell_type": "code",
   "execution_count": 112,
   "metadata": {
    "collapsed": false
   },
   "outputs": [],
   "source": [
    "# open downloaded csv file with pandas\n",
    "flights = pd.read_csv('datasets/flight_hist_raw/%d.csv.bz2' % year)"
   ]
  },
  {
   "cell_type": "code",
   "execution_count": 113,
   "metadata": {
    "collapsed": true
   },
   "outputs": [],
   "source": [
    "# open the 'temp' file\n",
    "#flights = pd.read_csv('temp.csv')"
   ]
  },
  {
   "cell_type": "code",
   "execution_count": 114,
   "metadata": {
    "collapsed": false
   },
   "outputs": [
    {
     "data": {
      "text/html": [
       "<div>\n",
       "<table border=\"1\" class=\"dataframe\">\n",
       "  <thead>\n",
       "    <tr style=\"text-align: right;\">\n",
       "      <th></th>\n",
       "      <th>Year</th>\n",
       "      <th>Month</th>\n",
       "      <th>DayofMonth</th>\n",
       "      <th>DayOfWeek</th>\n",
       "      <th>DepTime</th>\n",
       "      <th>CRSDepTime</th>\n",
       "      <th>ArrTime</th>\n",
       "      <th>CRSArrTime</th>\n",
       "      <th>UniqueCarrier</th>\n",
       "      <th>FlightNum</th>\n",
       "      <th>...</th>\n",
       "      <th>TaxiIn</th>\n",
       "      <th>TaxiOut</th>\n",
       "      <th>Cancelled</th>\n",
       "      <th>CancellationCode</th>\n",
       "      <th>Diverted</th>\n",
       "      <th>CarrierDelay</th>\n",
       "      <th>WeatherDelay</th>\n",
       "      <th>NASDelay</th>\n",
       "      <th>SecurityDelay</th>\n",
       "      <th>LateAircraftDelay</th>\n",
       "    </tr>\n",
       "  </thead>\n",
       "  <tbody>\n",
       "    <tr>\n",
       "      <th>0</th>\n",
       "      <td>1996</td>\n",
       "      <td>1</td>\n",
       "      <td>29</td>\n",
       "      <td>1</td>\n",
       "      <td>2039</td>\n",
       "      <td>1930</td>\n",
       "      <td>2245</td>\n",
       "      <td>2139</td>\n",
       "      <td>DL</td>\n",
       "      <td>345</td>\n",
       "      <td>...</td>\n",
       "      <td>6</td>\n",
       "      <td>10</td>\n",
       "      <td>0</td>\n",
       "      <td>NaN</td>\n",
       "      <td>0</td>\n",
       "      <td>NaN</td>\n",
       "      <td>NaN</td>\n",
       "      <td>NaN</td>\n",
       "      <td>NaN</td>\n",
       "      <td>NaN</td>\n",
       "    </tr>\n",
       "    <tr>\n",
       "      <th>1</th>\n",
       "      <td>1996</td>\n",
       "      <td>1</td>\n",
       "      <td>30</td>\n",
       "      <td>2</td>\n",
       "      <td>1931</td>\n",
       "      <td>1930</td>\n",
       "      <td>2142</td>\n",
       "      <td>2139</td>\n",
       "      <td>DL</td>\n",
       "      <td>345</td>\n",
       "      <td>...</td>\n",
       "      <td>5</td>\n",
       "      <td>22</td>\n",
       "      <td>0</td>\n",
       "      <td>NaN</td>\n",
       "      <td>0</td>\n",
       "      <td>NaN</td>\n",
       "      <td>NaN</td>\n",
       "      <td>NaN</td>\n",
       "      <td>NaN</td>\n",
       "      <td>NaN</td>\n",
       "    </tr>\n",
       "    <tr>\n",
       "      <th>2</th>\n",
       "      <td>1996</td>\n",
       "      <td>1</td>\n",
       "      <td>31</td>\n",
       "      <td>3</td>\n",
       "      <td>1956</td>\n",
       "      <td>1930</td>\n",
       "      <td>2231</td>\n",
       "      <td>2139</td>\n",
       "      <td>DL</td>\n",
       "      <td>345</td>\n",
       "      <td>...</td>\n",
       "      <td>7</td>\n",
       "      <td>27</td>\n",
       "      <td>0</td>\n",
       "      <td>NaN</td>\n",
       "      <td>0</td>\n",
       "      <td>NaN</td>\n",
       "      <td>NaN</td>\n",
       "      <td>NaN</td>\n",
       "      <td>NaN</td>\n",
       "      <td>NaN</td>\n",
       "    </tr>\n",
       "    <tr>\n",
       "      <th>3</th>\n",
       "      <td>1996</td>\n",
       "      <td>1</td>\n",
       "      <td>1</td>\n",
       "      <td>1</td>\n",
       "      <td>1730</td>\n",
       "      <td>1550</td>\n",
       "      <td>1909</td>\n",
       "      <td>1745</td>\n",
       "      <td>DL</td>\n",
       "      <td>411</td>\n",
       "      <td>...</td>\n",
       "      <td>4</td>\n",
       "      <td>14</td>\n",
       "      <td>0</td>\n",
       "      <td>NaN</td>\n",
       "      <td>0</td>\n",
       "      <td>NaN</td>\n",
       "      <td>NaN</td>\n",
       "      <td>NaN</td>\n",
       "      <td>NaN</td>\n",
       "      <td>NaN</td>\n",
       "    </tr>\n",
       "    <tr>\n",
       "      <th>4</th>\n",
       "      <td>1996</td>\n",
       "      <td>1</td>\n",
       "      <td>2</td>\n",
       "      <td>2</td>\n",
       "      <td>1714</td>\n",
       "      <td>1550</td>\n",
       "      <td>1841</td>\n",
       "      <td>1745</td>\n",
       "      <td>DL</td>\n",
       "      <td>411</td>\n",
       "      <td>...</td>\n",
       "      <td>4</td>\n",
       "      <td>8</td>\n",
       "      <td>0</td>\n",
       "      <td>NaN</td>\n",
       "      <td>0</td>\n",
       "      <td>NaN</td>\n",
       "      <td>NaN</td>\n",
       "      <td>NaN</td>\n",
       "      <td>NaN</td>\n",
       "      <td>NaN</td>\n",
       "    </tr>\n",
       "  </tbody>\n",
       "</table>\n",
       "<p>5 rows × 29 columns</p>\n",
       "</div>"
      ],
      "text/plain": [
       "   Year  Month  DayofMonth  DayOfWeek  DepTime  CRSDepTime  ArrTime  \\\n",
       "0  1996      1          29          1     2039        1930     2245   \n",
       "1  1996      1          30          2     1931        1930     2142   \n",
       "2  1996      1          31          3     1956        1930     2231   \n",
       "3  1996      1           1          1     1730        1550     1909   \n",
       "4  1996      1           2          2     1714        1550     1841   \n",
       "\n",
       "   CRSArrTime UniqueCarrier  FlightNum        ...         TaxiIn  TaxiOut  \\\n",
       "0        2139            DL        345        ...              6       10   \n",
       "1        2139            DL        345        ...              5       22   \n",
       "2        2139            DL        345        ...              7       27   \n",
       "3        1745            DL        411        ...              4       14   \n",
       "4        1745            DL        411        ...              4        8   \n",
       "\n",
       "   Cancelled  CancellationCode  Diverted  CarrierDelay WeatherDelay NASDelay  \\\n",
       "0          0               NaN         0           NaN          NaN      NaN   \n",
       "1          0               NaN         0           NaN          NaN      NaN   \n",
       "2          0               NaN         0           NaN          NaN      NaN   \n",
       "3          0               NaN         0           NaN          NaN      NaN   \n",
       "4          0               NaN         0           NaN          NaN      NaN   \n",
       "\n",
       "   SecurityDelay  LateAircraftDelay  \n",
       "0            NaN                NaN  \n",
       "1            NaN                NaN  \n",
       "2            NaN                NaN  \n",
       "3            NaN                NaN  \n",
       "4            NaN                NaN  \n",
       "\n",
       "[5 rows x 29 columns]"
      ]
     },
     "execution_count": 114,
     "metadata": {},
     "output_type": "execute_result"
    }
   ],
   "source": [
    "flights.head()"
   ]
  },
  {
   "cell_type": "code",
   "execution_count": 115,
   "metadata": {
    "collapsed": false
   },
   "outputs": [],
   "source": [
    "# create lane pairs to determine highest traffic routes\n",
    "flights['lanes'] = flights['Origin'] + ' - ' + flights['Dest']\n",
    "\n",
    "# # create two empty lists to store origin airports and destination airports\n",
    "# origin = []\n",
    "# dest = []\n",
    "\n",
    "# def split_col(series):\n",
    "#     for i in series:\n",
    "#         s = i.split('-') # split each pair on the dash\n",
    "#         origin.append(s[0]) # append the first value to origin\n",
    "#         dest.append(s[1]) # append the second value to destination\n",
    "        \n",
    "# # run split function on lane pair column in the merged dataframe\n",
    "# split_col(flights['lanes'])\n",
    "\n",
    "# # create new columns in merged df\n",
    "# merged['Origin'] = np.asarray(origin)\n",
    "# merged['Dest'] = np.asarray(dest)\n",
    "# merged.head()\n",
    "\n",
    "# next, let's read in some data on the airports and air carriers \n",
    "carriers = pd.read_csv('http://stat-computing.org/dataexpo/2009/carriers.csv')\n",
    "airports = pd.read_csv('http://stat-computing.org/dataexpo/2009/airports.csv')\n",
    "\n",
    "airports_orig = pd.DataFrame(airports[['iata','airport']])\n",
    "airports_orig.rename(columns = {'iata':'Origin'}, inplace = True)\n",
    "\n",
    "flights2 = pd.merge(flights,airports_orig, on ='Origin')\n",
    "flights2.rename(columns = {'airport':'origin_airport'}, inplace = True)\n",
    "flights2.columns\n",
    "\n",
    "airports_dest = pd.DataFrame(airports[['iata','airport']])\n",
    "airports_dest.rename(columns = {'iata':'Dest'}, inplace = True)\n",
    "\n",
    "flights3 = pd.merge(flights2,airports_dest, on ='Dest')\n",
    "flights3.rename(columns = {'airport':'dest_airport'}, inplace = True)\n",
    "\n",
    "# then create origin-destination pairs\n",
    "flights3['lane_pairs'] = flights3['origin_airport'] + '-' + flights3['dest_airport']"
   ]
  },
  {
   "cell_type": "code",
   "execution_count": 116,
   "metadata": {
    "collapsed": false
   },
   "outputs": [
    {
     "data": {
      "text/plain": [
       "Index([u'Year', u'Month', u'DayofMonth', u'DayOfWeek', u'DepTime',\n",
       "       u'CRSDepTime', u'ArrTime', u'CRSArrTime', u'UniqueCarrier',\n",
       "       u'FlightNum', u'TailNum', u'ActualElapsedTime', u'CRSElapsedTime',\n",
       "       u'AirTime', u'ArrDelay', u'DepDelay', u'Origin', u'Dest', u'Distance',\n",
       "       u'TaxiIn', u'TaxiOut', u'Cancelled', u'CancellationCode', u'Diverted',\n",
       "       u'CarrierDelay', u'WeatherDelay', u'NASDelay', u'SecurityDelay',\n",
       "       u'LateAircraftDelay', u'lanes', u'origin_airport', u'dest_airport',\n",
       "       u'lane_pairs'],\n",
       "      dtype='object')"
      ]
     },
     "execution_count": 116,
     "metadata": {},
     "output_type": "execute_result"
    }
   ],
   "source": [
    "flights3.columns"
   ]
  },
  {
   "cell_type": "code",
   "execution_count": 117,
   "metadata": {
    "collapsed": false
   },
   "outputs": [
    {
     "data": {
      "text/html": [
       "<div>\n",
       "<table border=\"1\" class=\"dataframe\">\n",
       "  <thead>\n",
       "    <tr style=\"text-align: right;\">\n",
       "      <th></th>\n",
       "      <th>iata</th>\n",
       "      <th>airport</th>\n",
       "      <th>city</th>\n",
       "      <th>state</th>\n",
       "      <th>country</th>\n",
       "      <th>lat</th>\n",
       "      <th>long</th>\n",
       "    </tr>\n",
       "  </thead>\n",
       "  <tbody>\n",
       "    <tr>\n",
       "      <th>0</th>\n",
       "      <td>00M</td>\n",
       "      <td>Thigpen</td>\n",
       "      <td>Bay Springs</td>\n",
       "      <td>MS</td>\n",
       "      <td>USA</td>\n",
       "      <td>31.953765</td>\n",
       "      <td>-89.234505</td>\n",
       "    </tr>\n",
       "    <tr>\n",
       "      <th>1</th>\n",
       "      <td>00R</td>\n",
       "      <td>Livingston Municipal</td>\n",
       "      <td>Livingston</td>\n",
       "      <td>TX</td>\n",
       "      <td>USA</td>\n",
       "      <td>30.685861</td>\n",
       "      <td>-95.017928</td>\n",
       "    </tr>\n",
       "    <tr>\n",
       "      <th>2</th>\n",
       "      <td>00V</td>\n",
       "      <td>Meadow Lake</td>\n",
       "      <td>Colorado Springs</td>\n",
       "      <td>CO</td>\n",
       "      <td>USA</td>\n",
       "      <td>38.945749</td>\n",
       "      <td>-104.569893</td>\n",
       "    </tr>\n",
       "    <tr>\n",
       "      <th>3</th>\n",
       "      <td>01G</td>\n",
       "      <td>Perry-Warsaw</td>\n",
       "      <td>Perry</td>\n",
       "      <td>NY</td>\n",
       "      <td>USA</td>\n",
       "      <td>42.741347</td>\n",
       "      <td>-78.052081</td>\n",
       "    </tr>\n",
       "    <tr>\n",
       "      <th>4</th>\n",
       "      <td>01J</td>\n",
       "      <td>Hilliard Airpark</td>\n",
       "      <td>Hilliard</td>\n",
       "      <td>FL</td>\n",
       "      <td>USA</td>\n",
       "      <td>30.688012</td>\n",
       "      <td>-81.905944</td>\n",
       "    </tr>\n",
       "  </tbody>\n",
       "</table>\n",
       "</div>"
      ],
      "text/plain": [
       "  iata               airport              city state country        lat  \\\n",
       "0  00M              Thigpen        Bay Springs    MS     USA  31.953765   \n",
       "1  00R  Livingston Municipal        Livingston    TX     USA  30.685861   \n",
       "2  00V           Meadow Lake  Colorado Springs    CO     USA  38.945749   \n",
       "3  01G          Perry-Warsaw             Perry    NY     USA  42.741347   \n",
       "4  01J      Hilliard Airpark          Hilliard    FL     USA  30.688012   \n",
       "\n",
       "         long  \n",
       "0  -89.234505  \n",
       "1  -95.017928  \n",
       "2 -104.569893  \n",
       "3  -78.052081  \n",
       "4  -81.905944  "
      ]
     },
     "execution_count": 117,
     "metadata": {},
     "output_type": "execute_result"
    }
   ],
   "source": [
    "# adding origin and destination state, airport codes\n",
    "airports.head()"
   ]
  },
  {
   "cell_type": "code",
   "execution_count": 118,
   "metadata": {
    "collapsed": false
   },
   "outputs": [
    {
     "data": {
      "text/plain": [
       "Index([u'Origin', u'airport_x', u'city_x', u'orig_state', u'country_x',\n",
       "       u'lat_x', u'long_x', u'Year', u'Month', u'DayofMonth', u'DayOfWeek',\n",
       "       u'DepTime', u'CRSDepTime', u'ArrTime', u'CRSArrTime', u'UniqueCarrier',\n",
       "       u'FlightNum', u'TailNum', u'ActualElapsedTime', u'CRSElapsedTime',\n",
       "       u'AirTime', u'ArrDelay', u'DepDelay', u'Dest', u'Distance', u'TaxiIn',\n",
       "       u'TaxiOut', u'Cancelled', u'CancellationCode', u'Diverted',\n",
       "       u'CarrierDelay', u'WeatherDelay', u'NASDelay', u'SecurityDelay',\n",
       "       u'LateAircraftDelay', u'lanes', u'origin_airport', u'dest_airport',\n",
       "       u'lane_pairs', u'airport_y', u'city_y', u'dest_state', u'country_y',\n",
       "       u'lat_y', u'long_y'],\n",
       "      dtype='object')"
      ]
     },
     "execution_count": 118,
     "metadata": {},
     "output_type": "execute_result"
    }
   ],
   "source": [
    "# add origin state\n",
    "orig_state = airports.rename(columns = {'iata':'Origin'})\n",
    "orig_state2 = pd.merge(orig_state, flights3, on = 'Origin')\n",
    "orig_state2.rename(columns = {'state':'orig_state'}, inplace = True)\n",
    "#orig_state2.columns\n",
    "\n",
    "\n",
    "# add destination state\n",
    "dest_state = airports.rename(columns = {'iata':'Dest'})\n",
    "dest_state2 = pd.merge(orig_state2,dest_state, on = 'Dest')\n",
    "dest_state2.rename(columns = {'state':'dest_state'}, inplace = True)\n",
    "\n",
    "dest_state2.columns"
   ]
  },
  {
   "cell_type": "code",
   "execution_count": 119,
   "metadata": {
    "collapsed": false
   },
   "outputs": [
    {
     "data": {
      "text/plain": [
       "Index([u'Origin', u'airport_x', u'city_x', u'orig_state', u'country_x',\n",
       "       u'lat_x', u'long_x', u'Year', u'Month', u'DayofMonth', u'DayOfWeek',\n",
       "       u'DepTime', u'CRSDepTime', u'ArrTime', u'CRSArrTime', u'UniqueCarrier',\n",
       "       u'FlightNum', u'TailNum', u'ActualElapsedTime', u'CRSElapsedTime',\n",
       "       u'AirTime', u'ArrDelay', u'DepDelay', u'Dest', u'Distance', u'TaxiIn',\n",
       "       u'TaxiOut', u'Cancelled', u'CancellationCode', u'Diverted',\n",
       "       u'CarrierDelay', u'WeatherDelay', u'NASDelay', u'SecurityDelay',\n",
       "       u'LateAircraftDelay', u'lanes', u'origin_airport', u'dest_airport',\n",
       "       u'lane_pairs', u'airport_y', u'city_y', u'dest_state', u'country_y',\n",
       "       u'lat_y', u'long_y'],\n",
       "      dtype='object')"
      ]
     },
     "execution_count": 119,
     "metadata": {},
     "output_type": "execute_result"
    }
   ],
   "source": [
    "# rename fully merged dataframe for cleaner replication\n",
    "flights5 = dest_state2\n",
    "flights5.columns"
   ]
  },
  {
   "cell_type": "code",
   "execution_count": 120,
   "metadata": {
    "collapsed": false
   },
   "outputs": [],
   "source": [
    "# # first create a bar graph of the types of cancellations by type\n",
    "# # the four categories are broken down as follows: A = carrier, B = weather, C = NAS, D = security\n",
    "# c_code = {'CancellationCode':['A','B','C','D']}\n",
    "\n",
    "# cancellations = flights['FlightNum'].groupby(flights['CancellationCode']).count()\n",
    "# cancellations = pd.DataFrame(cancellations)\n",
    "# cancellations.reset_index('CancellationCode', inplace = True)\n",
    "# cancellations.rename(columns = {0:'cancellation_count'}, inplace = True)\n",
    "# cancellations\n"
   ]
  },
  {
   "cell_type": "code",
   "execution_count": 121,
   "metadata": {
    "collapsed": false
   },
   "outputs": [],
   "source": [
    "# # calculate the average duration of each delay by type\n",
    "# # first, carrier delays\n",
    "# a_delay = flights['CarrierDelay'].mean()\n",
    "# b_delay = flights['WeatherDelay'].mean()\n",
    "# c_delay = flights['NASDelay'].mean()\n",
    "# d_delay = flights['SecurityDelay'].mean()\n",
    "# l_delay = flights['LateAircraftDelay'].mean()\n",
    "\n",
    "# delay_dict = {'Carrier' : [a_delay], \n",
    "#               'Weather' : [b_delay], \n",
    "#               'NAS' : [c_delay], \n",
    "#               'Security' : [d_delay], \n",
    "#               'Late Plane' : [l_delay]\n",
    "#              }\n",
    "\n",
    "# delays = [a_delay, b_delay, c_delay, d_delay]\n",
    "# delays = pd.DataFrame(delays)\n",
    "# delays.rename(columns = {0:'avg_delay'}, inplace = True)\n",
    "# delays['CancellationCode'] = ['A','B','C','D']\n",
    "# # delays.set_index([['A','B','C','D']], inplace = True)\n",
    "# # delays.reset_index()\n",
    "# delays"
   ]
  },
  {
   "cell_type": "code",
   "execution_count": 122,
   "metadata": {
    "collapsed": false
   },
   "outputs": [],
   "source": [
    "# # now merge delay counts and average delay dataframes\n",
    "# cancel_info = pd.merge(delays,cancellations, on = 'CancellationCode')\n",
    "# cancel_info['category'] = ['Carrier','Weather','NAS','Security']\n",
    "# cancel_info.set_index('CancellationCode', inplace = True)\n",
    "# cancel_info.reset_index('CancellationCode', inplace = True)\n",
    "# cancel_info.rename(columns = {'avg_delay':'avg_delay_min'}, inplace = True) # rename avg_delay to denote minutes\n",
    "# cancel_info.head()"
   ]
  },
  {
   "cell_type": "code",
   "execution_count": 123,
   "metadata": {
    "collapsed": false
   },
   "outputs": [],
   "source": [
    "# # before graphing, set the category to the index for better xlabels\n",
    "# cancel_info.set_index('category', inplace = True)\n",
    "# cancel_info.cancellation_count.plot(kind = 'bar')\n",
    "# plt.xlabel('Cancellation Code')\n",
    "# plt.ylabel('Number of Flights')\n",
    "# plt.title('Causes for Flight Cancellations in 2008')"
   ]
  },
  {
   "cell_type": "code",
   "execution_count": 124,
   "metadata": {
    "collapsed": false
   },
   "outputs": [],
   "source": [
    "# # since there is no record for cancellations due to late airplaces, we will have to measure the delays separately\n",
    "# delays = pd.DataFrame.from_dict(delay_dict)\n",
    "# delays = delays.T\n",
    "# delays.rename(columns = {0:'avg_delay_min'}, inplace = True)\n",
    "# delays.head()"
   ]
  },
  {
   "cell_type": "code",
   "execution_count": 125,
   "metadata": {
    "collapsed": false
   },
   "outputs": [],
   "source": [
    "# delays['avg_delay_min'].plot(kind = 'bar')\n",
    "# plt.title('Causes for Flight Delays in 2008')\n",
    "# plt.xlabel('Causes')\n",
    "# plt.ylabel('Average Delay in Minutes')"
   ]
  },
  {
   "cell_type": "code",
   "execution_count": 126,
   "metadata": {
    "collapsed": false
   },
   "outputs": [],
   "source": [
    "# create a unique value (index-like) for the dataframe by resetting the index, then using that value as a key\n",
    "# flights.reset_index(inplace = True)"
   ]
  },
  {
   "cell_type": "code",
   "execution_count": 127,
   "metadata": {
    "collapsed": false
   },
   "outputs": [],
   "source": [
    "# since counting the number of occurrences of each delay and keeping them in dataframes of the same length is a pain\n",
    "# i'm going to do that another way: creating a column of 1s whenever there's an occurrence for each delay type\n",
    "\n",
    "my_list = []\n",
    "\n",
    "def delay_flag(series):\n",
    "    for i in series:\n",
    "        if math.isnan(i) == True or i == 0.0: \n",
    "        # use math module to determine if value is nan -> numpy doesn't necessarily work\n",
    "        # use floats because the dtype is float64 (seen at the beginning)\n",
    "            my_list.append(0) # return 0 if it's zero or nan\n",
    "        else:\n",
    "            my_list.append(1) # otherwise return 1 so we can count them later"
   ]
  },
  {
   "cell_type": "code",
   "execution_count": 128,
   "metadata": {
    "collapsed": false
   },
   "outputs": [],
   "source": [
    "# create flag variables for each delay type, then append them to the flights5 dataframe\n",
    "\n",
    "my_list = []\n",
    "delay_flag(flights5['CarrierDelay'])\n",
    "flights5['f_carrier_delay'] = np.asarray(my_list)\n",
    "\n",
    "my_list = []\n",
    "delay_flag(flights5['WeatherDelay'])\n",
    "flights5['f_weather_delay'] = np.asarray(my_list)\n",
    "\n",
    "my_list = []\n",
    "delay_flag(flights5['NASDelay'])\n",
    "flights5['f_nas_delay'] = np.asarray(my_list)\n",
    "\n",
    "my_list = []\n",
    "delay_flag(flights5['SecurityDelay'])\n",
    "flights5['f_sec_delay'] = np.asarray(my_list)\n",
    "\n",
    "my_list = []\n",
    "delay_flag(flights5['LateAircraftDelay'])\n",
    "flights5['f_late_aircraft_delay'] = np.asarray(my_list)"
   ]
  },
  {
   "cell_type": "code",
   "execution_count": 129,
   "metadata": {
    "collapsed": false
   },
   "outputs": [],
   "source": [
    "#flights5.columns"
   ]
  },
  {
   "cell_type": "code",
   "execution_count": 130,
   "metadata": {
    "collapsed": false
   },
   "outputs": [],
   "source": [
    "# # change my_list to numpy array - TEST\n",
    "\n",
    "# df = pd.DataFrame(np.random.random_integers(0,25,100))\n",
    "# df.rename(columns = {0:'test'}, inplace = True)\n",
    "# df['my_list'] = np.asarray(my_list)\n",
    "# df.head()"
   ]
  },
  {
   "cell_type": "code",
   "execution_count": 131,
   "metadata": {
    "collapsed": false
   },
   "outputs": [],
   "source": [
    "# create lane pairs to determine highest traffic routes\n",
    "# flights['lanes'] = flights['Origin'] + ' - ' + flights['Dest']"
   ]
  },
  {
   "cell_type": "code",
   "execution_count": 132,
   "metadata": {
    "collapsed": false
   },
   "outputs": [
    {
     "name": "stdout",
     "output_type": "stream",
     "text": [
      "       lane_trip_count\n",
      "count      3189.000000\n",
      "mean       1678.263719\n",
      "std        1849.340103\n",
      "min           1.000000\n",
      "25%         541.000000\n",
      "50%        1095.000000\n",
      "75%        2181.000000\n",
      "max       17772.000000\n",
      "\n",
      "                                 lane_pairs  lane_trip_count\n",
      "0                     Adams -Chicago Midway              364\n",
      "1  Adams -Cincinnati Northern Kentucky Intl              708\n",
      "2                       Adams -Dallas Love              2605\n",
      "3    Adams -Dallas-Fort Worth International             2191\n",
      "4                        Adams -Denver Intl               97\n"
     ]
    }
   ],
   "source": [
    "# group number of trips (using flight number) by lane pairs\n",
    "lane_trips = flights5['FlightNum'].groupby(flights5['lane_pairs']).agg('count')\n",
    "lane_trips = pd.DataFrame(lane_trips)\n",
    "lane_trips.rename(columns = {0:'lane_trip_count'}, inplace = True)\n",
    "lane_trips.reset_index(inplace = True)\n",
    "\n",
    "print lane_trips.describe()\n",
    "print ''\n",
    "print lane_trips.head()"
   ]
  },
  {
   "cell_type": "code",
   "execution_count": 133,
   "metadata": {
    "collapsed": false
   },
   "outputs": [],
   "source": [
    "# create a stripped down of flights5 with desired columns to merge into lane_df_trips\n",
    "flights6 = pd.DataFrame(flights5[['lane_pairs',\n",
    "                     'origin_airport',\n",
    "                     'orig_state',\n",
    "                     'dest_airport',\n",
    "                     'dest_state',]])"
   ]
  },
  {
   "cell_type": "code",
   "execution_count": 134,
   "metadata": {
    "collapsed": false
   },
   "outputs": [],
   "source": [
    "#flights6.head()"
   ]
  },
  {
   "cell_type": "code",
   "execution_count": 135,
   "metadata": {
    "collapsed": true
   },
   "outputs": [],
   "source": [
    "trips = flights5"
   ]
  },
  {
   "cell_type": "code",
   "execution_count": 136,
   "metadata": {
    "collapsed": false,
    "scrolled": false
   },
   "outputs": [
    {
     "name": "stdout",
     "output_type": "stream",
     "text": [
      "length of lane pairs: 3189\n",
      "length of carrier delays: 3189\n",
      "length of weather delays: 3189\n",
      "length of NAS delays: 3189\n",
      "length of late plane delays: 3189\n"
     ]
    }
   ],
   "source": [
    "# then group lane pairs by each type of delay\n",
    "# i'm filtering the columns to exclude NaNs instead of values greater than 0 \n",
    "# because 0 returns each series with a different length, making them difficult to merge\n",
    "\n",
    "# first we'll do carrier delays\n",
    "lane_df_carrier_delay = trips['f_carrier_delay'].groupby(trips['lane_pairs']).agg('sum')\n",
    "lane_df_carrier_delay = pd.DataFrame(lane_df_carrier_delay)\n",
    "lane_df_carrier_delay.rename(columns = {0:'carrier_delays'}, inplace = True)\n",
    "lane_df_carrier_delay.reset_index(inplace = True)\n",
    "#print lane_df_carrier_delay.head()\n",
    "\n",
    "# then we will do weather delays\n",
    "lane_df_weather_delay = trips['f_weather_delay'].groupby(trips['lane_pairs']).agg('sum')\n",
    "lane_df_weather_delay = pd.DataFrame(lane_df_weather_delay)\n",
    "lane_df_weather_delay.rename(columns = {0:'weather_delays'}, inplace = True)\n",
    "lane_df_weather_delay.reset_index(inplace = True)\n",
    "#lane_df_weather_delay.head()\n",
    "\n",
    "# NAS delays\n",
    "lane_df_nas_delay = trips['f_nas_delay'].groupby(trips['lane_pairs']).agg('sum')\n",
    "lane_df_nas_delay = pd.DataFrame(lane_df_nas_delay)\n",
    "lane_df_nas_delay.rename(columns = {0:'nas_delays'}, inplace = True)\n",
    "lane_df_nas_delay.reset_index(inplace = True)\n",
    "\n",
    "# security delays\n",
    "lane_df_sec_delay = trips['f_sec_delay'].groupby(trips['lane_pairs']).agg('sum')\n",
    "lane_df_sec_delay = pd.DataFrame(lane_df_sec_delay)\n",
    "lane_df_sec_delay.rename(columns = {0:'security_delays'}, inplace = True)\n",
    "lane_df_sec_delay.reset_index(inplace = True)\n",
    "\n",
    "# late aircraft delays\n",
    "lane_df_late_delay = trips['f_late_aircraft_delay'].groupby(trips['lane_pairs']).agg('sum')\n",
    "lane_df_late_delay = pd.DataFrame(lane_df_late_delay)\n",
    "lane_df_late_delay.rename(columns = {0:'late_aircraft_delays'}, inplace = True)\n",
    "lane_df_late_delay.reset_index(inplace = True)\n",
    "\n",
    "print 'length of lane pairs:', len(lane_trips)\n",
    "print 'length of carrier delays:', len(lane_df_carrier_delay)\n",
    "print 'length of weather delays:', len(lane_df_weather_delay)\n",
    "print 'length of NAS delays:', len(lane_df_nas_delay)\n",
    "print 'length of late plane delays:', len(lane_df_late_delay)\n"
   ]
  },
  {
   "cell_type": "markdown",
   "metadata": {},
   "source": [
    "## Now that they're all the same length, we can combine them all with the lane pairs"
   ]
  },
  {
   "cell_type": "code",
   "execution_count": 137,
   "metadata": {
    "collapsed": false
   },
   "outputs": [],
   "source": [
    "# waterfall merge since pd.merge doesn't like more than merging two dataframes at once\n",
    "df1 = pd.merge(lane_trips, lane_df_carrier_delay, on = 'lane_pairs')\n",
    "df2 = pd.merge(df1, lane_df_weather_delay, on = 'lane_pairs')\n",
    "df3 = pd.merge(df2, lane_df_nas_delay, on = 'lane_pairs')\n",
    "\n",
    "# change names so they're easier to read\n",
    "all_delays = pd.merge(df3, lane_df_late_delay, on = 'lane_pairs')\n",
    "all_delays.rename(columns = {'lane_trip_count': 'trip_count',\n",
    "                         'f_carrier_delay':'carrier',\n",
    "                         'f_weather_delay':'weather',\n",
    "                         'f_nas_delay':'NAS', \n",
    "                         'f_late_aircraft_delay':'late_aircraft'\n",
    "                        }, inplace = True)\n",
    "#all_delays.head()\n"
   ]
  },
  {
   "cell_type": "code",
   "execution_count": 138,
   "metadata": {
    "collapsed": false
   },
   "outputs": [],
   "source": [
    "merged = pd.DataFrame(pd.merge(flights6, all_delays, on = 'lane_pairs', how = 'right'))"
   ]
  },
  {
   "cell_type": "code",
   "execution_count": 139,
   "metadata": {
    "collapsed": false
   },
   "outputs": [
    {
     "data": {
      "text/html": [
       "<div>\n",
       "<table border=\"1\" class=\"dataframe\">\n",
       "  <thead>\n",
       "    <tr style=\"text-align: right;\">\n",
       "      <th></th>\n",
       "      <th>lane_pairs</th>\n",
       "      <th>origin_airport</th>\n",
       "      <th>orig_state</th>\n",
       "      <th>dest_airport</th>\n",
       "      <th>dest_state</th>\n",
       "      <th>NAS</th>\n",
       "      <th>carrier</th>\n",
       "      <th>late_aircraft</th>\n",
       "      <th>trip_count</th>\n",
       "      <th>weather</th>\n",
       "      <th>year</th>\n",
       "    </tr>\n",
       "  </thead>\n",
       "  <tbody>\n",
       "    <tr>\n",
       "      <th>0</th>\n",
       "      <td>Adams -Chicago Midway</td>\n",
       "      <td>Adams</td>\n",
       "      <td>AR</td>\n",
       "      <td>Chicago Midway</td>\n",
       "      <td>IL</td>\n",
       "      <td>0</td>\n",
       "      <td>0</td>\n",
       "      <td>0</td>\n",
       "      <td>364</td>\n",
       "      <td>0</td>\n",
       "      <td>1996</td>\n",
       "    </tr>\n",
       "    <tr>\n",
       "      <th>1</th>\n",
       "      <td>Adams -Cincinnati Northern Kentucky Intl</td>\n",
       "      <td>Adams</td>\n",
       "      <td>AR</td>\n",
       "      <td>Cincinnati Northern Kentucky Intl</td>\n",
       "      <td>KY</td>\n",
       "      <td>0</td>\n",
       "      <td>0</td>\n",
       "      <td>0</td>\n",
       "      <td>708</td>\n",
       "      <td>0</td>\n",
       "      <td>1996</td>\n",
       "    </tr>\n",
       "    <tr>\n",
       "      <th>2</th>\n",
       "      <td>Adams -Dallas Love</td>\n",
       "      <td>Adams</td>\n",
       "      <td>AR</td>\n",
       "      <td>Dallas Love</td>\n",
       "      <td>TX</td>\n",
       "      <td>0</td>\n",
       "      <td>0</td>\n",
       "      <td>0</td>\n",
       "      <td>2605</td>\n",
       "      <td>0</td>\n",
       "      <td>1996</td>\n",
       "    </tr>\n",
       "    <tr>\n",
       "      <th>3</th>\n",
       "      <td>Adams -Dallas-Fort Worth International</td>\n",
       "      <td>Adams</td>\n",
       "      <td>AR</td>\n",
       "      <td>Dallas-Fort Worth International</td>\n",
       "      <td>TX</td>\n",
       "      <td>0</td>\n",
       "      <td>0</td>\n",
       "      <td>0</td>\n",
       "      <td>2191</td>\n",
       "      <td>0</td>\n",
       "      <td>1996</td>\n",
       "    </tr>\n",
       "    <tr>\n",
       "      <th>4</th>\n",
       "      <td>Adams -Denver Intl</td>\n",
       "      <td>Adams</td>\n",
       "      <td>AR</td>\n",
       "      <td>Denver Intl</td>\n",
       "      <td>CO</td>\n",
       "      <td>0</td>\n",
       "      <td>0</td>\n",
       "      <td>0</td>\n",
       "      <td>97</td>\n",
       "      <td>0</td>\n",
       "      <td>1996</td>\n",
       "    </tr>\n",
       "  </tbody>\n",
       "</table>\n",
       "</div>"
      ],
      "text/plain": [
       "                                 lane_pairs origin_airport orig_state  \\\n",
       "0                     Adams -Chicago Midway         Adams          AR   \n",
       "1  Adams -Cincinnati Northern Kentucky Intl         Adams          AR   \n",
       "2                       Adams -Dallas Love          Adams          AR   \n",
       "3    Adams -Dallas-Fort Worth International         Adams          AR   \n",
       "4                        Adams -Denver Intl         Adams          AR   \n",
       "\n",
       "                        dest_airport dest_state  NAS  carrier  late_aircraft  \\\n",
       "0                     Chicago Midway         IL    0        0              0   \n",
       "1  Cincinnati Northern Kentucky Intl         KY    0        0              0   \n",
       "2                       Dallas Love          TX    0        0              0   \n",
       "3    Dallas-Fort Worth International         TX    0        0              0   \n",
       "4                        Denver Intl         CO    0        0              0   \n",
       "\n",
       "   trip_count  weather  year  \n",
       "0         364        0  1996  \n",
       "1         708        0  1996  \n",
       "2        2605        0  1996  \n",
       "3        2191        0  1996  \n",
       "4          97        0  1996  "
      ]
     },
     "execution_count": 139,
     "metadata": {},
     "output_type": "execute_result"
    }
   ],
   "source": [
    "merged = merged.pivot_table(index=['lane_pairs','origin_airport','orig_state','dest_airport','dest_state'])\n",
    "merged = merged.reset_index()\n",
    "# add column of current year\n",
    "merged['year'] = year\n",
    "merged.ix[0:4]"
   ]
  },
  {
   "cell_type": "markdown",
   "metadata": {},
   "source": [
    "## Now I have a dataframe that includes delay types by states that lets me analyze those delays at the state or airport level!"
   ]
  },
  {
   "cell_type": "code",
   "execution_count": 140,
   "metadata": {
    "collapsed": true
   },
   "outputs": [],
   "source": [
    "# i'll save this to a pickle for further analysis\n",
    "merged.to_pickle('datasets/flight_hist_pickle/cleaned_%d.pickle' % year )"
   ]
  }
 ],
 "metadata": {
  "kernelspec": {
   "display_name": "Python 2",
   "language": "python",
   "name": "python2"
  },
  "language_info": {
   "codemirror_mode": {
    "name": "ipython",
    "version": 2
   },
   "file_extension": ".py",
   "mimetype": "text/x-python",
   "name": "python",
   "nbconvert_exporter": "python",
   "pygments_lexer": "ipython2",
   "version": "2.7.11"
  }
 },
 "nbformat": 4,
 "nbformat_minor": 0
}
