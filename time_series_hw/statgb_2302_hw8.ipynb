{
 "cells": [
  {
   "cell_type": "code",
   "execution_count": 1,
   "metadata": {
    "collapsed": false
   },
   "outputs": [
    {
     "name": "stdout",
     "output_type": "stream",
     "text": [
      "2.7.11 (default, Dec  5 2015, 14:44:47) \n",
      "[GCC 4.2.1 Compatible Apple LLVM 7.0.0 (clang-700.1.76)]\n",
      "Populating the interactive namespace from numpy and matplotlib\n"
     ]
    },
    {
     "name": "stderr",
     "output_type": "stream",
     "text": [
      "/usr/local/lib/python2.7/site-packages/matplotlib/__init__.py:872: UserWarning: axes.color_cycle is deprecated and replaced with axes.prop_cycle; please use the latter.\n",
      "  warnings.warn(self.msg_depr % (key, alt_key))\n"
     ]
    }
   ],
   "source": [
    "import pandas as pd\n",
    "import numpy as np\n",
    "import matplotlib.pyplot as plt\n",
    "from pandas.tools.plotting import autocorrelation_plot\n",
    "from statsmodels.graphics.tsaplots import plot_pacf\n",
    "from statsmodels.tsa.arima_model import ARIMA, ARMAResults, ARIMAResults\n",
    "from matplotlib.pyplot import acorr\n",
    "import sys\n",
    "print sys.version\n",
    "import seaborn as sns\n",
    "from statsmodels.tsa.stattools import adfuller\n",
    "%pylab inline"
   ]
  },
  {
   "cell_type": "code",
   "execution_count": 2,
   "metadata": {
    "collapsed": false
   },
   "outputs": [
    {
     "data": {
      "text/html": [
       "<div>\n",
       "<table border=\"1\" class=\"dataframe\">\n",
       "  <thead>\n",
       "    <tr style=\"text-align: right;\">\n",
       "      <th></th>\n",
       "      <th>Date</th>\n",
       "      <th>Rupee</th>\n",
       "    </tr>\n",
       "  </thead>\n",
       "  <tbody>\n",
       "    <tr>\n",
       "      <th>0</th>\n",
       "      <td>2002-07-01</td>\n",
       "      <td>48.86</td>\n",
       "    </tr>\n",
       "    <tr>\n",
       "      <th>1</th>\n",
       "      <td>2002-07-02</td>\n",
       "      <td>48.87</td>\n",
       "    </tr>\n",
       "    <tr>\n",
       "      <th>2</th>\n",
       "      <td>2002-07-03</td>\n",
       "      <td>48.83</td>\n",
       "    </tr>\n",
       "    <tr>\n",
       "      <th>3</th>\n",
       "      <td>2002-07-05</td>\n",
       "      <td>48.86</td>\n",
       "    </tr>\n",
       "    <tr>\n",
       "      <th>4</th>\n",
       "      <td>2002-07-08</td>\n",
       "      <td>48.84</td>\n",
       "    </tr>\n",
       "  </tbody>\n",
       "</table>\n",
       "</div>"
      ],
      "text/plain": [
       "        Date  Rupee\n",
       "0 2002-07-01  48.86\n",
       "1 2002-07-02  48.87\n",
       "2 2002-07-03  48.83\n",
       "3 2002-07-05  48.86\n",
       "4 2002-07-08  48.84"
      ]
     },
     "execution_count": 2,
     "metadata": {},
     "output_type": "execute_result"
    }
   ],
   "source": [
    "# first read in data\n",
    "data = pd.read_csv('http://people.stern.nyu.edu/churvich/Forecasting/Data/Rupee.CSV')\n",
    "data['Date'] = pd.to_datetime(data.Date)\n",
    "data.head()"
   ]
  },
  {
   "cell_type": "markdown",
   "metadata": {},
   "source": [
    "## Question 1 - Plot the logs of the Rupee"
   ]
  },
  {
   "cell_type": "code",
   "execution_count": 3,
   "metadata": {
    "collapsed": false
   },
   "outputs": [
    {
     "name": "stdout",
     "output_type": "stream",
     "text": [
      "        Date  Rupee  log_rupee  diff_log_rupee\n",
      "0 2002-07-01  48.86   3.888959       -0.000205\n",
      "1 2002-07-02  48.87   3.889164        0.000819\n",
      "2 2002-07-03  48.83   3.888345       -0.000614\n",
      "3 2002-07-05  48.86   3.888959        0.000409\n",
      "4 2002-07-08  48.84   3.888550        0.000410\n",
      "           Date  Rupee  log_rupee  diff_log_rupee\n",
      "2229 2011-04-01  44.44   3.794140        0.002478\n",
      "2230 2011-04-04  44.33   3.791662        0.000226\n",
      "2231 2011-04-05  44.32   3.791436        0.006111\n",
      "2232 2011-04-06  44.05   3.785325       -0.002268\n",
      "2233 2011-04-07  44.15   3.787593        0.000906\n"
     ]
    }
   ],
   "source": [
    "data['log_rupee'] = [np.log(i) for i in data.Rupee]\n",
    "data['diff_log_rupee'] = data.log_rupee - data.log_rupee.shift(periods = -1)\n",
    "data = data.dropna()\n",
    "print data.head()\n",
    "print data.tail()"
   ]
  },
  {
   "cell_type": "code",
   "execution_count": 4,
   "metadata": {
    "collapsed": false
   },
   "outputs": [
    {
     "data": {
      "text/plain": [
       "<matplotlib.text.Text at 0x111bc4bd0>"
      ]
     },
     "execution_count": 4,
     "metadata": {},
     "output_type": "execute_result"
    },
    {
     "data": {
      "image/png": "[encoded data removed]",
      "text/plain": [
       "<matplotlib.figure.Figure at 0x111b6bf50>"
      ]
     },
     "metadata": {},
     "output_type": "display_data"
    }
   ],
   "source": [
    "fig, ax = plt.subplots(figsize = (12,4))\n",
    "plt.plot(data.Date, data.diff_log_rupee)\n",
    "plt.title('Difference of Log of Rupee', fontsize = 18)\n",
    "plt.xlabel('Time', fontsize = 15)\n",
    "plt.ylabel('Log Rupee', fontsize = 15)"
   ]
  },
  {
   "cell_type": "code",
   "execution_count": 5,
   "metadata": {
    "collapsed": false
   },
   "outputs": [
    {
     "data": {
      "text/plain": [
       "<matplotlib.text.Text at 0x112108290>"
      ]
     },
     "execution_count": 5,
     "metadata": {},
     "output_type": "execute_result"
    },
    {
     "data": {
      "image/png": "[encoded data removed]",
      "text/plain": [
       "<matplotlib.figure.Figure at 0x111e85690>"
      ]
     },
     "metadata": {},
     "output_type": "display_data"
    }
   ],
   "source": [
    "fig, ax = plt.subplots(figsize = (15,9))\n",
    "\n",
    "plt.subplot(311)\n",
    "data.Rupee.plot()\n",
    "plt.title('Rupee Value', fontsize = 18)\n",
    "plt.xlabel('Time', fontsize = 12)\n",
    "plt.ylabel('Rupee Value', fontsize =12)\n",
    "\n",
    "plt.subplot(312)\n",
    "data.log_rupee.plot()\n",
    "plt.title('Log of Rupee Value', fontsize = 18)\n",
    "plt.xlabel('Time', fontsize = 12)\n",
    "plt.ylabel('Log of Rupee Value', fontsize =12)\n",
    "\n",
    "plt.subplot(313)\n",
    "data.diff_log_rupee.plot()\n",
    "plt.title('Difference of the Log of Rupee Value', fontsize = 18)\n",
    "plt.xlabel('Time', fontsize = 12)\n",
    "plt.ylabel('Difference of the Log of Rupee Value', fontsize =12)"
   ]
  },
  {
   "cell_type": "code",
   "execution_count": 6,
   "metadata": {
    "collapsed": false
   },
   "outputs": [
    {
     "data": {
      "text/plain": [
       "<matplotlib.text.Text at 0x1128eb890>"
      ]
     },
     "execution_count": 6,
     "metadata": {},
     "output_type": "execute_result"
    },
    {
     "data": {
      "image/png": "[encoded data removed]",
      "text/plain": [
       "<matplotlib.figure.Figure at 0x10b1e8750>"
      ]
     },
     "metadata": {},
     "output_type": "display_data"
    },
    {
     "data": {
      "image/png": "[encoded data removed]",
      "text/plain": [
       "<matplotlib.figure.Figure at 0x10a160f90>"
      ]
     },
     "metadata": {},
     "output_type": "display_data"
    }
   ],
   "source": [
    "# plot the PACF\n",
    "plot_pacf(data.log_rupee, lags = 25)\n",
    "plt.xlabel('Lag', fontsize = 14)\n",
    "plt.ylabel('Autocorrelation', fontsize = 14)\n",
    "plt.title('PACF of Log Rupee', fontsize = 17)\n",
    "\n",
    "plot_pacf(data.diff_log_rupee, lags = 25)\n",
    "plt.xlabel('Lag', fontsize = 14)\n",
    "plt.ylabel('Autocorrelation', fontsize = 14)\n",
    "plt.title('PACF of Diff Log Rupee', fontsize = 17)"
   ]
  },
  {
   "cell_type": "code",
   "execution_count": 7,
   "metadata": {
    "collapsed": false
   },
   "outputs": [
    {
     "data": {
      "text/plain": [
       "<matplotlib.text.Text at 0x112ab1fd0>"
      ]
     },
     "execution_count": 7,
     "metadata": {},
     "output_type": "execute_result"
    },
    {
     "data": {
      "image/png": "[encoded data removed]",
      "text/plain": [
       "<matplotlib.figure.Figure at 0x1120d6790>"
      ]
     },
     "metadata": {},
     "output_type": "display_data"
    }
   ],
   "source": [
    "# then plot the ACF of log rupee\n",
    "autocorrelation_plot(data.log_rupee)\n",
    "plt.xlabel('Lag', fontsize = 14)\n",
    "plt.ylabel('Autocorrelation', fontsize = 14)\n",
    "plt.title('ACF of Log Rupee', fontsize= 16)"
   ]
  },
  {
   "cell_type": "code",
   "execution_count": 8,
   "metadata": {
    "collapsed": false
   },
   "outputs": [
    {
     "data": {
      "text/plain": [
       "<matplotlib.text.Text at 0x112c0f9d0>"
      ]
     },
     "execution_count": 8,
     "metadata": {},
     "output_type": "execute_result"
    },
    {
     "data": {
      "image/png": "[encoded data removed]",
      "text/plain": [
       "<matplotlib.figure.Figure at 0x112a94410>"
      ]
     },
     "metadata": {},
     "output_type": "display_data"
    }
   ],
   "source": [
    "# then plot the ACF of the diff log rupee\n",
    "autocorrelation_plot(data.diff_log_rupee)\n",
    "plt.xlabel('Lag', fontsize = 14)\n",
    "plt.ylabel('Autocorrelation', fontsize = 14)\n",
    "plt.title('ACF of Diff Log Rupee', fontsize= 16)"
   ]
  },
  {
   "cell_type": "code",
   "execution_count": 9,
   "metadata": {
    "collapsed": false
   },
   "outputs": [
    {
     "name": "stdout",
     "output_type": "stream",
     "text": [
      "Results of Dickey-Fuller Test:\n",
      "Test Statistic                  -49.545412\n",
      "p-value                           0.000000\n",
      "# Lags Used                       0.000000\n",
      "Number of Observations Used    2233.000000\n",
      "Critical Value (5%)              -2.862835\n",
      "Critical Value (1%)              -3.433282\n",
      "Critical Value (10%)             -2.567460\n",
      "dtype: float64\n"
     ]
    }
   ],
   "source": [
    "#Perform Dickey-Fuller test:\n",
    "print 'Results of Dickey-Fuller Test:'\n",
    "dftest = adfuller(data.diff_log_rupee, autolag='AIC')\n",
    "dfoutput = pd.Series(dftest[0:4], index=['Test Statistic','p-value','# Lags Used','Number of Observations Used'])\n",
    "for key,value in dftest[4].items():\n",
    "   dfoutput['Critical Value (%s)'%key] = value\n",
    "print dfoutput"
   ]
  },
  {
   "cell_type": "markdown",
   "metadata": {},
   "source": [
    "Based on the results of the Augmented Dickey-Fuller (ADF) test, we can confidently say that this time series is stationary. We can conclude this because the ADF Test Statistic of -49 is less than the critical value at 1%, meaning that we are 99% confident that the time series is stationary."
   ]
  },
  {
   "cell_type": "markdown",
   "metadata": {},
   "source": [
    "## Question 2 - Model Selection"
   ]
  },
  {
   "cell_type": "code",
   "execution_count": 10,
   "metadata": {
    "collapsed": false,
    "scrolled": false
   },
   "outputs": [
    {
     "name": "stderr",
     "output_type": "stream",
     "text": [
      "/usr/local/lib/python2.7/site-packages/statsmodels/base/model.py:466: ConvergenceWarning: Maximum Likelihood optimization failed to converge. Check mle_retvals\n",
      "  \"Check mle_retvals\", ConvergenceWarning)\n",
      "/usr/local/lib/python2.7/site-packages/statsmodels/base/model.py:466: ConvergenceWarning: Maximum Likelihood optimization failed to converge. Check mle_retvals\n",
      "  \"Check mle_retvals\", ConvergenceWarning)\n",
      "/usr/local/lib/python2.7/site-packages/statsmodels/base/model.py:466: ConvergenceWarning: Maximum Likelihood optimization failed to converge. Check mle_retvals\n",
      "  \"Check mle_retvals\", ConvergenceWarning)\n",
      "/usr/local/lib/python2.7/site-packages/statsmodels/base/model.py:466: ConvergenceWarning: Maximum Likelihood optimization failed to converge. Check mle_retvals\n",
      "  \"Check mle_retvals\", ConvergenceWarning)\n",
      "/usr/local/lib/python2.7/site-packages/statsmodels/base/model.py:466: ConvergenceWarning: Maximum Likelihood optimization failed to converge. Check mle_retvals\n",
      "  \"Check mle_retvals\", ConvergenceWarning)\n",
      "/usr/local/lib/python2.7/site-packages/statsmodels/base/model.py:466: ConvergenceWarning: Maximum Likelihood optimization failed to converge. Check mle_retvals\n",
      "  \"Check mle_retvals\", ConvergenceWarning)\n"
     ]
    },
    {
     "name": "stdout",
     "output_type": "stream",
     "text": [
      "The model with the lowest AIC score of -17756.0793\n",
      "Best described with an ARIMA( 2 1 2 ) model\n"
     ]
    }
   ],
   "source": [
    "ararray = (data.log_rupee.dropna().as_matrix())\n",
    "\n",
    "p=0\n",
    "q=0\n",
    "d=1\n",
    "pdq=[]\n",
    "aic=[]\n",
    "\n",
    "for p in range(6):\n",
    "    for q in range(6):\n",
    "        try:\n",
    "            model = ARIMA(ararray, (p,d,q)).fit()\n",
    "            x = model.aic\n",
    "            x1 = (p,d,q)\n",
    "            \n",
    "            #print (x1, x)\n",
    "            aic.append(x)\n",
    "            pdq.append(x1)\n",
    "        except:\n",
    "            pass\n",
    "                  \n",
    "keys = pdq\n",
    "values = aic\n",
    "d = dict(zip(keys, values))\n",
    "\n",
    "minaic=min(d, key=d.get)\n",
    "\n",
    "for i in range(3):\n",
    "    p=minaic[0]\n",
    "    d=minaic[1]\n",
    "    q=minaic[2]\n",
    "\n",
    "print 'The model with the lowest AIC score of %s' % np.round(x,4)\n",
    "print 'Best described with an ARIMA(',p,d,q,') model'"
   ]
  },
  {
   "cell_type": "code",
   "execution_count": 11,
   "metadata": {
    "collapsed": false
   },
   "outputs": [
    {
     "name": "stdout",
     "output_type": "stream",
     "text": [
      "                             ARIMA Model Results                              \n",
      "==============================================================================\n",
      "Dep. Variable:                    D.y   No. Observations:                 2233\n",
      "Model:                 ARIMA(2, 1, 2)   Log Likelihood                8885.699\n",
      "Method:                       css-mle   S.D. of innovations              0.005\n",
      "Date:                Mon, 02 May 2016   AIC                         -17759.398\n",
      "Time:                        16:52:59   BIC                         -17725.131\n",
      "Sample:                             1   HQIC                        -17746.886\n",
      "                                                                              \n",
      "==============================================================================\n",
      "                 coef    std err          z      P>|z|      [95.0% Conf. Int.]\n",
      "------------------------------------------------------------------------------\n",
      "const      -4.547e-05   9.57e-05     -0.475      0.635        -0.000     0.000\n",
      "ar.L1.D.y      0.6816      0.096      7.097      0.000         0.493     0.870\n",
      "ar.L2.D.y     -0.8652      0.048    -17.853      0.000        -0.960    -0.770\n",
      "ma.L1.D.y     -0.7189      0.084     -8.560      0.000        -0.883    -0.554\n",
      "ma.L2.D.y      0.9019      0.047     19.329      0.000         0.810     0.993\n",
      "                                    Roots                                    \n",
      "=============================================================================\n",
      "                 Real           Imaginary           Modulus         Frequency\n",
      "-----------------------------------------------------------------------------\n",
      "AR.1            0.3939           -1.0003j            1.0751           -0.1903\n",
      "AR.2            0.3939           +1.0003j            1.0751            0.1903\n",
      "MA.1            0.3985           -0.9746j            1.0530           -0.1882\n",
      "MA.2            0.3985           +0.9746j            1.0530            0.1882\n",
      "-----------------------------------------------------------------------------\n"
     ]
    }
   ],
   "source": [
    "model = ARIMA(ararray, (2,1,2)).fit()\n",
    "print model.summary()"
   ]
  },
  {
   "cell_type": "code",
   "execution_count": 12,
   "metadata": {
    "collapsed": false
   },
   "outputs": [
    {
     "data": {
      "text/plain": [
       "2233"
      ]
     },
     "execution_count": 12,
     "metadata": {},
     "output_type": "execute_result"
    }
   ],
   "source": [
    "len(model.predict())"
   ]
  },
  {
   "cell_type": "code",
   "execution_count": 13,
   "metadata": {
    "collapsed": false
   },
   "outputs": [
    {
     "data": {
      "text/plain": [
       "2234"
      ]
     },
     "execution_count": 13,
     "metadata": {},
     "output_type": "execute_result"
    }
   ],
   "source": [
    "#data.diff_log_rupee = data.diff_log_rupee[0:-1]\n",
    "len(data)"
   ]
  },
  {
   "cell_type": "code",
   "execution_count": 14,
   "metadata": {
    "collapsed": false
   },
   "outputs": [],
   "source": [
    "# calculate the residuals (or errors)\n",
    "prediction = pd.DataFrame(data.log_rupee[1:])\n",
    "prediction['predict'] = model.predict()\n",
    "prediction['residuals'] = prediction.log_rupee - prediction.predict"
   ]
  },
  {
   "cell_type": "code",
   "execution_count": 15,
   "metadata": {
    "collapsed": false
   },
   "outputs": [
    {
     "data": {
      "text/html": [
       "<div>\n",
       "<table border=\"1\" class=\"dataframe\">\n",
       "  <thead>\n",
       "    <tr style=\"text-align: right;\">\n",
       "      <th></th>\n",
       "      <th>log_rupee</th>\n",
       "      <th>predict</th>\n",
       "      <th>residuals</th>\n",
       "    </tr>\n",
       "  </thead>\n",
       "  <tbody>\n",
       "    <tr>\n",
       "      <th>1</th>\n",
       "      <td>3.889164</td>\n",
       "      <td>-0.000045</td>\n",
       "      <td>3.889209</td>\n",
       "    </tr>\n",
       "    <tr>\n",
       "      <th>2</th>\n",
       "      <td>3.888345</td>\n",
       "      <td>-0.000054</td>\n",
       "      <td>3.888399</td>\n",
       "    </tr>\n",
       "    <tr>\n",
       "      <th>3</th>\n",
       "      <td>3.888959</td>\n",
       "      <td>-0.000017</td>\n",
       "      <td>3.888977</td>\n",
       "    </tr>\n",
       "    <tr>\n",
       "      <th>4</th>\n",
       "      <td>3.888550</td>\n",
       "      <td>-0.000064</td>\n",
       "      <td>3.888614</td>\n",
       "    </tr>\n",
       "    <tr>\n",
       "      <th>5</th>\n",
       "      <td>3.888140</td>\n",
       "      <td>-0.000051</td>\n",
       "      <td>3.888191</td>\n",
       "    </tr>\n",
       "  </tbody>\n",
       "</table>\n",
       "</div>"
      ],
      "text/plain": [
       "   log_rupee   predict  residuals\n",
       "1   3.889164 -0.000045   3.889209\n",
       "2   3.888345 -0.000054   3.888399\n",
       "3   3.888959 -0.000017   3.888977\n",
       "4   3.888550 -0.000064   3.888614\n",
       "5   3.888140 -0.000051   3.888191"
      ]
     },
     "execution_count": 15,
     "metadata": {},
     "output_type": "execute_result"
    }
   ],
   "source": [
    "prediction.head()"
   ]
  },
  {
   "cell_type": "code",
   "execution_count": 16,
   "metadata": {
    "collapsed": true
   },
   "outputs": [],
   "source": [
    "import statsmodels.stats.diagnostic\n",
    "from pypr.stattest.ljungbox import *\n",
    "import scipy.stats"
   ]
  },
  {
   "cell_type": "code",
   "execution_count": 17,
   "metadata": {
    "collapsed": false
   },
   "outputs": [
    {
     "data": {
      "text/plain": [
       "(array([  166.87770408,  1189.85410389,  2290.69744441,  2317.93294241,\n",
       "         3360.3113114 ,  3645.23748009,  3898.33490814,  4534.67904465,\n",
       "         4545.04341375,  4909.32331702,  5149.62018934,  5179.0350166 ,\n",
       "         5476.70066545,  5527.5500419 ,  5630.39570743,  5809.01355899,\n",
       "         5809.01957945,  5948.95997826,  6010.69866737,  6037.24901968,\n",
       "         6139.97246748,  6145.76975423,  6194.96695471,  6242.51462335,\n",
       "         6243.1593458 ]),\n",
       " array([  3.55748679e-038,   4.23120634e-259,   0.00000000e+000,\n",
       "          0.00000000e+000,   0.00000000e+000,   0.00000000e+000,\n",
       "          0.00000000e+000,   0.00000000e+000,   0.00000000e+000,\n",
       "          0.00000000e+000,   0.00000000e+000,   0.00000000e+000,\n",
       "          0.00000000e+000,   0.00000000e+000,   0.00000000e+000,\n",
       "          0.00000000e+000,   0.00000000e+000,   0.00000000e+000,\n",
       "          0.00000000e+000,   0.00000000e+000,   0.00000000e+000,\n",
       "          0.00000000e+000,   0.00000000e+000,   0.00000000e+000,\n",
       "          0.00000000e+000]))"
      ]
     },
     "execution_count": 17,
     "metadata": {},
     "output_type": "execute_result"
    }
   ],
   "source": [
    "# predict our ARIMA(0,1,1) model\n",
    "pred = model.predict()\n",
    "# then use ljung-box on our prediction\n",
    "box = statsmodels.stats.diagnostic.acorr_ljungbox(pred, lags=25, boxpierce=False)\n",
    "box"
   ]
  },
  {
   "cell_type": "markdown",
   "metadata": {},
   "source": [
    "The results of the Box-Ljung test show numerous p-values above 0.05, meaning that the model accurately describes the time series"
   ]
  },
  {
   "cell_type": "code",
   "execution_count": 18,
   "metadata": {
    "collapsed": false
   },
   "outputs": [
    {
     "name": "stdout",
     "output_type": "stream",
     "text": [
      "1 Step ahead forecast value is: [ 44.14920091]\n",
      "1 Step ahead 95 percent CI is: [[ 43.75941243  44.54246145]]\n"
     ]
    }
   ],
   "source": [
    "# calculate 1 step ahead forecast\n",
    "numofsteps = 1\n",
    "stepahead = model.forecast(numofsteps)[0]\n",
    "ferrors = model.forecast(numofsteps)[2]\n",
    "\n",
    "print'%s Step ahead forecast value is:' % numofsteps, np.exp(stepahead)\n",
    "print '%s Step ahead 95 percent CI is:' % numofsteps, np.exp(ferrors)"
   ]
  },
  {
   "cell_type": "markdown",
   "metadata": {},
   "source": [
    "## Question 3 - Plot ACF and PACF of Residuals"
   ]
  },
  {
   "cell_type": "code",
   "execution_count": 19,
   "metadata": {
    "collapsed": false
   },
   "outputs": [],
   "source": [
    "data = data[1:]\n",
    "data = data.reset_index()\n",
    "data['prediction'] = model.predict()\n",
    "data['resid'] = data.log_rupee - data.prediction\n",
    "data['sq_resid'] = [i**2 for i in data.resid]"
   ]
  },
  {
   "cell_type": "code",
   "execution_count": 20,
   "metadata": {
    "collapsed": false
   },
   "outputs": [
    {
     "data": {
      "text/html": [
       "<div>\n",
       "<table border=\"1\" class=\"dataframe\">\n",
       "  <thead>\n",
       "    <tr style=\"text-align: right;\">\n",
       "      <th></th>\n",
       "      <th>index</th>\n",
       "      <th>Date</th>\n",
       "      <th>Rupee</th>\n",
       "      <th>log_rupee</th>\n",
       "      <th>diff_log_rupee</th>\n",
       "      <th>prediction</th>\n",
       "      <th>resid</th>\n",
       "      <th>sq_resid</th>\n",
       "    </tr>\n",
       "  </thead>\n",
       "  <tbody>\n",
       "    <tr>\n",
       "      <th>0</th>\n",
       "      <td>1</td>\n",
       "      <td>2002-07-02</td>\n",
       "      <td>48.87</td>\n",
       "      <td>3.889164</td>\n",
       "      <td>0.000819</td>\n",
       "      <td>-0.000045</td>\n",
       "      <td>3.889209</td>\n",
       "      <td>15.125948</td>\n",
       "    </tr>\n",
       "    <tr>\n",
       "      <th>1</th>\n",
       "      <td>2</td>\n",
       "      <td>2002-07-03</td>\n",
       "      <td>48.83</td>\n",
       "      <td>3.888345</td>\n",
       "      <td>-0.000614</td>\n",
       "      <td>-0.000054</td>\n",
       "      <td>3.888399</td>\n",
       "      <td>15.119647</td>\n",
       "    </tr>\n",
       "    <tr>\n",
       "      <th>2</th>\n",
       "      <td>3</td>\n",
       "      <td>2002-07-05</td>\n",
       "      <td>48.86</td>\n",
       "      <td>3.888959</td>\n",
       "      <td>0.000409</td>\n",
       "      <td>-0.000017</td>\n",
       "      <td>3.888977</td>\n",
       "      <td>15.124139</td>\n",
       "    </tr>\n",
       "    <tr>\n",
       "      <th>3</th>\n",
       "      <td>4</td>\n",
       "      <td>2002-07-08</td>\n",
       "      <td>48.84</td>\n",
       "      <td>3.888550</td>\n",
       "      <td>0.000410</td>\n",
       "      <td>-0.000064</td>\n",
       "      <td>3.888614</td>\n",
       "      <td>15.121318</td>\n",
       "    </tr>\n",
       "    <tr>\n",
       "      <th>4</th>\n",
       "      <td>5</td>\n",
       "      <td>2002-07-09</td>\n",
       "      <td>48.82</td>\n",
       "      <td>3.888140</td>\n",
       "      <td>0.000000</td>\n",
       "      <td>-0.000051</td>\n",
       "      <td>3.888191</td>\n",
       "      <td>15.118029</td>\n",
       "    </tr>\n",
       "  </tbody>\n",
       "</table>\n",
       "</div>"
      ],
      "text/plain": [
       "   index       Date  Rupee  log_rupee  diff_log_rupee  prediction     resid  \\\n",
       "0      1 2002-07-02  48.87   3.889164        0.000819   -0.000045  3.889209   \n",
       "1      2 2002-07-03  48.83   3.888345       -0.000614   -0.000054  3.888399   \n",
       "2      3 2002-07-05  48.86   3.888959        0.000409   -0.000017  3.888977   \n",
       "3      4 2002-07-08  48.84   3.888550        0.000410   -0.000064  3.888614   \n",
       "4      5 2002-07-09  48.82   3.888140        0.000000   -0.000051  3.888191   \n",
       "\n",
       "    sq_resid  \n",
       "0  15.125948  \n",
       "1  15.119647  \n",
       "2  15.124139  \n",
       "3  15.121318  \n",
       "4  15.118029  "
      ]
     },
     "execution_count": 20,
     "metadata": {},
     "output_type": "execute_result"
    }
   ],
   "source": [
    "data.head()"
   ]
  },
  {
   "cell_type": "code",
   "execution_count": 21,
   "metadata": {
    "collapsed": false
   },
   "outputs": [],
   "source": [
    "# merged.residuals.plot()\n",
    "# plt.title('Rupee Residuals')\n",
    "# plt.xlabel('Time')\n",
    "# plt.ylabel('Residual Value')"
   ]
  },
  {
   "cell_type": "code",
   "execution_count": 22,
   "metadata": {
    "collapsed": false
   },
   "outputs": [],
   "source": [
    "# merged.sq_resid.plot()\n",
    "# plt.title('Squared Residuals of the Rupee')\n",
    "# plt.ylabel('Squared Residual Value')\n",
    "# plt.xlabel('Time')"
   ]
  },
  {
   "cell_type": "code",
   "execution_count": 23,
   "metadata": {
    "collapsed": false
   },
   "outputs": [
    {
     "data": {
      "text/plain": [
       "<matplotlib.text.Text at 0x1127de610>"
      ]
     },
     "execution_count": 23,
     "metadata": {},
     "output_type": "execute_result"
    },
    {
     "data": {
      "image/png": "[encoded data removed]",
      "text/plain": [
       "<matplotlib.figure.Figure at 0x11331d410>"
      ]
     },
     "metadata": {},
     "output_type": "display_data"
    }
   ],
   "source": [
    "# then plot the PACF and ACF of the residuals\n",
    "# first, the PACF\n",
    "\n",
    "plot_pacf(data.resid, lags = 25)\n",
    "plt.xlabel('Lag', fontsize = 14)\n",
    "plt.ylabel('Autocorrelation', fontsize = 14)\n",
    "plt.title('PACF of Residuals', fontsize = 17)\n"
   ]
  },
  {
   "cell_type": "code",
   "execution_count": 24,
   "metadata": {
    "collapsed": false
   },
   "outputs": [
    {
     "data": {
      "text/plain": [
       "<matplotlib.text.Text at 0x11299b8d0>"
      ]
     },
     "execution_count": 24,
     "metadata": {},
     "output_type": "execute_result"
    },
    {
     "data": {
      "image/png": "[encoded data removed]",
      "text/plain": [
       "<matplotlib.figure.Figure at 0x1127d33d0>"
      ]
     },
     "metadata": {},
     "output_type": "display_data"
    }
   ],
   "source": [
    "# then plot the ACF of log rupee\n",
    "autocorrelation_plot(data.resid)\n",
    "plt.xlabel('Lag', fontsize = 14)\n",
    "plt.ylabel('Autocorrelation', fontsize = 14)\n",
    "plt.title('ACF of Residuals', fontsize= 16)"
   ]
  },
  {
   "cell_type": "code",
   "execution_count": 25,
   "metadata": {
    "collapsed": false
   },
   "outputs": [
    {
     "data": {
      "text/plain": [
       "<matplotlib.text.Text at 0x10a131090>"
      ]
     },
     "execution_count": 25,
     "metadata": {},
     "output_type": "execute_result"
    },
    {
     "data": {
      "image/png": "[encoded data removed]",
      "text/plain": [
       "<matplotlib.figure.Figure at 0x11252a490>"
      ]
     },
     "metadata": {},
     "output_type": "display_data"
    }
   ],
   "source": [
    "# then plot the PACF and ACF of the squared residuals\n",
    "# first, the PACF\n",
    "\n",
    "plot_pacf(data.sq_resid, lags = 25)\n",
    "plt.xlabel('Lag', fontsize = 14)\n",
    "plt.ylabel('Autocorrelation', fontsize = 14)\n",
    "plt.title('PACF of Log of Squared Residuals', fontsize = 17)"
   ]
  },
  {
   "cell_type": "code",
   "execution_count": 26,
   "metadata": {
    "collapsed": false
   },
   "outputs": [
    {
     "data": {
      "text/plain": [
       "<matplotlib.text.Text at 0x10b08ee50>"
      ]
     },
     "execution_count": 26,
     "metadata": {},
     "output_type": "execute_result"
    },
    {
     "data": {
      "image/png": "[encoded data removed]",
      "text/plain": [
       "<matplotlib.figure.Figure at 0x10b074b10>"
      ]
     },
     "metadata": {},
     "output_type": "display_data"
    }
   ],
   "source": [
    "# then plot the ACF of log rupee\n",
    "autocorrelation_plot(data.sq_resid)\n",
    "plt.xlabel('Lag', fontsize = 14)\n",
    "plt.ylabel('Autocorrelation', fontsize = 14)\n",
    "plt.title('ACF of Squared Residuals', fontsize= 16)"
   ]
  },
  {
   "cell_type": "code",
   "execution_count": 27,
   "metadata": {
    "collapsed": false
   },
   "outputs": [
    {
     "data": {
      "text/plain": [
       "<matplotlib.text.Text at 0x1135a51d0>"
      ]
     },
     "execution_count": 27,
     "metadata": {},
     "output_type": "execute_result"
    },
    {
     "data": {
      "image/png": "[encoded data removed]",
      "text/plain": [
       "<matplotlib.figure.Figure at 0x10b09ee90>"
      ]
     },
     "metadata": {},
     "output_type": "display_data"
    }
   ],
   "source": [
    "# plot residuals and squared residuals\n",
    "fig, ax = plt.subplots(figsize = (16,6))\n",
    "\n",
    "plt.subplot(211)\n",
    "data.resid.plot()\n",
    "plt.title('Residuals')\n",
    "\n",
    "plt.subplot(212)\n",
    "data.sq_resid.plot()\n",
    "plt.title('Squared Residuals')"
   ]
  },
  {
   "cell_type": "markdown",
   "metadata": {},
   "source": [
    "## Question 4 - Log Likelihood"
   ]
  },
  {
   "cell_type": "code",
   "execution_count": 28,
   "metadata": {
    "collapsed": true
   },
   "outputs": [],
   "source": [
    "from arch import arch_model"
   ]
  },
  {
   "cell_type": "code",
   "execution_count": 29,
   "metadata": {
    "collapsed": false
   },
   "outputs": [
    {
     "name": "stdout",
     "output_type": "stream",
     "text": [
      "Iteration:      1,   Func. Count:      6,   Neg. LLF: 209.057714999\n",
      "Iteration:      2,   Func. Count:     19,   Neg. LLF: 166.408673181\n",
      "Iteration:      3,   Func. Count:     30,   Neg. LLF: 166.181069333\n",
      "Iteration:      4,   Func. Count:     37,   Neg. LLF: 99.8958955883\n",
      "Iteration:      5,   Func. Count:     44,   Neg. LLF: -103.014200752\n",
      "Iteration:      6,   Func. Count:     55,   Neg. LLF: -104.005217988\n",
      "Iteration:      7,   Func. Count:     66,   Neg. LLF: -104.174766213\n",
      "Iteration:      8,   Func. Count:     76,   Neg. LLF: -104.246175071\n",
      "Positive directional derivative for linesearch    (Exit mode 8)\n",
      "            Current function value: -104.24617835\n",
      "            Iterations: 12\n",
      "            Function evaluations: 76\n",
      "            Gradient evaluations: 8\n"
     ]
    },
    {
     "data": {
      "text/html": [
       "<table class=\"simpletable\">\n",
       "<caption>Constant Mean - GARCH Model Results</caption>\n",
       "<tr>\n",
       "  <th>Dep. Variable:</th>      <td>sq_resid</td>      <th>  R-squared:         </th>  <td>  -0.022</td> \n",
       "</tr>\n",
       "<tr>\n",
       "  <th>Mean Model:</th>       <td>Constant Mean</td>   <th>  Adj. R-squared:    </th>  <td>  -0.022</td> \n",
       "</tr>\n",
       "<tr>\n",
       "  <th>Vol Model:</th>            <td>GARCH</td>       <th>  Log-Likelihood:    </th> <td>   104.246</td>\n",
       "</tr>\n",
       "<tr>\n",
       "  <th>Distribution:</th>        <td>Normal</td>       <th>  AIC:               </th> <td>  -200.492</td>\n",
       "</tr>\n",
       "<tr>\n",
       "  <th>Method:</th>        <td>Maximum Likelihood</td> <th>  BIC:               </th> <td>  -177.648</td>\n",
       "</tr>\n",
       "<tr>\n",
       "  <th></th>                        <td></td>          <th>  No. Observations:  </th>    <td>2233</td>   \n",
       "</tr>\n",
       "<tr>\n",
       "  <th>Date:</th>           <td>Mon, May 02 2016</td>  <th>  Df Residuals:      </th>    <td>2229</td>   \n",
       "</tr>\n",
       "<tr>\n",
       "  <th>Time:</th>               <td>16:53:02</td>      <th>  Df Model:          </th>      <td>4</td>    \n",
       "</tr>\n",
       "</table>\n",
       "<table class=\"simpletable\">\n",
       "<caption>Mean Model</caption>\n",
       "<tr>\n",
       "   <td></td>     <th>coef</th>     <th>std err</th>      <th>t</th>     <th>P>|t|</th> <th>95.0% Conf. Int.</th> \n",
       "</tr>\n",
       "<tr>\n",
       "  <th>mu</th> <td>   14.5777</td> <td>9.108e-05</td> <td>1.600e+05</td> <td>0.000</td> <td>[ 14.577, 14.578]</td>\n",
       "</tr>\n",
       "</table>\n",
       "<table class=\"simpletable\">\n",
       "<caption>Volatility Model</caption>\n",
       "<tr>\n",
       "      <td></td>        <th>coef</th>     <th>std err</th>      <th>t</th>     <th>P>|t|</th>   <th>95.0% Conf. Int.</th>   \n",
       "</tr>\n",
       "<tr>\n",
       "  <th>omega</th>    <td>2.3288e-03</td> <td>3.652e-08</td> <td>6.377e+04</td> <td>0.000</td> <td>[2.329e-03,2.329e-03]</td>\n",
       "</tr>\n",
       "<tr>\n",
       "  <th>alpha[1]</th> <td>    0.4595</td> <td>4.588e-04</td> <td> 1001.618</td> <td>0.000</td>   <td>[  0.459,  0.460]</td>  \n",
       "</tr>\n",
       "<tr>\n",
       "  <th>beta[1]</th>  <td>    0.4683</td> <td>7.487e-04</td> <td>  625.394</td> <td>0.000</td>   <td>[  0.467,  0.470]</td>  \n",
       "</tr>\n",
       "</table>"
      ],
      "text/plain": [
       "<class 'statsmodels.iolib.summary.Summary'>\n",
       "\"\"\"\n",
       "                     Constant Mean - GARCH Model Results                      \n",
       "==============================================================================\n",
       "Dep. Variable:               sq_resid   R-squared:                      -0.022\n",
       "Mean Model:             Constant Mean   Adj. R-squared:                 -0.022\n",
       "Vol Model:                      GARCH   Log-Likelihood:                104.246\n",
       "Distribution:                  Normal   AIC:                          -200.492\n",
       "Method:            Maximum Likelihood   BIC:                          -177.648\n",
       "                                        No. Observations:                 2233\n",
       "Date:                Mon, May 02 2016   Df Residuals:                     2229\n",
       "Time:                        16:53:02   Df Model:                            4\n",
       "                                  Mean Model                                  \n",
       "==============================================================================\n",
       "                 coef    std err          t      P>|t|        95.0% Conf. Int.\n",
       "------------------------------------------------------------------------------\n",
       "mu            14.5777  9.108e-05  1.600e+05      0.000       [ 14.577, 14.578]\n",
       "                               Volatility Model                               \n",
       "==============================================================================\n",
       "                 coef    std err          t      P>|t|        95.0% Conf. Int.\n",
       "------------------------------------------------------------------------------\n",
       "omega      2.3288e-03  3.652e-08  6.377e+04      0.000   [2.329e-03,2.329e-03]\n",
       "alpha[1]       0.4595  4.588e-04   1001.618      0.000       [  0.459,  0.460]\n",
       "beta[1]        0.4683  7.487e-04    625.394      0.000       [  0.467,  0.470]\n",
       "==============================================================================\n",
       "\n",
       "Covariance estimator: robust\n",
       "\"\"\""
      ]
     },
     "execution_count": 29,
     "metadata": {},
     "output_type": "execute_result"
    }
   ],
   "source": [
    "am = arch_model(data.sq_resid, q=1)\n",
    "res = am.fit()\n",
    "res.summary()"
   ]
  },
  {
   "cell_type": "code",
   "execution_count": 30,
   "metadata": {
    "collapsed": false,
    "scrolled": false
   },
   "outputs": [
    {
     "name": "stdout",
     "output_type": "stream",
     "text": [
      "Iteration:      1,   Func. Count:      5,   Neg. LLF: 801.15591241\n",
      "Iteration:      2,   Func. Count:     16,   Neg. LLF: 785.372465717\n",
      "Iteration:      3,   Func. Count:     22,   Neg. LLF: 495.020359593\n",
      "Iteration:      4,   Func. Count:     29,   Neg. LLF: 473.155703311\n",
      "Iteration:      5,   Func. Count:     35,   Neg. LLF: 432.624910062\n",
      "Iteration:      6,   Func. Count:     40,   Neg. LLF: 299.915418307\n",
      "Iteration:      7,   Func. Count:     50,   Neg. LLF: 298.292440272\n",
      "Iteration:      8,   Func. Count:     56,   Neg. LLF: 247.988510946\n",
      "Iteration:      9,   Func. Count:     61,   Neg. LLF: -162.676983744\n",
      "Iteration:     10,   Func. Count:     71,   Neg. LLF: -163.343974534\n",
      "Iteration:     11,   Func. Count:     76,   Neg. LLF: -183.600827461\n",
      "Iteration:     12,   Func. Count:     82,   Neg. LLF: -191.344511556\n",
      "Iteration:     13,   Func. Count:     92,   Neg. LLF: -191.428795884\n",
      "Positive directional derivative for linesearch    (Exit mode 8)\n",
      "            Current function value: -191.428796593\n",
      "            Iterations: 17\n",
      "            Function evaluations: 92\n",
      "            Gradient evaluations: 13\n",
      "Iteration:      1,   Func. Count:      6,   Neg. LLF: 209.057714999\n",
      "Iteration:      2,   Func. Count:     19,   Neg. LLF: 166.408673181\n",
      "Iteration:      3,   Func. Count:     30,   Neg. LLF: 166.181069333\n",
      "Iteration:      4,   Func. Count:     37,   Neg. LLF: 99.8958955883\n",
      "Iteration:      5,   Func. Count:     44,   Neg. LLF: -103.014200752\n",
      "Iteration:      6,   Func. Count:     55,   Neg. LLF: -104.005217988\n",
      "Iteration:      7,   Func. Count:     66,   Neg. LLF: -104.174766213\n",
      "Iteration:      8,   Func. Count:     76,   Neg. LLF: -104.246175071\n",
      "Positive directional derivative for linesearch    (Exit mode 8)\n",
      "            Current function value: -104.24617835\n",
      "            Iterations: 12\n",
      "            Function evaluations: 76\n",
      "            Gradient evaluations: 8\n",
      "Iteration:      1,   Func. Count:      7,   Neg. LLF: 222.538867286\n",
      "Iteration:      2,   Func. Count:     21,   Neg. LLF: 181.057702437\n",
      "Iteration:      3,   Func. Count:     33,   Neg. LLF: 180.97460474\n",
      "Iteration:      4,   Func. Count:     44,   Neg. LLF: 180.826308312\n",
      "Iteration:      5,   Func. Count:     52,   Neg. LLF: 130.425649397\n",
      "Iteration:      6,   Func. Count:     59,   Neg. LLF: -127.516401361\n",
      "Iteration:      7,   Func. Count:     66,   Neg. LLF: -140.327081162\n",
      "Iteration:      8,   Func. Count:     73,   Neg. LLF: -181.343713471\n",
      "Iteration:      9,   Func. Count:     81,   Neg. LLF: -189.029411825\n",
      "Iteration:     10,   Func. Count:     92,   Neg. LLF: -190.005803626\n",
      "Iteration:     11,   Func. Count:    104,   Neg. LLF: -190.016215859\n",
      "Positive directional derivative for linesearch    (Exit mode 8)\n",
      "            Current function value: -190.016217697\n",
      "            Iterations: 15\n",
      "            Function evaluations: 104\n",
      "            Gradient evaluations: 11\n",
      "Iteration:      1,   Func. Count:      8,   Neg. LLF: 234.756010932\n",
      "Iteration:      2,   Func. Count:     23,   Neg. LLF: 194.31013395\n",
      "Iteration:      3,   Func. Count:     32,   Neg. LLF: 135.49722224\n",
      "Iteration:      4,   Func. Count:     41,   Neg. LLF: -84.4590017497\n",
      "Iteration:      5,   Func. Count:     50,   Neg. LLF: -176.907993248\n",
      "Iteration:      6,   Func. Count:     64,   Neg. LLF: -179.690802175\n",
      "Iteration:      7,   Func. Count:     77,   Neg. LLF: -179.793007949\n",
      "Positive directional derivative for linesearch    (Exit mode 8)\n",
      "            Current function value: -179.793007804\n",
      "            Iterations: 11\n",
      "            Function evaluations: 77\n",
      "            Gradient evaluations: 7\n",
      "Iteration:      1,   Func. Count:      9,   Neg. LLF: 245.885135285\n",
      "Iteration:      2,   Func. Count:     25,   Neg. LLF: 206.464215065\n",
      "Iteration:      3,   Func. Count:     39,   Neg. LLF: 206.459517584\n",
      "Iteration:      4,   Func. Count:     50,   Neg. LLF: 188.655140482\n",
      "Iteration:      5,   Func. Count:     60,   Neg. LLF: -112.371609373\n",
      "Iteration:      6,   Func. Count:     75,   Neg. LLF: -118.014556553\n",
      "Iteration:      7,   Func. Count:     89,   Neg. LLF: -118.031400396\n",
      "Positive directional derivative for linesearch    (Exit mode 8)\n",
      "            Current function value: -118.031406805\n",
      "            Iterations: 11\n",
      "            Function evaluations: 89\n",
      "            Gradient evaluations: 7\n",
      "Iteration:      1,   Func. Count:     10,   Neg. LLF: 256.300730859\n",
      "Iteration:      2,   Func. Count:     27,   Neg. LLF: 217.809350682\n",
      "Iteration:      3,   Func. Count:     38,   Neg. LLF: 142.237761605\n",
      "Iteration:      4,   Func. Count:     51,   Neg. LLF: 137.857405827\n",
      "Iteration:      5,   Func. Count:     62,   Neg. LLF: -74.7401727452\n",
      "Iteration:      6,   Func. Count:     73,   Neg. LLF: -123.834582519\n",
      "Iteration:      7,   Func. Count:     83,   Neg. LLF: -170.22079078\n",
      "Iteration:      8,   Func. Count:     96,   Neg. LLF: -213.317601435\n",
      "Iteration:      9,   Func. Count:    107,   Neg. LLF: -220.075809526\n",
      "Iteration:     10,   Func. Count:    118,   Neg. LLF: -225.160433302\n",
      "Iteration:     11,   Func. Count:    128,   Neg. LLF: -242.528573832\n",
      "Iteration:     12,   Func. Count:    139,   Neg. LLF: -244.132095524\n",
      "Iteration:     13,   Func. Count:    150,   Neg. LLF: -244.765880346\n",
      "Iteration:     14,   Func. Count:    161,   Neg. LLF: -244.850035597\n",
      "Iteration:     15,   Func. Count:    172,   Neg. LLF: -245.09775144\n",
      "Iteration:     16,   Func. Count:    182,   Neg. LLF: -245.273634251\n",
      "Iteration:     17,   Func. Count:    193,   Neg. LLF: -245.301592172\n",
      "Iteration:     18,   Func. Count:    204,   Neg. LLF: -245.539432417\n",
      "Iteration:     19,   Func. Count:    215,   Neg. LLF: -245.753738551\n",
      "Iteration:     20,   Func. Count:    226,   Neg. LLF: -246.028499864\n",
      "Iteration:     21,   Func. Count:    237,   Neg. LLF: -246.321937125\n",
      "Iteration:     22,   Func. Count:    248,   Neg. LLF: -246.657782095\n",
      "Iteration:     23,   Func. Count:    259,   Neg. LLF: -247.062317717\n",
      "Iteration:     24,   Func. Count:    270,   Neg. LLF: -247.375076976\n",
      "Iteration:     25,   Func. Count:    281,   Neg. LLF: -247.702402096\n",
      "Iteration:     26,   Func. Count:    292,   Neg. LLF: -247.923606197\n",
      "Iteration:     27,   Func. Count:    303,   Neg. LLF: -248.135398442\n",
      "Iteration:     28,   Func. Count:    314,   Neg. LLF: -248.281883762\n",
      "Iteration:     29,   Func. Count:    325,   Neg. LLF: -248.479282836\n",
      "Iteration:     30,   Func. Count:    335,   Neg. LLF: -248.543716036\n",
      "Iteration:     31,   Func. Count:    345,   Neg. LLF: -248.711841241\n",
      "Iteration:     32,   Func. Count:    355,   Neg. LLF: -248.730360035\n",
      "Iteration:     33,   Func. Count:    365,   Neg. LLF: -248.743079482\n",
      "Iteration:     34,   Func. Count:    375,   Neg. LLF: -248.743919418\n",
      "Iteration:     35,   Func. Count:    385,   Neg. LLF: -248.745037374\n",
      "Iteration:     36,   Func. Count:    405,   Neg. LLF: -248.745039673\n",
      "Iteration:     37,   Func. Count:    425,   Neg. LLF: -248.745041681\n",
      "Iteration:     38,   Func. Count:    441,   Neg. LLF: -248.745043802\n",
      "Iteration:     39,   Func. Count:    454,   Neg. LLF: -248.745046785\n",
      "Iteration:     40,   Func. Count:    467,   Neg. LLF: -248.745050233\n",
      "Iteration:     41,   Func. Count:    480,   Neg. LLF: -248.745051154\n",
      "Iteration:     42,   Func. Count:    493,   Neg. LLF: -248.745056537\n",
      "Iteration:     43,   Func. Count:    504,   Neg. LLF: -248.745031288\n",
      "Iteration:     44,   Func. Count:    514,   Neg. LLF: -248.744781638\n",
      "Optimization terminated successfully.    (Exit mode 0)\n",
      "            Current function value: -248.744780778\n",
      "            Iterations: 45\n",
      "            Function evaluations: 514\n",
      "            Gradient evaluations: 44\n",
      "Iteration:      1,   Func. Count:     11,   Neg. LLF: 266.123469386\n",
      "Iteration:      2,   Func. Count:     29,   Neg. LLF: 228.466486398\n",
      "Iteration:      3,   Func. Count:     45,   Neg. LLF: 228.436823293\n",
      "Iteration:      4,   Func. Count:     60,   Neg. LLF: 228.268127418\n",
      "Iteration:      5,   Func. Count:     75,   Neg. LLF: 228.170944299\n",
      "Iteration:      6,   Func. Count:     87,   Neg. LLF: 184.865409895\n",
      "Iteration:      7,   Func. Count:    100,   Neg. LLF: 164.837362393\n",
      "Iteration:      8,   Func. Count:    112,   Neg. LLF: -4.28892011289\n",
      "Iteration:      9,   Func. Count:    124,   Neg. LLF: -21.6321713033\n",
      "Iteration:     10,   Func. Count:    139,   Neg. LLF: -21.6528476286\n",
      "Iteration:     11,   Func. Count:    153,   Neg. LLF: -22.1278686787\n",
      "Iteration:     12,   Func. Count:    164,   Neg. LLF: -61.8765695204\n",
      "Iteration:     13,   Func. Count:    175,   Neg. LLF: -150.383794463\n",
      "Iteration:     14,   Func. Count:    187,   Neg. LLF: -156.627080363\n",
      "Positive directional derivative for linesearch    (Exit mode 8)\n",
      "            Current function value: -156.627083622\n",
      "            Iterations: 18\n",
      "            Function evaluations: 187\n",
      "            Gradient evaluations: 14\n",
      "Iteration:      1,   Func. Count:     12,   Neg. LLF: 275.533427973\n",
      "Iteration:      2,   Func. Count:     31,   Neg. LLF: 238.727982847\n",
      "Iteration:      3,   Func. Count:     48,   Neg. LLF: 238.621203559\n",
      "Iteration:      4,   Func. Count:     61,   Neg. LLF: 153.169806175\n",
      "Iteration:      5,   Func. Count:     75,   Neg. LLF: 113.327072131\n",
      "Iteration:      6,   Func. Count:     88,   Neg. LLF: 84.5637227736\n",
      "Iteration:      7,   Func. Count:    100,   Neg. LLF: 24.1390730504\n",
      "Iteration:      8,   Func. Count:    118,   Neg. LLF: -141.727634996\n",
      "Iteration:      9,   Func. Count:    131,   Neg. LLF: -216.7273485\n",
      "Iteration:     10,   Func. Count:    144,   Neg. LLF: -227.382132497\n",
      "Iteration:     11,   Func. Count:    157,   Neg. LLF: -237.971645239\n",
      "Iteration:     12,   Func. Count:    170,   Neg. LLF: -242.233184501\n",
      "Iteration:     13,   Func. Count:    183,   Neg. LLF: -244.024856571\n",
      "Iteration:     14,   Func. Count:    196,   Neg. LLF: -245.369551525\n",
      "Iteration:     15,   Func. Count:    209,   Neg. LLF: -246.629937052\n",
      "Iteration:     16,   Func. Count:    222,   Neg. LLF: -247.147493142\n",
      "Iteration:     17,   Func. Count:    235,   Neg. LLF: -247.230373484\n",
      "Iteration:     18,   Func. Count:    248,   Neg. LLF: -247.407208447\n",
      "Iteration:     19,   Func. Count:    260,   Neg. LLF: -247.590064955\n",
      "Iteration:     20,   Func. Count:    272,   Neg. LLF: -248.000004181\n",
      "Iteration:     21,   Func. Count:    285,   Neg. LLF: -248.030229507\n",
      "Iteration:     22,   Func. Count:    298,   Neg. LLF: -248.097847557\n",
      "Iteration:     23,   Func. Count:    310,   Neg. LLF: -248.164064523\n",
      "Iteration:     24,   Func. Count:    322,   Neg. LLF: -248.219908668\n",
      "Iteration:     25,   Func. Count:    334,   Neg. LLF: -248.420189857\n",
      "Iteration:     26,   Func. Count:    346,   Neg. LLF: -249.280186806\n",
      "Iteration:     27,   Func. Count:    359,   Neg. LLF: -249.521006918\n",
      "Iteration:     28,   Func. Count:    372,   Neg. LLF: -249.77113647\n",
      "Iteration:     29,   Func. Count:    385,   Neg. LLF: -250.023645104\n",
      "Iteration:     30,   Func. Count:    398,   Neg. LLF: -250.220560038\n",
      "Iteration:     31,   Func. Count:    411,   Neg. LLF: -250.590301838\n",
      "Iteration:     32,   Func. Count:    423,   Neg. LLF: -250.710197871\n",
      "Iteration:     33,   Func. Count:    435,   Neg. LLF: -250.715951982\n",
      "Iteration:     34,   Func. Count:    447,   Neg. LLF: -250.716597878\n",
      "Iteration:     35,   Func. Count:    459,   Neg. LLF: -250.717268312\n",
      "Iteration:     36,   Func. Count:    471,   Neg. LLF: -250.717250674\n",
      "Optimization terminated successfully.    (Exit mode 0)\n",
      "            Current function value: -250.717250713\n",
      "            Iterations: 38\n",
      "            Function evaluations: 480\n",
      "            Gradient evaluations: 36\n",
      "Iteration:      1,   Func. Count:     13,   Neg. LLF: 284.658301356\n",
      "Iteration:      2,   Func. Count:     33,   Neg. LLF: 248.599852044\n",
      "Iteration:      3,   Func. Count:     51,   Neg. LLF: 248.398328457\n",
      "Iteration:      4,   Func. Count:     65,   Neg. LLF: 208.342682297\n",
      "Iteration:      5,   Func. Count:     78,   Neg. LLF: -162.52855753\n",
      "Iteration:      6,   Func. Count:    100,   Neg. LLF: -199.138313689\n",
      "Iteration:      7,   Func. Count:    114,   Neg. LLF: -207.456712636\n",
      "Iteration:      8,   Func. Count:    129,   Neg. LLF: -207.747966968\n",
      "Iteration:      9,   Func. Count:    144,   Neg. LLF: -208.54186233\n",
      "Iteration:     10,   Func. Count:    158,   Neg. LLF: -208.938093382\n",
      "Iteration:     11,   Func. Count:    173,   Neg. LLF: -209.403895663\n",
      "Iteration:     12,   Func. Count:    187,   Neg. LLF: -209.788506232\n",
      "Iteration:     13,   Func. Count:    201,   Neg. LLF: -210.034348033\n",
      "Iteration:     14,   Func. Count:    214,   Neg. LLF: -210.40234189\n",
      "Iteration:     15,   Func. Count:    227,   Neg. LLF: -211.585989704\n",
      "Iteration:     16,   Func. Count:    240,   Neg. LLF: -212.428494465\n",
      "Iteration:     17,   Func. Count:    253,   Neg. LLF: -216.137037435\n",
      "Iteration:     18,   Func. Count:    266,   Neg. LLF: -218.470106082\n",
      "Iteration:     19,   Func. Count:    279,   Neg. LLF: -230.98526351\n",
      "Iteration:     20,   Func. Count:    293,   Neg. LLF: -232.404971465\n",
      "Iteration:     21,   Func. Count:    306,   Neg. LLF: -237.839952124\n",
      "Iteration:     22,   Func. Count:    319,   Neg. LLF: -242.307928888\n",
      "Iteration:     23,   Func. Count:    332,   Neg. LLF: -245.022224863\n",
      "Iteration:     24,   Func. Count:    345,   Neg. LLF: -245.866616102\n",
      "Iteration:     25,   Func. Count:    359,   Neg. LLF: -246.014645126\n",
      "Iteration:     26,   Func. Count:    373,   Neg. LLF: -246.113422734\n",
      "Iteration:     27,   Func. Count:    387,   Neg. LLF: -246.316196337\n",
      "Iteration:     28,   Func. Count:    401,   Neg. LLF: -246.583425216\n",
      "Iteration:     29,   Func. Count:    415,   Neg. LLF: -246.900528021\n",
      "Iteration:     30,   Func. Count:    429,   Neg. LLF: -247.062941459\n",
      "Iteration:     31,   Func. Count:    443,   Neg. LLF: -247.254399002\n",
      "Iteration:     32,   Func. Count:    457,   Neg. LLF: -247.802131477\n",
      "Iteration:     33,   Func. Count:    476,   Neg. LLF: -247.97400354\n",
      "Iteration:     34,   Func. Count:    492,   Neg. LLF: -247.97975319\n",
      "Iteration:     35,   Func. Count:    510,   Neg. LLF: -248.062948761\n",
      "Iteration:     36,   Func. Count:    528,   Neg. LLF: -248.069460167\n",
      "Iteration:     37,   Func. Count:    543,   Neg. LLF: -248.101985529\n",
      "Iteration:     38,   Func. Count:    559,   Neg. LLF: -248.105204944\n",
      "Positive directional derivative for linesearch    (Exit mode 8)\n",
      "            Current function value: -248.105205068\n",
      "            Iterations: 42\n",
      "            Function evaluations: 559\n",
      "            Gradient evaluations: 38\n",
      "Iteration:      1,   Func. Count:     14,   Neg. LLF: 293.56974024\n",
      "Iteration:      2,   Func. Count:     35,   Neg. LLF: 258.057287335\n",
      "Iteration:      3,   Func. Count:     50,   Neg. LLF: 171.502406766\n",
      "Iteration:      4,   Func. Count:     67,   Neg. LLF: 167.273148111\n",
      "Iteration:      5,   Func. Count:     81,   Neg. LLF: -234.016192349\n",
      "Iteration:      6,   Func. Count:     97,   Neg. LLF: -238.810234583\n",
      "Iteration:      7,   Func. Count:    116,   Neg. LLF: -239.005967442\n",
      "Iteration:      8,   Func. Count:    134,   Neg. LLF: -239.008278302\n",
      "Iteration:      9,   Func. Count:    150,   Neg. LLF: -239.239117395\n",
      "Iteration:     10,   Func. Count:    166,   Neg. LLF: -239.544200692\n",
      "Iteration:     11,   Func. Count:    185,   Neg. LLF: -239.560672072\n",
      "Iteration:     12,   Func. Count:    201,   Neg. LLF: -239.684421831\n",
      "Iteration:     13,   Func. Count:    217,   Neg. LLF: -239.701821632\n",
      "Iteration:     14,   Func. Count:    232,   Neg. LLF: -240.31987974\n",
      "Iteration:     15,   Func. Count:    251,   Neg. LLF: -240.65410023\n",
      "Positive directional derivative for linesearch    (Exit mode 8)\n",
      "            Current function value: -240.654102209\n",
      "            Iterations: 19\n",
      "            Function evaluations: 251\n",
      "            Gradient evaluations: 15\n",
      "Iteration:      1,   Func. Count:     15,   Neg. LLF: 302.242365487\n",
      "Iteration:      2,   Func. Count:     37,   Neg. LLF: 267.268563543\n",
      "Iteration:      3,   Func. Count:     57,   Neg. LLF: 267.010851879\n",
      "Iteration:      4,   Func. Count:     74,   Neg. LLF: 254.287361265\n",
      "Iteration:      5,   Func. Count:     92,   Neg. LLF: 252.830843263\n",
      "Iteration:      6,   Func. Count:    112,   Neg. LLF: 251.383591792\n",
      "Iteration:      7,   Func. Count:    127,   Neg. LLF: 88.2245918811\n",
      "Iteration:      8,   Func. Count:    143,   Neg. LLF: 53.6431710735\n",
      "Iteration:      9,   Func. Count:    158,   Neg. LLF: -110.861386575\n",
      "Iteration:     10,   Func. Count:    181,   Neg. LLF: -149.572227093\n",
      "Iteration:     11,   Func. Count:    197,   Neg. LLF: -154.960792141\n",
      "Iteration:     12,   Func. Count:    213,   Neg. LLF: -165.829050421\n",
      "Iteration:     13,   Func. Count:    231,   Neg. LLF: -166.470563164\n",
      "Positive directional derivative for linesearch    (Exit mode 8)\n",
      "            Current function value: -166.470564673\n",
      "            Iterations: 17\n",
      "            Function evaluations: 231\n",
      "            Gradient evaluations: 13\n"
     ]
    },
    {
     "data": {
      "text/html": [
       "<div>\n",
       "<table border=\"1\" class=\"dataframe\">\n",
       "  <thead>\n",
       "    <tr style=\"text-align: right;\">\n",
       "      <th></th>\n",
       "      <th>Log Likelihood</th>\n",
       "      <th>AIC</th>\n",
       "      <th>Lagged Volatility</th>\n",
       "    </tr>\n",
       "  </thead>\n",
       "  <tbody>\n",
       "    <tr>\n",
       "      <th>0</th>\n",
       "      <td>191.428797</td>\n",
       "      <td>-376.857593</td>\n",
       "      <td>0</td>\n",
       "    </tr>\n",
       "    <tr>\n",
       "      <th>1</th>\n",
       "      <td>104.246178</td>\n",
       "      <td>-200.492357</td>\n",
       "      <td>1</td>\n",
       "    </tr>\n",
       "    <tr>\n",
       "      <th>2</th>\n",
       "      <td>190.016218</td>\n",
       "      <td>-370.032435</td>\n",
       "      <td>2</td>\n",
       "    </tr>\n",
       "    <tr>\n",
       "      <th>3</th>\n",
       "      <td>179.793008</td>\n",
       "      <td>-347.586016</td>\n",
       "      <td>3</td>\n",
       "    </tr>\n",
       "    <tr>\n",
       "      <th>4</th>\n",
       "      <td>118.031407</td>\n",
       "      <td>-222.062814</td>\n",
       "      <td>4</td>\n",
       "    </tr>\n",
       "    <tr>\n",
       "      <th>5</th>\n",
       "      <td>248.744781</td>\n",
       "      <td>-481.489562</td>\n",
       "      <td>5</td>\n",
       "    </tr>\n",
       "    <tr>\n",
       "      <th>6</th>\n",
       "      <td>156.627084</td>\n",
       "      <td>-295.254167</td>\n",
       "      <td>6</td>\n",
       "    </tr>\n",
       "    <tr>\n",
       "      <th>7</th>\n",
       "      <td>250.717251</td>\n",
       "      <td>-481.434501</td>\n",
       "      <td>7</td>\n",
       "    </tr>\n",
       "    <tr>\n",
       "      <th>8</th>\n",
       "      <td>248.105205</td>\n",
       "      <td>-474.210410</td>\n",
       "      <td>8</td>\n",
       "    </tr>\n",
       "    <tr>\n",
       "      <th>9</th>\n",
       "      <td>240.654102</td>\n",
       "      <td>-457.308204</td>\n",
       "      <td>9</td>\n",
       "    </tr>\n",
       "    <tr>\n",
       "      <th>10</th>\n",
       "      <td>166.470565</td>\n",
       "      <td>-306.941129</td>\n",
       "      <td>10</td>\n",
       "    </tr>\n",
       "  </tbody>\n",
       "</table>\n",
       "</div>"
      ],
      "text/plain": [
       "    Log Likelihood         AIC  Lagged Volatility\n",
       "0       191.428797 -376.857593                  0\n",
       "1       104.246178 -200.492357                  1\n",
       "2       190.016218 -370.032435                  2\n",
       "3       179.793008 -347.586016                  3\n",
       "4       118.031407 -222.062814                  4\n",
       "5       248.744781 -481.489562                  5\n",
       "6       156.627084 -295.254167                  6\n",
       "7       250.717251 -481.434501                  7\n",
       "8       248.105205 -474.210410                  8\n",
       "9       240.654102 -457.308204                  9\n",
       "10      166.470565 -306.941129                 10"
      ]
     },
     "execution_count": 30,
     "metadata": {},
     "output_type": "execute_result"
    }
   ],
   "source": [
    "my_list = []\n",
    "\n",
    "for i in range(11):\n",
    "    am = arch_model(data.sq_resid, q=i)\n",
    "    res = am.fit()\n",
    "    my_list.append((res.loglikelihood,res.aic,i))\n",
    "\n",
    "log_like = pd.DataFrame(my_list, columns = ['Log Likelihood','AIC','Lagged Volatility'])\n",
    "log_like"
   ]
  },
  {
   "cell_type": "code",
   "execution_count": 31,
   "metadata": {
    "collapsed": false
   },
   "outputs": [
    {
     "data": {
      "text/html": [
       "<div>\n",
       "<table border=\"1\" class=\"dataframe\">\n",
       "  <thead>\n",
       "    <tr style=\"text-align: right;\">\n",
       "      <th></th>\n",
       "      <th>AIC</th>\n",
       "      <th>Log Likelihood</th>\n",
       "      <th>Lagged Volatility (Q)</th>\n",
       "    </tr>\n",
       "  </thead>\n",
       "  <tbody>\n",
       "    <tr>\n",
       "      <th>0</th>\n",
       "      <td>191.428797</td>\n",
       "      <td>-376.857593</td>\n",
       "      <td>0</td>\n",
       "    </tr>\n",
       "    <tr>\n",
       "      <th>1</th>\n",
       "      <td>104.246178</td>\n",
       "      <td>-200.492357</td>\n",
       "      <td>1</td>\n",
       "    </tr>\n",
       "    <tr>\n",
       "      <th>2</th>\n",
       "      <td>190.016218</td>\n",
       "      <td>-370.032435</td>\n",
       "      <td>2</td>\n",
       "    </tr>\n",
       "    <tr>\n",
       "      <th>3</th>\n",
       "      <td>179.793008</td>\n",
       "      <td>-347.586016</td>\n",
       "      <td>3</td>\n",
       "    </tr>\n",
       "    <tr>\n",
       "      <th>4</th>\n",
       "      <td>118.031407</td>\n",
       "      <td>-222.062814</td>\n",
       "      <td>4</td>\n",
       "    </tr>\n",
       "    <tr>\n",
       "      <th>5</th>\n",
       "      <td>248.744781</td>\n",
       "      <td>-481.489562</td>\n",
       "      <td>5</td>\n",
       "    </tr>\n",
       "    <tr>\n",
       "      <th>6</th>\n",
       "      <td>156.627084</td>\n",
       "      <td>-295.254167</td>\n",
       "      <td>6</td>\n",
       "    </tr>\n",
       "    <tr>\n",
       "      <th>7</th>\n",
       "      <td>250.717251</td>\n",
       "      <td>-481.434501</td>\n",
       "      <td>7</td>\n",
       "    </tr>\n",
       "    <tr>\n",
       "      <th>8</th>\n",
       "      <td>248.105205</td>\n",
       "      <td>-474.210410</td>\n",
       "      <td>8</td>\n",
       "    </tr>\n",
       "    <tr>\n",
       "      <th>9</th>\n",
       "      <td>240.654102</td>\n",
       "      <td>-457.308204</td>\n",
       "      <td>9</td>\n",
       "    </tr>\n",
       "    <tr>\n",
       "      <th>10</th>\n",
       "      <td>166.470565</td>\n",
       "      <td>-306.941129</td>\n",
       "      <td>10</td>\n",
       "    </tr>\n",
       "  </tbody>\n",
       "</table>\n",
       "</div>"
      ],
      "text/plain": [
       "           AIC  Log Likelihood  Lagged Volatility (Q)\n",
       "0   191.428797     -376.857593                      0\n",
       "1   104.246178     -200.492357                      1\n",
       "2   190.016218     -370.032435                      2\n",
       "3   179.793008     -347.586016                      3\n",
       "4   118.031407     -222.062814                      4\n",
       "5   248.744781     -481.489562                      5\n",
       "6   156.627084     -295.254167                      6\n",
       "7   250.717251     -481.434501                      7\n",
       "8   248.105205     -474.210410                      8\n",
       "9   240.654102     -457.308204                      9\n",
       "10  166.470565     -306.941129                     10"
      ]
     },
     "execution_count": 31,
     "metadata": {},
     "output_type": "execute_result"
    }
   ],
   "source": [
    "arch_want = pd.DataFrame(my_list,columns = ['AIC','Log Likelihood','Lagged Volatility (Q)'])\n",
    "arch_want"
   ]
  },
  {
   "cell_type": "code",
   "execution_count": 32,
   "metadata": {
    "collapsed": false,
    "scrolled": false
   },
   "outputs": [
    {
     "name": "stdout",
     "output_type": "stream",
     "text": [
      "Iteration:      1,   Func. Count:      5,   Neg. LLF: -3728.68299826\n",
      "Iteration:      2,   Func. Count:     18,   Neg. LLF: -3760.18516446\n",
      "Iteration:      3,   Func. Count:     29,   Neg. LLF: -3760.24035918\n",
      "Positive directional derivative for linesearch    (Exit mode 8)\n",
      "            Current function value: -3760.24032647\n",
      "            Iterations: 7\n",
      "            Function evaluations: 29\n",
      "            Gradient evaluations: 3\n",
      "Iteration:      1,   Func. Count:      6,   Neg. LLF: -4318.83182853\n",
      "Iteration:      2,   Func. Count:     22,   Neg. LLF: -4367.16695318\n",
      "Positive directional derivative for linesearch    (Exit mode 8)\n",
      "            Current function value: -4367.16697775\n",
      "            Iterations: 6\n",
      "            Function evaluations: 22\n",
      "            Gradient evaluations: 2\n",
      "Iteration:      1,   Func. Count:      7,   Neg. LLF: -4305.47533073\n",
      "Iteration:      2,   Func. Count:     24,   Neg. LLF: -4352.60000414\n",
      "Iteration:      3,   Func. Count:     37,   Neg. LLF: -4352.61075612\n",
      "Iteration:      4,   Func. Count:     54,   Neg. LLF: -4352.61109257\n",
      "Iteration:      5,   Func. Count:     64,   Neg. LLF: -4355.9539952\n",
      "Iteration:      6,   Func. Count:     78,   Neg. LLF: -4358.3992511\n",
      "Iteration:      7,   Func. Count:     92,   Neg. LLF: -4358.99931562\n",
      "Iteration:      8,   Func. Count:    108,   Neg. LLF: -4358.99998271\n",
      "Positive directional derivative for linesearch    (Exit mode 8)\n",
      "            Current function value: -4359.00000715\n",
      "            Iterations: 12\n",
      "            Function evaluations: 108\n",
      "            Gradient evaluations: 8\n",
      "Iteration:      1,   Func. Count:      8,   Neg. LLF: -4293.35655709\n",
      "Iteration:      2,   Func. Count:     26,   Neg. LLF: -4339.32106604\n",
      "Positive directional derivative for linesearch    (Exit mode 8)\n",
      "            Current function value: -4339.32109282\n",
      "            Iterations: 6\n",
      "            Function evaluations: 26\n",
      "            Gradient evaluations: 2\n",
      "Iteration:      1,   Func. Count:      9,   Neg. LLF: -4282.30487278\n",
      "Iteration:      2,   Func. Count:     28,   Neg. LLF: -4327.20442487\n",
      "Iteration:      3,   Func. Count:     43,   Neg. LLF: -4327.21195559\n",
      "Iteration:      4,   Func. Count:     58,   Neg. LLF: -4327.21569916\n",
      "Iteration:      5,   Func. Count:     76,   Neg. LLF: -4327.21774346\n",
      "Iteration:      6,   Func. Count:     87,   Neg. LLF: -4347.56141403\n",
      "Iteration:      7,   Func. Count:    106,   Neg. LLF: -4359.87359799\n",
      "Iteration:      8,   Func. Count:    122,   Neg. LLF: -4362.32428182\n",
      "Iteration:      9,   Func. Count:    139,   Neg. LLF: -4362.49534441\n",
      "Iteration:     10,   Func. Count:    158,   Neg. LLF: -4362.49533947\n",
      "Positive directional derivative for linesearch    (Exit mode 8)\n",
      "            Current function value: -4362.49535952\n",
      "            Iterations: 14\n",
      "            Function evaluations: 158\n",
      "            Gradient evaluations: 10\n",
      "Iteration:      1,   Func. Count:     10,   Neg. LLF: -4271.95478911\n",
      "Iteration:      2,   Func. Count:     30,   Neg. LLF: -4315.87625795\n",
      "Iteration:      3,   Func. Count:     46,   Neg. LLF: -4315.88234321\n",
      "Iteration:      4,   Func. Count:     62,   Neg. LLF: -4315.8865482\n",
      "Positive directional derivative for linesearch    (Exit mode 8)\n",
      "            Current function value: -4315.88657672\n",
      "            Iterations: 8\n",
      "            Function evaluations: 62\n",
      "            Gradient evaluations: 4\n",
      "Iteration:      1,   Func. Count:     11,   Neg. LLF: -4262.19152506\n",
      "Iteration:      2,   Func. Count:     32,   Neg. LLF: -4305.21187388\n",
      "Positive directional derivative for linesearch    (Exit mode 8)\n",
      "            Current function value: -4305.21190321\n",
      "            Iterations: 6\n",
      "            Function evaluations: 32\n",
      "            Gradient evaluations: 2\n",
      "Iteration:      1,   Func. Count:     12,   Neg. LLF: -4252.83612868\n",
      "Iteration:      2,   Func. Count:     34,   Neg. LLF: -4295.04768297\n",
      "Iteration:      3,   Func. Count:     52,   Neg. LLF: -4295.0522007\n",
      "Positive directional derivative for linesearch    (Exit mode 8)\n",
      "            Current function value: -4295.05223084\n",
      "            Iterations: 7\n",
      "            Function evaluations: 52\n",
      "            Gradient evaluations: 3\n",
      "Iteration:      1,   Func. Count:     13,   Neg. LLF: -4243.76395961\n",
      "Iteration:      2,   Func. Count:     36,   Neg. LLF: -4285.24358191\n",
      "Iteration:      3,   Func. Count:     55,   Neg. LLF: -4285.2477629\n",
      "Iteration:      4,   Func. Count:     78,   Neg. LLF: -4285.24794256\n",
      "Iteration:      5,   Func. Count:    101,   Neg. LLF: -4285.24792526\n",
      "Positive directional derivative for linesearch    (Exit mode 8)\n",
      "            Current function value: -4285.2479562\n",
      "            Iterations: 9\n",
      "            Function evaluations: 101\n",
      "            Gradient evaluations: 5\n",
      "Iteration:      1,   Func. Count:     14,   Neg. LLF: -4234.90569998\n",
      "Iteration:      2,   Func. Count:     38,   Neg. LLF: -4275.72847624\n",
      "Positive directional derivative for linesearch    (Exit mode 8)\n",
      "            Current function value: -4275.72850797\n",
      "            Iterations: 6\n",
      "            Function evaluations: 38\n",
      "            Gradient evaluations: 2\n",
      "Iteration:      1,   Func. Count:     15,   Neg. LLF: -4226.29000305\n",
      "Iteration:      2,   Func. Count:     40,   Neg. LLF: -4266.50512208\n",
      "Positive directional derivative for linesearch    (Exit mode 8)\n",
      "            Current function value: -4266.5051546\n",
      "            Iterations: 6\n",
      "            Function evaluations: 40\n",
      "            Gradient evaluations: 2\n"
     ]
    },
    {
     "data": {
      "text/html": [
       "<div>\n",
       "<table border=\"1\" class=\"dataframe\">\n",
       "  <thead>\n",
       "    <tr style=\"text-align: right;\">\n",
       "      <th></th>\n",
       "      <th>Log Likelihood</th>\n",
       "      <th>AIC</th>\n",
       "      <th>Lagged Volatility</th>\n",
       "    </tr>\n",
       "  </thead>\n",
       "  <tbody>\n",
       "    <tr>\n",
       "      <th>0</th>\n",
       "      <td>3760.240326</td>\n",
       "      <td>-7514.480653</td>\n",
       "      <td>0</td>\n",
       "    </tr>\n",
       "    <tr>\n",
       "      <th>1</th>\n",
       "      <td>4367.166978</td>\n",
       "      <td>-8726.333956</td>\n",
       "      <td>1</td>\n",
       "    </tr>\n",
       "    <tr>\n",
       "      <th>2</th>\n",
       "      <td>4359.000007</td>\n",
       "      <td>-8708.000014</td>\n",
       "      <td>2</td>\n",
       "    </tr>\n",
       "    <tr>\n",
       "      <th>3</th>\n",
       "      <td>4339.321093</td>\n",
       "      <td>-8666.642186</td>\n",
       "      <td>3</td>\n",
       "    </tr>\n",
       "    <tr>\n",
       "      <th>4</th>\n",
       "      <td>4362.495360</td>\n",
       "      <td>-8710.990719</td>\n",
       "      <td>4</td>\n",
       "    </tr>\n",
       "    <tr>\n",
       "      <th>5</th>\n",
       "      <td>4315.886577</td>\n",
       "      <td>-8615.773153</td>\n",
       "      <td>5</td>\n",
       "    </tr>\n",
       "    <tr>\n",
       "      <th>6</th>\n",
       "      <td>4305.211903</td>\n",
       "      <td>-8592.423806</td>\n",
       "      <td>6</td>\n",
       "    </tr>\n",
       "    <tr>\n",
       "      <th>7</th>\n",
       "      <td>4295.052231</td>\n",
       "      <td>-8570.104462</td>\n",
       "      <td>7</td>\n",
       "    </tr>\n",
       "    <tr>\n",
       "      <th>8</th>\n",
       "      <td>4285.247956</td>\n",
       "      <td>-8548.495912</td>\n",
       "      <td>8</td>\n",
       "    </tr>\n",
       "    <tr>\n",
       "      <th>9</th>\n",
       "      <td>4275.728508</td>\n",
       "      <td>-8527.457016</td>\n",
       "      <td>9</td>\n",
       "    </tr>\n",
       "    <tr>\n",
       "      <th>10</th>\n",
       "      <td>4266.505155</td>\n",
       "      <td>-8507.010309</td>\n",
       "      <td>10</td>\n",
       "    </tr>\n",
       "  </tbody>\n",
       "</table>\n",
       "</div>"
      ],
      "text/plain": [
       "    Log Likelihood          AIC  Lagged Volatility\n",
       "0      3760.240326 -7514.480653                  0\n",
       "1      4367.166978 -8726.333956                  1\n",
       "2      4359.000007 -8708.000014                  2\n",
       "3      4339.321093 -8666.642186                  3\n",
       "4      4362.495360 -8710.990719                  4\n",
       "5      4315.886577 -8615.773153                  5\n",
       "6      4305.211903 -8592.423806                  6\n",
       "7      4295.052231 -8570.104462                  7\n",
       "8      4285.247956 -8548.495912                  8\n",
       "9      4275.728508 -8527.457016                  9\n",
       "10     4266.505155 -8507.010309                 10"
      ]
     },
     "execution_count": 32,
     "metadata": {},
     "output_type": "execute_result"
    }
   ],
   "source": [
    "my_list = []\n",
    "\n",
    "for i in range(11):\n",
    "    am = arch_model(data.resid, q=i, vol='GARCH')\n",
    "    res = am.fit()\n",
    "    my_list.append((res.loglikelihood,res.aic,i))\n",
    "\n",
    "log_like2 = pd.DataFrame(my_list, columns = ['Log Likelihood','AIC','Lagged Volatility'])\n",
    "log_like2"
   ]
  },
  {
   "cell_type": "code",
   "execution_count": 33,
   "metadata": {
    "collapsed": false
   },
   "outputs": [
    {
     "name": "stdout",
     "output_type": "stream",
     "text": [
      "Iteration:      1,   Func. Count:      7,   Neg. LLF: -4305.47533073\n",
      "Iteration:      2,   Func. Count:     24,   Neg. LLF: -4352.60000414\n",
      "Iteration:      3,   Func. Count:     37,   Neg. LLF: -4352.61075612\n",
      "Iteration:      4,   Func. Count:     54,   Neg. LLF: -4352.61109257\n",
      "Iteration:      5,   Func. Count:     64,   Neg. LLF: -4355.9539952\n",
      "Iteration:      6,   Func. Count:     78,   Neg. LLF: -4358.3992511\n",
      "Iteration:      7,   Func. Count:     92,   Neg. LLF: -4358.99931562\n",
      "Iteration:      8,   Func. Count:    108,   Neg. LLF: -4358.99998271\n",
      "Positive directional derivative for linesearch    (Exit mode 8)\n",
      "            Current function value: -4359.00000715\n",
      "            Iterations: 12\n",
      "            Function evaluations: 108\n",
      "            Gradient evaluations: 8\n"
     ]
    },
    {
     "data": {
      "text/html": [
       "<table class=\"simpletable\">\n",
       "<caption>Constant Mean - GARCH Model Results</caption>\n",
       "<tr>\n",
       "  <th>Dep. Variable:</th>        <td>resid</td>       <th>  R-squared:         </th>  <td>  -0.025</td> \n",
       "</tr>\n",
       "<tr>\n",
       "  <th>Mean Model:</th>       <td>Constant Mean</td>   <th>  Adj. R-squared:    </th>  <td>  -0.025</td> \n",
       "</tr>\n",
       "<tr>\n",
       "  <th>Vol Model:</th>            <td>GARCH</td>       <th>  Log-Likelihood:    </th> <td>   4359.00</td>\n",
       "</tr>\n",
       "<tr>\n",
       "  <th>Distribution:</th>        <td>Normal</td>       <th>  AIC:               </th> <td>  -8708.00</td>\n",
       "</tr>\n",
       "<tr>\n",
       "  <th>Method:</th>        <td>Maximum Likelihood</td> <th>  BIC:               </th> <td>  -8679.44</td>\n",
       "</tr>\n",
       "<tr>\n",
       "  <th></th>                        <td></td>          <th>  No. Observations:  </th>    <td>2233</td>   \n",
       "</tr>\n",
       "<tr>\n",
       "  <th>Date:</th>           <td>Mon, May 02 2016</td>  <th>  Df Residuals:      </th>    <td>2228</td>   \n",
       "</tr>\n",
       "<tr>\n",
       "  <th>Time:</th>               <td>16:53:02</td>      <th>  Df Model:          </th>      <td>5</td>    \n",
       "</tr>\n",
       "</table>\n",
       "<table class=\"simpletable\">\n",
       "<caption>Mean Model</caption>\n",
       "<tr>\n",
       "   <td></td>     <th>coef</th>     <th>std err</th>      <th>t</th>     <th>P>|t|</th> <th>95.0% Conf. Int.</th> \n",
       "</tr>\n",
       "<tr>\n",
       "  <th>mu</th> <td>    3.8182</td> <td>1.119e-06</td> <td>3.413e+06</td> <td>0.000</td> <td>[  3.818,  3.818]</td>\n",
       "</tr>\n",
       "</table>\n",
       "<table class=\"simpletable\">\n",
       "<caption>Volatility Model</caption>\n",
       "<tr>\n",
       "      <td></td>        <th>coef</th>     <th>std err</th>      <th>t</th>       <th>P>|t|</th>     <th>95.0% Conf. Int.</th>   \n",
       "</tr>\n",
       "<tr>\n",
       "  <th>omega</th>    <td>6.8032e-05</td> <td>6.296e-11</td> <td>1.080e+06</td>   <td>0.000</td>   <td>[6.803e-05,6.803e-05]</td>\n",
       "</tr>\n",
       "<tr>\n",
       "  <th>alpha[1]</th> <td>    0.1992</td> <td>7.332e-05</td> <td> 2716.490</td>   <td>0.000</td>     <td>[  0.199,  0.199]</td>  \n",
       "</tr>\n",
       "<tr>\n",
       "  <th>beta[1]</th>  <td>    0.3884</td> <td>    0.389</td> <td>    0.998</td> <td>    0.318</td>   <td>[ -0.374,  1.151]</td>  \n",
       "</tr>\n",
       "<tr>\n",
       "  <th>beta[2]</th>  <td>    0.3884</td> <td>    0.393</td> <td>    0.989</td> <td>    0.322</td>   <td>[ -0.381,  1.158]</td>  \n",
       "</tr>\n",
       "</table>"
      ],
      "text/plain": [
       "<class 'statsmodels.iolib.summary.Summary'>\n",
       "\"\"\"\n",
       "                     Constant Mean - GARCH Model Results                      \n",
       "==============================================================================\n",
       "Dep. Variable:                  resid   R-squared:                      -0.025\n",
       "Mean Model:             Constant Mean   Adj. R-squared:                 -0.025\n",
       "Vol Model:                      GARCH   Log-Likelihood:                4359.00\n",
       "Distribution:                  Normal   AIC:                          -8708.00\n",
       "Method:            Maximum Likelihood   BIC:                          -8679.44\n",
       "                                        No. Observations:                 2233\n",
       "Date:                Mon, May 02 2016   Df Residuals:                     2228\n",
       "Time:                        16:53:02   Df Model:                            5\n",
       "                                  Mean Model                                  \n",
       "==============================================================================\n",
       "                 coef    std err          t      P>|t|        95.0% Conf. Int.\n",
       "------------------------------------------------------------------------------\n",
       "mu             3.8182  1.119e-06  3.413e+06      0.000       [  3.818,  3.818]\n",
       "                               Volatility Model                               \n",
       "==============================================================================\n",
       "                 coef    std err          t      P>|t|        95.0% Conf. Int.\n",
       "------------------------------------------------------------------------------\n",
       "omega      6.8032e-05  6.296e-11  1.080e+06      0.000   [6.803e-05,6.803e-05]\n",
       "alpha[1]       0.1992  7.332e-05   2716.490      0.000       [  0.199,  0.199]\n",
       "beta[1]        0.3884      0.389      0.998      0.318       [ -0.374,  1.151]\n",
       "beta[2]        0.3884      0.393      0.989      0.322       [ -0.381,  1.158]\n",
       "==============================================================================\n",
       "\n",
       "Covariance estimator: robust\n",
       "\"\"\""
      ]
     },
     "execution_count": 33,
     "metadata": {},
     "output_type": "execute_result"
    }
   ],
   "source": [
    "am = arch_model(data.resid, q=2, vol='GARCH')\n",
    "res = am.fit()\n",
    "res.summary()"
   ]
  },
  {
   "cell_type": "code",
   "execution_count": 34,
   "metadata": {
    "collapsed": false
   },
   "outputs": [
    {
     "name": "stdout",
     "output_type": "stream",
     "text": [
      "Iteration:      1,   Func. Count:      6,   Neg. LLF: -4318.83182853\n",
      "Iteration:      2,   Func. Count:     22,   Neg. LLF: -4367.16695318\n",
      "Positive directional derivative for linesearch    (Exit mode 8)\n",
      "            Current function value: -4367.16697775\n",
      "            Iterations: 6\n",
      "            Function evaluations: 22\n",
      "            Gradient evaluations: 2\n",
      "-8726.33395551\n",
      "4367.16697775\n"
     ]
    }
   ],
   "source": [
    "am = arch_model(data.resid, q=1)\n",
    "res = am.fit()\n",
    "print res.aic\n",
    "print res.loglikelihood"
   ]
  },
  {
   "cell_type": "code",
   "execution_count": 35,
   "metadata": {
    "collapsed": false
   },
   "outputs": [
    {
     "name": "stdout",
     "output_type": "stream",
     "text": [
      "Iteration:      1,   Func. Count:      7,   Neg. LLF: -4305.47533073\n",
      "Iteration:      2,   Func. Count:     24,   Neg. LLF: -4352.60000414\n",
      "Iteration:      3,   Func. Count:     37,   Neg. LLF: -4352.61075612\n",
      "Iteration:      4,   Func. Count:     54,   Neg. LLF: -4352.61109257\n",
      "Iteration:      5,   Func. Count:     64,   Neg. LLF: -4355.9539952\n",
      "Iteration:      6,   Func. Count:     78,   Neg. LLF: -4358.3992511\n",
      "Iteration:      7,   Func. Count:     92,   Neg. LLF: -4358.99931562\n",
      "Iteration:      8,   Func. Count:    108,   Neg. LLF: -4358.99998271\n",
      "Positive directional derivative for linesearch    (Exit mode 8)\n",
      "            Current function value: -4359.00000715\n",
      "            Iterations: 12\n",
      "            Function evaluations: 108\n",
      "            Gradient evaluations: 8\n",
      "-8708.00001429\n",
      "4359.00000715\n"
     ]
    }
   ],
   "source": [
    "am = arch_model(data.resid, q=2, vol='GARCH')\n",
    "garch = am.fit()\n",
    "print garch.aic\n",
    "print garch.loglikelihood"
   ]
  },
  {
   "cell_type": "code",
   "execution_count": 36,
   "metadata": {
    "collapsed": false
   },
   "outputs": [
    {
     "name": "stdout",
     "output_type": "stream",
     "text": [
      "ARCH Model, Q=1 (Best):\n",
      "ARCH with Q=1 AIC is -8726.33395551\n",
      "ARCH with Q=1 Log Likelihood is 4367.16697775\n",
      "\n",
      "GARCH Model, Q=2:\n",
      "GARCH AIC is -8708.00001429\n",
      "GARCH Log Likelihood is 4359.00000715\n"
     ]
    }
   ],
   "source": [
    "print 'ARCH Model, Q=1 (Best):'\n",
    "print 'ARCH with Q=1 AIC is %s' %res.aic\n",
    "print 'ARCH with Q=1 Log Likelihood is %s' % res.loglikelihood\n",
    "print ''\n",
    "print 'GARCH Model, Q=2:'\n",
    "print 'GARCH AIC is %s' % garch.aic\n",
    "print 'GARCH Log Likelihood is %s' % garch.loglikelihood"
   ]
  },
  {
   "cell_type": "markdown",
   "metadata": {},
   "source": [
    "Consequently, we would select the ARCH model with Q=1 because its AIC score is lower than that of the GARCH model at Q=2"
   ]
  },
  {
   "cell_type": "markdown",
   "metadata": {
    "collapsed": true
   },
   "source": [
    "## Question 5 - Forecast One-Step Ahead"
   ]
  },
  {
   "cell_type": "code",
   "execution_count": 37,
   "metadata": {
    "collapsed": false
   },
   "outputs": [
    {
     "name": "stdout",
     "output_type": "stream",
     "text": [
      "Iteration:      1,   Func. Count:      5,   Neg. LLF: -3728.7120082\n",
      "Iteration:      2,   Func. Count:     18,   Neg. LLF: -3760.26306992\n",
      "Iteration:      3,   Func. Count:     29,   Neg. LLF: -3760.2766875\n",
      "Positive directional derivative for linesearch    (Exit mode 8)\n",
      "            Current function value: -3760.27665479\n",
      "            Iterations: 7\n",
      "            Function evaluations: 29\n",
      "            Gradient evaluations: 3\n",
      "Iteration:      1,   Func. Count:      6,   Neg. LLF: -4319.12369192\n",
      "Iteration:      2,   Func. Count:     22,   Neg. LLF: -4367.62864854\n",
      "Iteration:      3,   Func. Count:     38,   Neg. LLF: -4367.63849381\n",
      "Positive directional derivative for linesearch    (Exit mode 8)\n",
      "            Current function value: -4367.63851841\n",
      "            Iterations: 7\n",
      "            Function evaluations: 38\n",
      "            Gradient evaluations: 3\n",
      "Iteration:      1,   Func. Count:      7,   Neg. LLF: -4305.69422947\n",
      "Iteration:      2,   Func. Count:     24,   Neg. LLF: -4352.96949913\n",
      "Positive directional derivative for linesearch    (Exit mode 8)\n",
      "            Current function value: -4352.96952492\n",
      "            Iterations: 6\n",
      "            Function evaluations: 24\n",
      "            Gradient evaluations: 2\n",
      "Iteration:      1,   Func. Count:      8,   Neg. LLF: -4293.52495575\n",
      "Iteration:      2,   Func. Count:     26,   Neg. LLF: -4339.52765172\n",
      "Iteration:      3,   Func. Count:     43,   Neg. LLF: -4339.53531561\n",
      "Iteration:      4,   Func. Count:     61,   Neg. LLF: -4339.53567874\n",
      "Positive directional derivative for linesearch    (Exit mode 8)\n",
      "            Current function value: -4339.53570553\n",
      "            Iterations: 8\n",
      "            Function evaluations: 61\n",
      "            Gradient evaluations: 4\n",
      "Iteration:      1,   Func. Count:      9,   Neg. LLF: -4282.450176\n",
      "Iteration:      2,   Func. Count:     28,   Neg. LLF: -4327.38974337\n",
      "Iteration:      3,   Func. Count:     43,   Neg. LLF: -4327.39736298\n",
      "Iteration:      4,   Func. Count:     62,   Neg. LLF: -4327.39759727\n",
      "Iteration:      5,   Func. Count:     81,   Neg. LLF: -4327.39750518\n",
      "Positive directional derivative for linesearch    (Exit mode 8)\n",
      "            Current function value: -4327.39753287\n",
      "            Iterations: 9\n",
      "            Function evaluations: 81\n",
      "            Gradient evaluations: 5\n",
      "Iteration:      1,   Func. Count:     10,   Neg. LLF: -4272.09252232\n",
      "Iteration:      2,   Func. Count:     30,   Neg. LLF: -4316.05653236\n",
      "Iteration:      3,   Func. Count:     46,   Neg. LLF: -4316.06244983\n",
      "Positive directional derivative for linesearch    (Exit mode 8)\n",
      "            Current function value: -4316.06247837\n",
      "            Iterations: 7\n",
      "            Function evaluations: 46\n",
      "            Gradient evaluations: 3\n",
      "Iteration:      1,   Func. Count:     11,   Neg. LLF: -4262.33860276\n",
      "Iteration:      2,   Func. Count:     32,   Neg. LLF: -4305.50194518\n",
      "Iteration:      3,   Func. Count:     52,   Neg. LLF: -4305.50342068\n",
      "Positive directional derivative for linesearch    (Exit mode 8)\n",
      "            Current function value: -4305.50345002\n",
      "            Iterations: 7\n",
      "            Function evaluations: 52\n",
      "            Gradient evaluations: 3\n",
      "Iteration:      1,   Func. Count:     12,   Neg. LLF: -4252.98351563\n",
      "Iteration:      2,   Func. Count:     34,   Neg. LLF: -4295.23377988\n",
      "Iteration:      3,   Func. Count:     55,   Neg. LLF: -4295.2364971\n",
      "Iteration:      4,   Func. Count:     77,   Neg. LLF: -4295.23660085\n",
      "Positive directional derivative for linesearch    (Exit mode 8)\n",
      "            Current function value: -4295.236631\n",
      "            Iterations: 8\n",
      "            Function evaluations: 77\n",
      "            Gradient evaluations: 4\n",
      "Iteration:      1,   Func. Count:     13,   Neg. LLF: -4243.9026461\n",
      "Iteration:      2,   Func. Count:     36,   Neg. LLF: -4285.42170496\n",
      "Positive directional derivative for linesearch    (Exit mode 8)\n",
      "            Current function value: -4285.4217359\n",
      "            Iterations: 6\n",
      "            Function evaluations: 36\n",
      "            Gradient evaluations: 2\n",
      "Iteration:      1,   Func. Count:     14,   Neg. LLF: -4235.03048692\n",
      "Iteration:      2,   Func. Count:     38,   Neg. LLF: -4275.89444428\n",
      "Iteration:      3,   Func. Count:     62,   Neg. LLF: -4275.89650209\n",
      "Positive directional derivative for linesearch    (Exit mode 8)\n",
      "            Current function value: -4275.89653383\n",
      "            Iterations: 7\n",
      "            Function evaluations: 62\n",
      "            Gradient evaluations: 3\n",
      "Iteration:      1,   Func. Count:     15,   Neg. LLF: -4226.41174349\n",
      "Iteration:      2,   Func. Count:     40,   Neg. LLF: -4266.66173011\n",
      "Positive directional derivative for linesearch    (Exit mode 8)\n",
      "            Current function value: -4266.66176264\n",
      "            Iterations: 6\n",
      "            Function evaluations: 40\n",
      "            Gradient evaluations: 2\n"
     ]
    },
    {
     "data": {
      "text/html": [
       "<div>\n",
       "<table border=\"1\" class=\"dataframe\">\n",
       "  <thead>\n",
       "    <tr style=\"text-align: right;\">\n",
       "      <th></th>\n",
       "      <th>Log Likelihood</th>\n",
       "      <th>AIC</th>\n",
       "      <th>Lagged Volatility</th>\n",
       "    </tr>\n",
       "  </thead>\n",
       "  <tbody>\n",
       "    <tr>\n",
       "      <th>0</th>\n",
       "      <td>3760.276655</td>\n",
       "      <td>-7514.553310</td>\n",
       "      <td>0</td>\n",
       "    </tr>\n",
       "    <tr>\n",
       "      <th>1</th>\n",
       "      <td>4367.638518</td>\n",
       "      <td>-8727.277037</td>\n",
       "      <td>1</td>\n",
       "    </tr>\n",
       "    <tr>\n",
       "      <th>2</th>\n",
       "      <td>4352.969525</td>\n",
       "      <td>-8695.939050</td>\n",
       "      <td>2</td>\n",
       "    </tr>\n",
       "    <tr>\n",
       "      <th>3</th>\n",
       "      <td>4339.535706</td>\n",
       "      <td>-8667.071411</td>\n",
       "      <td>3</td>\n",
       "    </tr>\n",
       "    <tr>\n",
       "      <th>4</th>\n",
       "      <td>4327.397533</td>\n",
       "      <td>-8640.795066</td>\n",
       "      <td>4</td>\n",
       "    </tr>\n",
       "    <tr>\n",
       "      <th>5</th>\n",
       "      <td>4316.062478</td>\n",
       "      <td>-8616.124957</td>\n",
       "      <td>5</td>\n",
       "    </tr>\n",
       "    <tr>\n",
       "      <th>6</th>\n",
       "      <td>4305.503450</td>\n",
       "      <td>-8593.006900</td>\n",
       "      <td>6</td>\n",
       "    </tr>\n",
       "    <tr>\n",
       "      <th>7</th>\n",
       "      <td>4295.236631</td>\n",
       "      <td>-8570.473262</td>\n",
       "      <td>7</td>\n",
       "    </tr>\n",
       "    <tr>\n",
       "      <th>8</th>\n",
       "      <td>4285.421736</td>\n",
       "      <td>-8548.843472</td>\n",
       "      <td>8</td>\n",
       "    </tr>\n",
       "    <tr>\n",
       "      <th>9</th>\n",
       "      <td>4275.896534</td>\n",
       "      <td>-8527.793068</td>\n",
       "      <td>9</td>\n",
       "    </tr>\n",
       "    <tr>\n",
       "      <th>10</th>\n",
       "      <td>4266.661763</td>\n",
       "      <td>-8507.323525</td>\n",
       "      <td>10</td>\n",
       "    </tr>\n",
       "  </tbody>\n",
       "</table>\n",
       "</div>"
      ],
      "text/plain": [
       "    Log Likelihood          AIC  Lagged Volatility\n",
       "0      3760.276655 -7514.553310                  0\n",
       "1      4367.638518 -8727.277037                  1\n",
       "2      4352.969525 -8695.939050                  2\n",
       "3      4339.535706 -8667.071411                  3\n",
       "4      4327.397533 -8640.795066                  4\n",
       "5      4316.062478 -8616.124957                  5\n",
       "6      4305.503450 -8593.006900                  6\n",
       "7      4295.236631 -8570.473262                  7\n",
       "8      4285.421736 -8548.843472                  8\n",
       "9      4275.896534 -8527.793068                  9\n",
       "10     4266.661763 -8507.323525                 10"
      ]
     },
     "execution_count": 37,
     "metadata": {},
     "output_type": "execute_result"
    }
   ],
   "source": [
    "my_list = []\n",
    "\n",
    "for i in range(11):\n",
    "    am = arch_model(data.log_rupee, q=i, vol='GARCH')\n",
    "    res = am.fit()\n",
    "    my_list.append((res.loglikelihood,res.aic,i))\n",
    "\n",
    "log_like3 = pd.DataFrame(my_list, columns = ['Log Likelihood','AIC','Lagged Volatility'])\n",
    "log_like3"
   ]
  },
  {
   "cell_type": "code",
   "execution_count": 38,
   "metadata": {
    "collapsed": false
   },
   "outputs": [
    {
     "name": "stdout",
     "output_type": "stream",
     "text": [
      "Iteration:      1,   Func. Count:      7,   Neg. LLF: -4305.69422947\n",
      "Iteration:      2,   Func. Count:     24,   Neg. LLF: -4352.96949913\n",
      "Positive directional derivative for linesearch    (Exit mode 8)\n",
      "            Current function value: -4352.96952492\n",
      "            Iterations: 6\n",
      "            Function evaluations: 24\n",
      "            Gradient evaluations: 2\n",
      "-8695.93904984\n",
      "4352.96952492\n"
     ]
    }
   ],
   "source": [
    "# garch model\n",
    "am2 = arch_model(data.log_rupee, q=2, vol='GARCH')\n",
    "garch = am2.fit()\n",
    "print garch.aic\n",
    "print garch.loglikelihood"
   ]
  },
  {
   "cell_type": "code",
   "execution_count": 39,
   "metadata": {
    "collapsed": false
   },
   "outputs": [
    {
     "name": "stdout",
     "output_type": "stream",
     "text": [
      "Iteration:      1,   Func. Count:      6,   Neg. LLF: -4319.12369192\n",
      "Iteration:      2,   Func. Count:     22,   Neg. LLF: -4367.62864854\n",
      "Iteration:      3,   Func. Count:     38,   Neg. LLF: -4367.63849381\n",
      "Positive directional derivative for linesearch    (Exit mode 8)\n",
      "            Current function value: -4367.63851841\n",
      "            Iterations: 7\n",
      "            Function evaluations: 38\n",
      "            Gradient evaluations: 3\n",
      "-8727.27703682\n",
      "4367.63851841\n"
     ]
    }
   ],
   "source": [
    "# arch model\n",
    "am3 = arch_model(data.log_rupee, q=1)\n",
    "res = am3.fit()\n",
    "print res.aic\n",
    "print res.loglikelihood"
   ]
  },
  {
   "cell_type": "code",
   "execution_count": 40,
   "metadata": {
    "collapsed": false
   },
   "outputs": [
    {
     "name": "stdout",
     "output_type": "stream",
     "text": [
      "ARCH Model, Q=1 (Best):\n",
      "ARCH with Q=1 AIC is -8727.27703682\n",
      "ARCH with Q=1 Log Likelihood is 4367.63851841\n",
      "\n",
      "GARCH Model, Q=2:\n",
      "GARCH AIC is -8695.93904984\n",
      "GARCH Log Likelihood is 4352.96952492\n"
     ]
    }
   ],
   "source": [
    "print 'ARCH Model, Q=1 (Best):'\n",
    "print 'ARCH with Q=1 AIC is %s' %res.aic\n",
    "print 'ARCH with Q=1 Log Likelihood is %s' % res.loglikelihood\n",
    "print ''\n",
    "print 'GARCH Model, Q=2:'\n",
    "print 'GARCH AIC is %s' % garch.aic\n",
    "print 'GARCH Log Likelihood is %s' % garch.loglikelihood"
   ]
  },
  {
   "cell_type": "code",
   "execution_count": 41,
   "metadata": {
    "collapsed": false
   },
   "outputs": [
    {
     "name": "stdout",
     "output_type": "stream",
     "text": [
      "Our one step ahead forecast using the ARCH(1,1) model with Q=1 is             h.1\n",
      "0     45.528196\n",
      "1     45.528196\n",
      "2     45.528196\n",
      "3     45.528196\n",
      "4     45.528196\n",
      "5     45.528196\n",
      "6     45.528196\n",
      "7     45.528196\n",
      "8     45.528196\n",
      "9     45.528196\n",
      "10    45.528196\n",
      "11    45.528196\n",
      "12    45.528196\n",
      "13    45.528196\n",
      "14    45.528196\n",
      "15    45.528196\n",
      "16    45.528196\n",
      "17    45.528196\n",
      "18    45.528196\n",
      "19    45.528196\n",
      "20    45.528196\n",
      "21    45.528196\n",
      "22    45.528196\n",
      "23    45.528196\n",
      "24    45.528196\n",
      "25    45.528196\n",
      "26    45.528196\n",
      "27    45.528196\n",
      "28    45.528196\n",
      "29    45.528196\n",
      "...         ...\n",
      "2203  45.528196\n",
      "2204  45.528196\n",
      "2205  45.528196\n",
      "2206  45.528196\n",
      "2207  45.528196\n",
      "2208  45.528196\n",
      "2209  45.528196\n",
      "2210  45.528196\n",
      "2211  45.528196\n",
      "2212  45.528196\n",
      "2213  45.528196\n",
      "2214  45.528196\n",
      "2215  45.528196\n",
      "2216  45.528196\n",
      "2217  45.528196\n",
      "2218  45.528196\n",
      "2219  45.528196\n",
      "2220  45.528196\n",
      "2221  45.528196\n",
      "2222  45.528196\n",
      "2223  45.528196\n",
      "2224  45.528196\n",
      "2225  45.528196\n",
      "2226  45.528196\n",
      "2227  45.528196\n",
      "2228  45.528196\n",
      "2229  45.528196\n",
      "2230  45.528196\n",
      "2231  45.528196\n",
      "2232  45.528196\n",
      "\n",
      "[2233 rows x 1 columns]\n"
     ]
    }
   ],
   "source": [
    "# calculate one step ahead forecast\n",
    "# remember that since we are forecasting the logs, we need to take the exponent to convert back to actual rupee values\n",
    "print 'Our one step ahead forecast using the ARCH(1,1) model with Q=1 is %s' % np.exp(res.forecast())"
   ]
  },
  {
   "cell_type": "code",
   "execution_count": 42,
   "metadata": {
    "collapsed": true
   },
   "outputs": [],
   "source": [
    "arch_pred = np.exp(res.forecast())[0:1]\n",
    "arima_pred = np.exp(stepahead)"
   ]
  },
  {
   "cell_type": "code",
   "execution_count": 43,
   "metadata": {
    "collapsed": false
   },
   "outputs": [
    {
     "data": {
      "text/plain": [
       "array([ 0.03123488])"
      ]
     },
     "execution_count": 43,
     "metadata": {},
     "output_type": "execute_result"
    }
   ],
   "source": [
    "float(arch_pred.loc[0])/arima_pred-1"
   ]
  },
  {
   "cell_type": "markdown",
   "metadata": {},
   "source": [
    "## Question 6 - Plotting Conditional Variances"
   ]
  },
  {
   "cell_type": "code",
   "execution_count": 44,
   "metadata": {
    "collapsed": false
   },
   "outputs": [
    {
     "data": {
      "text/html": [
       "<div>\n",
       "<table border=\"1\" class=\"dataframe\">\n",
       "  <thead>\n",
       "    <tr style=\"text-align: right;\">\n",
       "      <th></th>\n",
       "      <th>index</th>\n",
       "      <th>Date</th>\n",
       "      <th>Rupee</th>\n",
       "      <th>log_rupee</th>\n",
       "      <th>diff_log_rupee</th>\n",
       "      <th>prediction</th>\n",
       "      <th>resid</th>\n",
       "      <th>sq_resid</th>\n",
       "      <th>cond_var</th>\n",
       "    </tr>\n",
       "  </thead>\n",
       "  <tbody>\n",
       "    <tr>\n",
       "      <th>0</th>\n",
       "      <td>1</td>\n",
       "      <td>2002-07-02</td>\n",
       "      <td>48.87</td>\n",
       "      <td>3.889164</td>\n",
       "      <td>0.000819</td>\n",
       "      <td>-0.000045</td>\n",
       "      <td>3.889209</td>\n",
       "      <td>15.125948</td>\n",
       "      <td>0.005975</td>\n",
       "    </tr>\n",
       "    <tr>\n",
       "      <th>1</th>\n",
       "      <td>2</td>\n",
       "      <td>2002-07-03</td>\n",
       "      <td>48.83</td>\n",
       "      <td>3.888345</td>\n",
       "      <td>-0.000614</td>\n",
       "      <td>-0.000054</td>\n",
       "      <td>3.888399</td>\n",
       "      <td>15.119647</td>\n",
       "      <td>0.005732</td>\n",
       "    </tr>\n",
       "    <tr>\n",
       "      <th>2</th>\n",
       "      <td>3</td>\n",
       "      <td>2002-07-05</td>\n",
       "      <td>48.86</td>\n",
       "      <td>3.888959</td>\n",
       "      <td>0.000409</td>\n",
       "      <td>-0.000017</td>\n",
       "      <td>3.888977</td>\n",
       "      <td>15.124139</td>\n",
       "      <td>0.005520</td>\n",
       "    </tr>\n",
       "    <tr>\n",
       "      <th>3</th>\n",
       "      <td>4</td>\n",
       "      <td>2002-07-08</td>\n",
       "      <td>48.84</td>\n",
       "      <td>3.888550</td>\n",
       "      <td>0.000410</td>\n",
       "      <td>-0.000064</td>\n",
       "      <td>3.888614</td>\n",
       "      <td>15.121318</td>\n",
       "      <td>0.005371</td>\n",
       "    </tr>\n",
       "    <tr>\n",
       "      <th>4</th>\n",
       "      <td>5</td>\n",
       "      <td>2002-07-09</td>\n",
       "      <td>48.82</td>\n",
       "      <td>3.888140</td>\n",
       "      <td>0.000000</td>\n",
       "      <td>-0.000051</td>\n",
       "      <td>3.888191</td>\n",
       "      <td>15.118029</td>\n",
       "      <td>0.005244</td>\n",
       "    </tr>\n",
       "  </tbody>\n",
       "</table>\n",
       "</div>"
      ],
      "text/plain": [
       "   index       Date  Rupee  log_rupee  diff_log_rupee  prediction     resid  \\\n",
       "0      1 2002-07-02  48.87   3.889164        0.000819   -0.000045  3.889209   \n",
       "1      2 2002-07-03  48.83   3.888345       -0.000614   -0.000054  3.888399   \n",
       "2      3 2002-07-05  48.86   3.888959        0.000409   -0.000017  3.888977   \n",
       "3      4 2002-07-08  48.84   3.888550        0.000410   -0.000064  3.888614   \n",
       "4      5 2002-07-09  48.82   3.888140        0.000000   -0.000051  3.888191   \n",
       "\n",
       "    sq_resid  cond_var  \n",
       "0  15.125948  0.005975  \n",
       "1  15.119647  0.005732  \n",
       "2  15.124139  0.005520  \n",
       "3  15.121318  0.005371  \n",
       "4  15.118029  0.005244  "
      ]
     },
     "execution_count": 44,
     "metadata": {},
     "output_type": "execute_result"
    }
   ],
   "source": [
    "cond_var = res.conditional_volatility**2\n",
    "\n",
    "# add to our big dataframe\n",
    "data['cond_var'] = cond_var\n",
    "data.head()"
   ]
  },
  {
   "cell_type": "code",
   "execution_count": 45,
   "metadata": {
    "collapsed": false
   },
   "outputs": [
    {
     "data": {
      "text/plain": [
       "<matplotlib.text.Text at 0x113e1ba90>"
      ]
     },
     "execution_count": 45,
     "metadata": {},
     "output_type": "execute_result"
    },
    {
     "data": {
      "image/png": "[encoded data removed]",
      "text/plain": [
       "<matplotlib.figure.Figure at 0x113c78fd0>"
      ]
     },
     "metadata": {},
     "output_type": "display_data"
    }
   ],
   "source": [
    "fig, ax = plt.subplots(figsize = (12,6))\n",
    "fig.subplots_adjust(hspace=.7)\n",
    "\n",
    "plt.subplot(311)\n",
    "plt.plot(data.Date, data.cond_var)\n",
    "plt.title('Conditional Volatility Plot for Log Rupee')\n",
    "plt.xlabel('Time')\n",
    "plt.ylabel('Conditional Volatility')\n",
    "\n",
    "plt.subplot(312)\n",
    "plt.plot(data.Date, data.log_rupee)\n",
    "plt.title('Log Rupee')\n",
    "plt.xlabel('Time')\n",
    "plt.ylabel('Log Rupee')\n",
    "\n",
    "plt.subplot(313)\n",
    "plt.plot(data.Date, data.diff_log_rupee)\n",
    "plt.title('Difference of Log Rupee')\n",
    "plt.xlabel('Time')\n",
    "plt.ylabel('Log Rupee')"
   ]
  },
  {
   "cell_type": "code",
   "execution_count": 46,
   "metadata": {
    "collapsed": false
   },
   "outputs": [
    {
     "data": {
      "text/html": [
       "<div>\n",
       "<table border=\"1\" class=\"dataframe\">\n",
       "  <thead>\n",
       "    <tr style=\"text-align: right;\">\n",
       "      <th></th>\n",
       "      <th>lower</th>\n",
       "      <th>upper</th>\n",
       "    </tr>\n",
       "  </thead>\n",
       "  <tbody>\n",
       "    <tr>\n",
       "      <th>mu</th>\n",
       "      <td>45.528093</td>\n",
       "      <td>45.528299</td>\n",
       "    </tr>\n",
       "    <tr>\n",
       "      <th>omega</th>\n",
       "      <td>1.000068</td>\n",
       "      <td>1.000068</td>\n",
       "    </tr>\n",
       "    <tr>\n",
       "      <th>alpha[1]</th>\n",
       "      <td>1.221264</td>\n",
       "      <td>1.221541</td>\n",
       "    </tr>\n",
       "    <tr>\n",
       "      <th>beta[1]</th>\n",
       "      <td>2.181248</td>\n",
       "      <td>2.181693</td>\n",
       "    </tr>\n",
       "  </tbody>\n",
       "</table>\n",
       "</div>"
      ],
      "text/plain": [
       "              lower      upper\n",
       "mu        45.528093  45.528299\n",
       "omega      1.000068   1.000068\n",
       "alpha[1]   1.221264   1.221541\n",
       "beta[1]    2.181248   2.181693"
      ]
     },
     "execution_count": 46,
     "metadata": {},
     "output_type": "execute_result"
    }
   ],
   "source": [
    "conf_ints = np.exp(res.conf_int())\n",
    "conf_ints"
   ]
  },
  {
   "cell_type": "code",
   "execution_count": 47,
   "metadata": {
    "collapsed": true
   },
   "outputs": [],
   "source": [
    "# alpha is the 95% confidence interval\n",
    "# beta is the 90% confidence interval"
   ]
  },
  {
   "cell_type": "code",
   "execution_count": 48,
   "metadata": {
    "collapsed": false
   },
   "outputs": [
    {
     "data": {
      "text/html": [
       "<div>\n",
       "<table border=\"1\" class=\"dataframe\">\n",
       "  <thead>\n",
       "    <tr style=\"text-align: right;\">\n",
       "      <th></th>\n",
       "      <th>h.1</th>\n",
       "    </tr>\n",
       "  </thead>\n",
       "  <tbody>\n",
       "    <tr>\n",
       "      <th>0</th>\n",
       "      <td>NaN</td>\n",
       "    </tr>\n",
       "    <tr>\n",
       "      <th>1</th>\n",
       "      <td>45.528196</td>\n",
       "    </tr>\n",
       "    <tr>\n",
       "      <th>2</th>\n",
       "      <td>45.528196</td>\n",
       "    </tr>\n",
       "    <tr>\n",
       "      <th>3</th>\n",
       "      <td>45.528196</td>\n",
       "    </tr>\n",
       "  </tbody>\n",
       "</table>\n",
       "</div>"
      ],
      "text/plain": [
       "         h.1\n",
       "0        NaN\n",
       "1  45.528196\n",
       "2  45.528196\n",
       "3  45.528196"
      ]
     },
     "execution_count": 48,
     "metadata": {},
     "output_type": "execute_result"
    }
   ],
   "source": [
    "np.exp(res.forecast(align='target', start=0)).ix[:3]"
   ]
  },
  {
   "cell_type": "code",
   "execution_count": 49,
   "metadata": {
    "collapsed": false
   },
   "outputs": [
    {
     "data": {
      "text/html": [
       "<div>\n",
       "<table border=\"1\" class=\"dataframe\">\n",
       "  <thead>\n",
       "    <tr style=\"text-align: right;\">\n",
       "      <th></th>\n",
       "      <th>index</th>\n",
       "      <th>Date</th>\n",
       "      <th>Rupee</th>\n",
       "      <th>log_rupee</th>\n",
       "      <th>diff_log_rupee</th>\n",
       "      <th>prediction</th>\n",
       "      <th>resid</th>\n",
       "      <th>sq_resid</th>\n",
       "      <th>cond_var</th>\n",
       "    </tr>\n",
       "  </thead>\n",
       "  <tbody>\n",
       "    <tr>\n",
       "      <th>0</th>\n",
       "      <td>1</td>\n",
       "      <td>2002-07-02</td>\n",
       "      <td>48.87</td>\n",
       "      <td>3.889164</td>\n",
       "      <td>0.000819</td>\n",
       "      <td>-0.000045</td>\n",
       "      <td>3.889209</td>\n",
       "      <td>15.125948</td>\n",
       "      <td>0.005975</td>\n",
       "    </tr>\n",
       "    <tr>\n",
       "      <th>1</th>\n",
       "      <td>2</td>\n",
       "      <td>2002-07-03</td>\n",
       "      <td>48.83</td>\n",
       "      <td>3.888345</td>\n",
       "      <td>-0.000614</td>\n",
       "      <td>-0.000054</td>\n",
       "      <td>3.888399</td>\n",
       "      <td>15.119647</td>\n",
       "      <td>0.005732</td>\n",
       "    </tr>\n",
       "    <tr>\n",
       "      <th>2</th>\n",
       "      <td>3</td>\n",
       "      <td>2002-07-05</td>\n",
       "      <td>48.86</td>\n",
       "      <td>3.888959</td>\n",
       "      <td>0.000409</td>\n",
       "      <td>-0.000017</td>\n",
       "      <td>3.888977</td>\n",
       "      <td>15.124139</td>\n",
       "      <td>0.005520</td>\n",
       "    </tr>\n",
       "    <tr>\n",
       "      <th>3</th>\n",
       "      <td>4</td>\n",
       "      <td>2002-07-08</td>\n",
       "      <td>48.84</td>\n",
       "      <td>3.888550</td>\n",
       "      <td>0.000410</td>\n",
       "      <td>-0.000064</td>\n",
       "      <td>3.888614</td>\n",
       "      <td>15.121318</td>\n",
       "      <td>0.005371</td>\n",
       "    </tr>\n",
       "    <tr>\n",
       "      <th>4</th>\n",
       "      <td>5</td>\n",
       "      <td>2002-07-09</td>\n",
       "      <td>48.82</td>\n",
       "      <td>3.888140</td>\n",
       "      <td>0.000000</td>\n",
       "      <td>-0.000051</td>\n",
       "      <td>3.888191</td>\n",
       "      <td>15.118029</td>\n",
       "      <td>0.005244</td>\n",
       "    </tr>\n",
       "  </tbody>\n",
       "</table>\n",
       "</div>"
      ],
      "text/plain": [
       "   index       Date  Rupee  log_rupee  diff_log_rupee  prediction     resid  \\\n",
       "0      1 2002-07-02  48.87   3.889164        0.000819   -0.000045  3.889209   \n",
       "1      2 2002-07-03  48.83   3.888345       -0.000614   -0.000054  3.888399   \n",
       "2      3 2002-07-05  48.86   3.888959        0.000409   -0.000017  3.888977   \n",
       "3      4 2002-07-08  48.84   3.888550        0.000410   -0.000064  3.888614   \n",
       "4      5 2002-07-09  48.82   3.888140        0.000000   -0.000051  3.888191   \n",
       "\n",
       "    sq_resid  cond_var  \n",
       "0  15.125948  0.005975  \n",
       "1  15.119647  0.005732  \n",
       "2  15.124139  0.005520  \n",
       "3  15.121318  0.005371  \n",
       "4  15.118029  0.005244  "
      ]
     },
     "execution_count": 49,
     "metadata": {},
     "output_type": "execute_result"
    }
   ],
   "source": [
    "data.head()"
   ]
  },
  {
   "cell_type": "code",
   "execution_count": 50,
   "metadata": {
    "collapsed": false
   },
   "outputs": [
    {
     "data": {
      "text/html": [
       "<div>\n",
       "<table border=\"1\" class=\"dataframe\">\n",
       "  <thead>\n",
       "    <tr style=\"text-align: right;\">\n",
       "      <th></th>\n",
       "      <th>index</th>\n",
       "      <th>Date</th>\n",
       "      <th>Rupee</th>\n",
       "      <th>log_rupee</th>\n",
       "      <th>diff_log_rupee</th>\n",
       "      <th>prediction</th>\n",
       "      <th>resid</th>\n",
       "      <th>sq_resid</th>\n",
       "      <th>cond_var</th>\n",
       "      <th>arch_resid</th>\n",
       "      <th>upper_bound</th>\n",
       "      <th>lower_bound</th>\n",
       "    </tr>\n",
       "  </thead>\n",
       "  <tbody>\n",
       "    <tr>\n",
       "      <th>0</th>\n",
       "      <td>1</td>\n",
       "      <td>2002-07-02</td>\n",
       "      <td>48.87</td>\n",
       "      <td>3.889164</td>\n",
       "      <td>0.000819</td>\n",
       "      <td>-0.000045</td>\n",
       "      <td>3.889209</td>\n",
       "      <td>15.125948</td>\n",
       "      <td>0.005975</td>\n",
       "      <td>48.940832</td>\n",
       "      <td>50.162372</td>\n",
       "      <td>47.719567</td>\n",
       "    </tr>\n",
       "    <tr>\n",
       "      <th>1</th>\n",
       "      <td>2</td>\n",
       "      <td>2002-07-03</td>\n",
       "      <td>48.83</td>\n",
       "      <td>3.888345</td>\n",
       "      <td>-0.000614</td>\n",
       "      <td>-0.000054</td>\n",
       "      <td>3.888399</td>\n",
       "      <td>15.119647</td>\n",
       "      <td>0.005732</td>\n",
       "      <td>48.900013</td>\n",
       "      <td>50.121554</td>\n",
       "      <td>47.678749</td>\n",
       "    </tr>\n",
       "    <tr>\n",
       "      <th>2</th>\n",
       "      <td>3</td>\n",
       "      <td>2002-07-05</td>\n",
       "      <td>48.86</td>\n",
       "      <td>3.888959</td>\n",
       "      <td>0.000409</td>\n",
       "      <td>-0.000017</td>\n",
       "      <td>3.888977</td>\n",
       "      <td>15.124139</td>\n",
       "      <td>0.005520</td>\n",
       "      <td>48.930627</td>\n",
       "      <td>50.152168</td>\n",
       "      <td>47.709363</td>\n",
       "    </tr>\n",
       "    <tr>\n",
       "      <th>3</th>\n",
       "      <td>4</td>\n",
       "      <td>2002-07-08</td>\n",
       "      <td>48.84</td>\n",
       "      <td>3.888550</td>\n",
       "      <td>0.000410</td>\n",
       "      <td>-0.000064</td>\n",
       "      <td>3.888614</td>\n",
       "      <td>15.121318</td>\n",
       "      <td>0.005371</td>\n",
       "      <td>48.910218</td>\n",
       "      <td>50.131758</td>\n",
       "      <td>47.688953</td>\n",
       "    </tr>\n",
       "    <tr>\n",
       "      <th>4</th>\n",
       "      <td>5</td>\n",
       "      <td>2002-07-09</td>\n",
       "      <td>48.82</td>\n",
       "      <td>3.888140</td>\n",
       "      <td>0.000000</td>\n",
       "      <td>-0.000051</td>\n",
       "      <td>3.888191</td>\n",
       "      <td>15.118029</td>\n",
       "      <td>0.005244</td>\n",
       "      <td>48.889808</td>\n",
       "      <td>50.111349</td>\n",
       "      <td>47.668544</td>\n",
       "    </tr>\n",
       "  </tbody>\n",
       "</table>\n",
       "</div>"
      ],
      "text/plain": [
       "   index       Date  Rupee  log_rupee  diff_log_rupee  prediction     resid  \\\n",
       "0      1 2002-07-02  48.87   3.889164        0.000819   -0.000045  3.889209   \n",
       "1      2 2002-07-03  48.83   3.888345       -0.000614   -0.000054  3.888399   \n",
       "2      3 2002-07-05  48.86   3.888959        0.000409   -0.000017  3.888977   \n",
       "3      4 2002-07-08  48.84   3.888550        0.000410   -0.000064  3.888614   \n",
       "4      5 2002-07-09  48.82   3.888140        0.000000   -0.000051  3.888191   \n",
       "\n",
       "    sq_resid  cond_var  arch_resid  upper_bound  lower_bound  \n",
       "0  15.125948  0.005975   48.940832    50.162372    47.719567  \n",
       "1  15.119647  0.005732   48.900013    50.121554    47.678749  \n",
       "2  15.124139  0.005520   48.930627    50.152168    47.709363  \n",
       "3  15.121318  0.005371   48.910218    50.131758    47.688953  \n",
       "4  15.118029  0.005244   48.889808    50.111349    47.668544  "
      ]
     },
     "execution_count": 50,
     "metadata": {},
     "output_type": "execute_result"
    }
   ],
   "source": [
    "data['arch_resid'] = np.exp(data.log_rupee) + res.resid\n",
    "data['upper_bound'] = data.arch_resid +  conf_ints.loc['alpha[1]','upper']\n",
    "data['lower_bound'] = data.arch_resid - conf_ints.loc['alpha[1]','lower']\n",
    "data.head()"
   ]
  },
  {
   "cell_type": "code",
   "execution_count": 51,
   "metadata": {
    "collapsed": false
   },
   "outputs": [
    {
     "data": {
      "text/plain": [
       "<matplotlib.text.Text at 0x114196390>"
      ]
     },
     "execution_count": 51,
     "metadata": {},
     "output_type": "execute_result"
    },
    {
     "data": {
      "image/png": "[encoded data removed]",
      "text/plain": [
       "<matplotlib.figure.Figure at 0x113f5bd10>"
      ]
     },
     "metadata": {},
     "output_type": "display_data"
    }
   ],
   "source": [
    "fig, ax = plt.subplots(figsize=(20,4))\n",
    "\n",
    "plt.subplot(111)\n",
    "plt.plot(data.Date, data.arch_resid, label = 'ARCH Residuals', color = 'purple')\n",
    "plt.plot(data.Date, np.exp(data.log_rupee), label = 'Log Rupee')\n",
    "plt.plot(data.Date, data.upper_bound, label = 'Confidence Interval', color = 'orange')\n",
    "plt.plot(data.Date, data.lower_bound, color = 'orange', label = '')\n",
    "plt.title('Log Exchange Rates and One-Step Ahead Forecast Interval', fontsize = 20)\n",
    "plt.legend(loc = 4, fontsize = 15)\n",
    "plt.xlabel('Time', fontsize=15)\n",
    "plt.ylabel('Rupee Value', fontsize = 15)"
   ]
  },
  {
   "cell_type": "markdown",
   "metadata": {},
   "source": [
    "As we can see, the ARCH model failed to do a good job of predicting periods of high volatility, such as the financial crisis seen in 2008. Otherwise, it actually did pretty well!"
   ]
  },
  {
   "cell_type": "markdown",
   "metadata": {},
   "source": [
    "## Question 8 - Compute Residuals for ARIMA/ARCH Model"
   ]
  },
  {
   "cell_type": "code",
   "execution_count": 52,
   "metadata": {
    "collapsed": false
   },
   "outputs": [
    {
     "data": {
      "text/html": [
       "<div>\n",
       "<table border=\"1\" class=\"dataframe\">\n",
       "  <thead>\n",
       "    <tr style=\"text-align: right;\">\n",
       "      <th></th>\n",
       "      <th>index</th>\n",
       "      <th>Date</th>\n",
       "      <th>Rupee</th>\n",
       "      <th>log_rupee</th>\n",
       "      <th>diff_log_rupee</th>\n",
       "      <th>prediction</th>\n",
       "      <th>resid</th>\n",
       "      <th>sq_resid</th>\n",
       "      <th>cond_var</th>\n",
       "      <th>arch_resid</th>\n",
       "      <th>upper_bound</th>\n",
       "      <th>lower_bound</th>\n",
       "    </tr>\n",
       "  </thead>\n",
       "  <tbody>\n",
       "    <tr>\n",
       "      <th>0</th>\n",
       "      <td>1</td>\n",
       "      <td>2002-07-02</td>\n",
       "      <td>48.87</td>\n",
       "      <td>3.889164</td>\n",
       "      <td>0.000819</td>\n",
       "      <td>-0.000045</td>\n",
       "      <td>3.889209</td>\n",
       "      <td>15.125948</td>\n",
       "      <td>0.005975</td>\n",
       "      <td>48.940832</td>\n",
       "      <td>50.162372</td>\n",
       "      <td>47.719567</td>\n",
       "    </tr>\n",
       "    <tr>\n",
       "      <th>1</th>\n",
       "      <td>2</td>\n",
       "      <td>2002-07-03</td>\n",
       "      <td>48.83</td>\n",
       "      <td>3.888345</td>\n",
       "      <td>-0.000614</td>\n",
       "      <td>-0.000054</td>\n",
       "      <td>3.888399</td>\n",
       "      <td>15.119647</td>\n",
       "      <td>0.005732</td>\n",
       "      <td>48.900013</td>\n",
       "      <td>50.121554</td>\n",
       "      <td>47.678749</td>\n",
       "    </tr>\n",
       "    <tr>\n",
       "      <th>2</th>\n",
       "      <td>3</td>\n",
       "      <td>2002-07-05</td>\n",
       "      <td>48.86</td>\n",
       "      <td>3.888959</td>\n",
       "      <td>0.000409</td>\n",
       "      <td>-0.000017</td>\n",
       "      <td>3.888977</td>\n",
       "      <td>15.124139</td>\n",
       "      <td>0.005520</td>\n",
       "      <td>48.930627</td>\n",
       "      <td>50.152168</td>\n",
       "      <td>47.709363</td>\n",
       "    </tr>\n",
       "    <tr>\n",
       "      <th>3</th>\n",
       "      <td>4</td>\n",
       "      <td>2002-07-08</td>\n",
       "      <td>48.84</td>\n",
       "      <td>3.888550</td>\n",
       "      <td>0.000410</td>\n",
       "      <td>-0.000064</td>\n",
       "      <td>3.888614</td>\n",
       "      <td>15.121318</td>\n",
       "      <td>0.005371</td>\n",
       "      <td>48.910218</td>\n",
       "      <td>50.131758</td>\n",
       "      <td>47.688953</td>\n",
       "    </tr>\n",
       "    <tr>\n",
       "      <th>4</th>\n",
       "      <td>5</td>\n",
       "      <td>2002-07-09</td>\n",
       "      <td>48.82</td>\n",
       "      <td>3.888140</td>\n",
       "      <td>0.000000</td>\n",
       "      <td>-0.000051</td>\n",
       "      <td>3.888191</td>\n",
       "      <td>15.118029</td>\n",
       "      <td>0.005244</td>\n",
       "      <td>48.889808</td>\n",
       "      <td>50.111349</td>\n",
       "      <td>47.668544</td>\n",
       "    </tr>\n",
       "  </tbody>\n",
       "</table>\n",
       "</div>"
      ],
      "text/plain": [
       "   index       Date  Rupee  log_rupee  diff_log_rupee  prediction     resid  \\\n",
       "0      1 2002-07-02  48.87   3.889164        0.000819   -0.000045  3.889209   \n",
       "1      2 2002-07-03  48.83   3.888345       -0.000614   -0.000054  3.888399   \n",
       "2      3 2002-07-05  48.86   3.888959        0.000409   -0.000017  3.888977   \n",
       "3      4 2002-07-08  48.84   3.888550        0.000410   -0.000064  3.888614   \n",
       "4      5 2002-07-09  48.82   3.888140        0.000000   -0.000051  3.888191   \n",
       "\n",
       "    sq_resid  cond_var  arch_resid  upper_bound  lower_bound  \n",
       "0  15.125948  0.005975   48.940832    50.162372    47.719567  \n",
       "1  15.119647  0.005732   48.900013    50.121554    47.678749  \n",
       "2  15.124139  0.005520   48.930627    50.152168    47.709363  \n",
       "3  15.121318  0.005371   48.910218    50.131758    47.688953  \n",
       "4  15.118029  0.005244   48.889808    50.111349    47.668544  "
      ]
     },
     "execution_count": 52,
     "metadata": {},
     "output_type": "execute_result"
    }
   ],
   "source": [
    "data.head()"
   ]
  },
  {
   "cell_type": "code",
   "execution_count": 53,
   "metadata": {
    "collapsed": false
   },
   "outputs": [
    {
     "data": {
      "text/plain": [
       "<matplotlib.text.Text at 0x111e96850>"
      ]
     },
     "execution_count": 53,
     "metadata": {},
     "output_type": "execute_result"
    },
    {
     "data": {
      "image/png": "[encoded data removed]",
      "text/plain": [
       "<matplotlib.figure.Figure at 0x11327bd10>"
      ]
     },
     "metadata": {},
     "output_type": "display_data"
    }
   ],
   "source": [
    "data.arch_resid.hist(bins = 50)\n",
    "plt.title('Distribution of ARCH Residuals')"
   ]
  },
  {
   "cell_type": "markdown",
   "metadata": {},
   "source": [
    "The distribution displays strong leptokurtosis (heavy tails) and do not appear normally distributed"
   ]
  },
  {
   "cell_type": "code",
   "execution_count": 54,
   "metadata": {
    "collapsed": false
   },
   "outputs": [],
   "source": [
    "data['fail_upper'] = data.arch_resid > data.upper_bound\n",
    "data['fail_lower'] = data.arch_resid < data.lower_bound"
   ]
  },
  {
   "cell_type": "code",
   "execution_count": 55,
   "metadata": {
    "collapsed": false
   },
   "outputs": [
    {
     "data": {
      "text/html": [
       "<div>\n",
       "<table border=\"1\" class=\"dataframe\">\n",
       "  <thead>\n",
       "    <tr style=\"text-align: right;\">\n",
       "      <th></th>\n",
       "      <th>index</th>\n",
       "      <th>Date</th>\n",
       "      <th>Rupee</th>\n",
       "      <th>log_rupee</th>\n",
       "      <th>diff_log_rupee</th>\n",
       "      <th>prediction</th>\n",
       "      <th>resid</th>\n",
       "      <th>sq_resid</th>\n",
       "      <th>cond_var</th>\n",
       "      <th>arch_resid</th>\n",
       "      <th>upper_bound</th>\n",
       "      <th>lower_bound</th>\n",
       "      <th>fail_upper</th>\n",
       "      <th>fail_lower</th>\n",
       "    </tr>\n",
       "  </thead>\n",
       "  <tbody>\n",
       "    <tr>\n",
       "      <th>0</th>\n",
       "      <td>1</td>\n",
       "      <td>2002-07-02</td>\n",
       "      <td>48.87</td>\n",
       "      <td>3.889164</td>\n",
       "      <td>0.000819</td>\n",
       "      <td>-0.000045</td>\n",
       "      <td>3.889209</td>\n",
       "      <td>15.125948</td>\n",
       "      <td>0.005975</td>\n",
       "      <td>48.940832</td>\n",
       "      <td>50.162372</td>\n",
       "      <td>47.719567</td>\n",
       "      <td>False</td>\n",
       "      <td>False</td>\n",
       "    </tr>\n",
       "    <tr>\n",
       "      <th>1</th>\n",
       "      <td>2</td>\n",
       "      <td>2002-07-03</td>\n",
       "      <td>48.83</td>\n",
       "      <td>3.888345</td>\n",
       "      <td>-0.000614</td>\n",
       "      <td>-0.000054</td>\n",
       "      <td>3.888399</td>\n",
       "      <td>15.119647</td>\n",
       "      <td>0.005732</td>\n",
       "      <td>48.900013</td>\n",
       "      <td>50.121554</td>\n",
       "      <td>47.678749</td>\n",
       "      <td>False</td>\n",
       "      <td>False</td>\n",
       "    </tr>\n",
       "    <tr>\n",
       "      <th>2</th>\n",
       "      <td>3</td>\n",
       "      <td>2002-07-05</td>\n",
       "      <td>48.86</td>\n",
       "      <td>3.888959</td>\n",
       "      <td>0.000409</td>\n",
       "      <td>-0.000017</td>\n",
       "      <td>3.888977</td>\n",
       "      <td>15.124139</td>\n",
       "      <td>0.005520</td>\n",
       "      <td>48.930627</td>\n",
       "      <td>50.152168</td>\n",
       "      <td>47.709363</td>\n",
       "      <td>False</td>\n",
       "      <td>False</td>\n",
       "    </tr>\n",
       "    <tr>\n",
       "      <th>3</th>\n",
       "      <td>4</td>\n",
       "      <td>2002-07-08</td>\n",
       "      <td>48.84</td>\n",
       "      <td>3.888550</td>\n",
       "      <td>0.000410</td>\n",
       "      <td>-0.000064</td>\n",
       "      <td>3.888614</td>\n",
       "      <td>15.121318</td>\n",
       "      <td>0.005371</td>\n",
       "      <td>48.910218</td>\n",
       "      <td>50.131758</td>\n",
       "      <td>47.688953</td>\n",
       "      <td>False</td>\n",
       "      <td>False</td>\n",
       "    </tr>\n",
       "    <tr>\n",
       "      <th>4</th>\n",
       "      <td>5</td>\n",
       "      <td>2002-07-09</td>\n",
       "      <td>48.82</td>\n",
       "      <td>3.888140</td>\n",
       "      <td>0.000000</td>\n",
       "      <td>-0.000051</td>\n",
       "      <td>3.888191</td>\n",
       "      <td>15.118029</td>\n",
       "      <td>0.005244</td>\n",
       "      <td>48.889808</td>\n",
       "      <td>50.111349</td>\n",
       "      <td>47.668544</td>\n",
       "      <td>False</td>\n",
       "      <td>False</td>\n",
       "    </tr>\n",
       "  </tbody>\n",
       "</table>\n",
       "</div>"
      ],
      "text/plain": [
       "   index       Date  Rupee  log_rupee  diff_log_rupee  prediction     resid  \\\n",
       "0      1 2002-07-02  48.87   3.889164        0.000819   -0.000045  3.889209   \n",
       "1      2 2002-07-03  48.83   3.888345       -0.000614   -0.000054  3.888399   \n",
       "2      3 2002-07-05  48.86   3.888959        0.000409   -0.000017  3.888977   \n",
       "3      4 2002-07-08  48.84   3.888550        0.000410   -0.000064  3.888614   \n",
       "4      5 2002-07-09  48.82   3.888140        0.000000   -0.000051  3.888191   \n",
       "\n",
       "    sq_resid  cond_var  arch_resid  upper_bound  lower_bound fail_upper  \\\n",
       "0  15.125948  0.005975   48.940832    50.162372    47.719567      False   \n",
       "1  15.119647  0.005732   48.900013    50.121554    47.678749      False   \n",
       "2  15.124139  0.005520   48.930627    50.152168    47.709363      False   \n",
       "3  15.121318  0.005371   48.910218    50.131758    47.688953      False   \n",
       "4  15.118029  0.005244   48.889808    50.111349    47.668544      False   \n",
       "\n",
       "  fail_lower  \n",
       "0      False  \n",
       "1      False  \n",
       "2      False  \n",
       "3      False  \n",
       "4      False  "
      ]
     },
     "execution_count": 55,
     "metadata": {},
     "output_type": "execute_result"
    }
   ],
   "source": [
    "data.head()"
   ]
  },
  {
   "cell_type": "code",
   "execution_count": 56,
   "metadata": {
    "collapsed": false
   },
   "outputs": [
    {
     "name": "stdout",
     "output_type": "stream",
     "text": [
      "The forecast failed 0 percent of the time\n"
     ]
    }
   ],
   "source": [
    "fail = len(data[data.fail_upper == True])\n",
    "print 'The forecast failed %s percent of the time' % fail"
   ]
  }
 ],
 "metadata": {
  "kernelspec": {
   "display_name": "Python 2",
   "language": "python",
   "name": "python2"
  },
  "language_info": {
   "codemirror_mode": {
    "name": "ipython",
    "version": 2
   },
   "file_extension": ".py",
   "mimetype": "text/x-python",
   "name": "python",
   "nbconvert_exporter": "python",
   "pygments_lexer": "ipython2",
   "version": "2.7.11"
  }
 },
 "nbformat": 4,
 "nbformat_minor": 0
}
