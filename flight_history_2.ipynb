{
 "cells": [
  {
   "cell_type": "markdown",
   "metadata": {},
   "source": [
    "# Flight History - Data Aggregation and Exploration\n",
    "\n",
    "#### This notebook will take the scrubbed data from the first notebook and combine it all into one dataframe, then we will do a little exploring"
   ]
  },
  {
   "cell_type": "code",
   "execution_count": 1,
   "metadata": {
    "collapsed": false
   },
   "outputs": [
    {
     "name": "stdout",
     "output_type": "stream",
     "text": [
      "Populating the interactive namespace from numpy and matplotlib\n"
     ]
    },
    {
     "name": "stderr",
     "output_type": "stream",
     "text": [
      "/usr/local/lib/python2.7/site-packages/matplotlib/__init__.py:872: UserWarning: axes.color_cycle is deprecated and replaced with axes.prop_cycle; please use the latter.\n",
      "  warnings.warn(self.msg_depr % (key, alt_key))\n"
     ]
    }
   ],
   "source": [
    "import sys\n",
    "import numpy as np\n",
    "import pandas as pd\n",
    "import matplotlib.pyplot as plt\n",
    "import math\n",
    "import seaborn\n",
    "%pylab inline"
   ]
  },
  {
   "cell_type": "markdown",
   "metadata": {},
   "source": [
    "## Turns out there is no delay data available before 2003, meaning we can't do long-term analysis on delays"
   ]
  },
  {
   "cell_type": "code",
   "execution_count": 74,
   "metadata": {
    "collapsed": false
   },
   "outputs": [
    {
     "data": {
      "text/plain": [
       "['2002', '2003', '2004', '2005', '2006', '2007', '2008']"
      ]
     },
     "execution_count": 74,
     "metadata": {},
     "output_type": "execute_result"
    }
   ],
   "source": [
    "# create a list of years where we have delay data (begins in 2003)\n",
    "\n",
    "# this dictionary looks weird because the loop to concatenate all the pickle files only worked with a dictionary\n",
    "years = [2002,2003,2004,2005,2006,2007,2008]\n",
    "\n",
    "# convert values in 'years' list from int to str\n",
    "my_list = []\n",
    "for i in years:\n",
    "    i = str(i)\n",
    "    my_list.append(i)\n",
    "    \n",
    "my_list"
   ]
  },
  {
   "cell_type": "code",
   "execution_count": 75,
   "metadata": {
    "collapsed": false
   },
   "outputs": [],
   "source": [
    "dif_list = []\n",
    "\n",
    "for i in my_list:\n",
    "    try:\n",
    "        load = 'datasets/flight_hist_pickle/cleaned_%s.pickle' %(i)\n",
    "        temp = pd.read_pickle(load)\n",
    "        dif_list = pd.DataFrame(dif_list.append(temp))\n",
    "    except IOError:\n",
    "        pass"
   ]
  },
  {
   "cell_type": "code",
   "execution_count": 76,
   "metadata": {
    "collapsed": false,
    "scrolled": false
   },
   "outputs": [
    {
     "data": {
      "text/html": [
       "<div>\n",
       "<table border=\"1\" class=\"dataframe\">\n",
       "  <thead>\n",
       "    <tr style=\"text-align: right;\">\n",
       "      <th></th>\n",
       "      <th>lane_pairs</th>\n",
       "      <th>origin_airport</th>\n",
       "      <th>orig_state</th>\n",
       "      <th>dest_airport</th>\n",
       "      <th>dest_state</th>\n",
       "      <th>NAS</th>\n",
       "      <th>carrier</th>\n",
       "      <th>late_aircraft</th>\n",
       "      <th>security_delay</th>\n",
       "      <th>trip_count</th>\n",
       "      <th>weather</th>\n",
       "      <th>year</th>\n",
       "    </tr>\n",
       "  </thead>\n",
       "  <tbody>\n",
       "    <tr>\n",
       "      <th>0</th>\n",
       "      <td>Abilene Regional-Dallas-Fort Worth International</td>\n",
       "      <td>Abilene Regional</td>\n",
       "      <td>TX</td>\n",
       "      <td>Dallas-Fort Worth International</td>\n",
       "      <td>TX</td>\n",
       "      <td>71</td>\n",
       "      <td>39</td>\n",
       "      <td>31</td>\n",
       "      <td>0</td>\n",
       "      <td>2211</td>\n",
       "      <td>10</td>\n",
       "      <td>2003</td>\n",
       "    </tr>\n",
       "    <tr>\n",
       "      <th>1</th>\n",
       "      <td>Abilene Regional-Easterwood</td>\n",
       "      <td>Abilene Regional</td>\n",
       "      <td>TX</td>\n",
       "      <td>Easterwood</td>\n",
       "      <td>TX</td>\n",
       "      <td>0</td>\n",
       "      <td>0</td>\n",
       "      <td>0</td>\n",
       "      <td>0</td>\n",
       "      <td>1</td>\n",
       "      <td>0</td>\n",
       "      <td>2003</td>\n",
       "    </tr>\n",
       "    <tr>\n",
       "      <th>2</th>\n",
       "      <td>Abilene Regional-George Bush Intercontinental</td>\n",
       "      <td>Abilene Regional</td>\n",
       "      <td>TX</td>\n",
       "      <td>George Bush Intercontinental</td>\n",
       "      <td>TX</td>\n",
       "      <td>3</td>\n",
       "      <td>19</td>\n",
       "      <td>8</td>\n",
       "      <td>0</td>\n",
       "      <td>317</td>\n",
       "      <td>7</td>\n",
       "      <td>2003</td>\n",
       "    </tr>\n",
       "    <tr>\n",
       "      <th>3</th>\n",
       "      <td>Adak-King Salmon</td>\n",
       "      <td>Adak</td>\n",
       "      <td>AK</td>\n",
       "      <td>King Salmon</td>\n",
       "      <td>AK</td>\n",
       "      <td>3</td>\n",
       "      <td>7</td>\n",
       "      <td>6</td>\n",
       "      <td>4</td>\n",
       "      <td>73</td>\n",
       "      <td>0</td>\n",
       "      <td>2003</td>\n",
       "    </tr>\n",
       "    <tr>\n",
       "      <th>4</th>\n",
       "      <td>Adak-Ted Stevens Anchorage International</td>\n",
       "      <td>Adak</td>\n",
       "      <td>AK</td>\n",
       "      <td>Ted Stevens Anchorage International</td>\n",
       "      <td>AK</td>\n",
       "      <td>0</td>\n",
       "      <td>0</td>\n",
       "      <td>0</td>\n",
       "      <td>0</td>\n",
       "      <td>1</td>\n",
       "      <td>0</td>\n",
       "      <td>2003</td>\n",
       "    </tr>\n",
       "  </tbody>\n",
       "</table>\n",
       "</div>"
      ],
      "text/plain": [
       "                                         lane_pairs    origin_airport  \\\n",
       "0  Abilene Regional-Dallas-Fort Worth International  Abilene Regional   \n",
       "1                      Abilene Regional-Easterwood   Abilene Regional   \n",
       "2     Abilene Regional-George Bush Intercontinental  Abilene Regional   \n",
       "3                                  Adak-King Salmon              Adak   \n",
       "4          Adak-Ted Stevens Anchorage International              Adak   \n",
       "\n",
       "  orig_state                         dest_airport dest_state  NAS  carrier  \\\n",
       "0         TX      Dallas-Fort Worth International         TX   71       39   \n",
       "1         TX                          Easterwood          TX    0        0   \n",
       "2         TX         George Bush Intercontinental         TX    3       19   \n",
       "3         AK                          King Salmon         AK    3        7   \n",
       "4         AK  Ted Stevens Anchorage International         AK    0        0   \n",
       "\n",
       "   late_aircraft  security_delay  trip_count  weather  year  \n",
       "0             31               0        2211       10  2003  \n",
       "1              0               0           1        0  2003  \n",
       "2              8               0         317        7  2003  \n",
       "3              6               4          73        0  2003  \n",
       "4              0               0           1        0  2003  "
      ]
     },
     "execution_count": 76,
     "metadata": {},
     "output_type": "execute_result"
    }
   ],
   "source": [
    "# rename the list and turn it into a dataframe \n",
    "agg_flights = pd.DataFrame(dif_list)\n",
    "agg_flights.head()"
   ]
  },
  {
   "cell_type": "code",
   "execution_count": 77,
   "metadata": {
    "collapsed": false
   },
   "outputs": [
    {
     "data": {
      "text/html": [
       "<div>\n",
       "<table border=\"1\" class=\"dataframe\">\n",
       "  <thead>\n",
       "    <tr style=\"text-align: right;\">\n",
       "      <th></th>\n",
       "      <th>lane_pairs</th>\n",
       "      <th>origin_airport</th>\n",
       "      <th>orig_state</th>\n",
       "      <th>dest_airport</th>\n",
       "      <th>dest_state</th>\n",
       "      <th>NAS</th>\n",
       "      <th>carrier</th>\n",
       "      <th>late_aircraft</th>\n",
       "      <th>security_delay</th>\n",
       "      <th>trip_count</th>\n",
       "      <th>weather</th>\n",
       "      <th>year</th>\n",
       "      <th>late_percent</th>\n",
       "      <th>sec_percent</th>\n",
       "      <th>weather_percent</th>\n",
       "      <th>nas_percent</th>\n",
       "      <th>carrier_percent</th>\n",
       "    </tr>\n",
       "  </thead>\n",
       "  <tbody>\n",
       "    <tr>\n",
       "      <th>0</th>\n",
       "      <td>Abilene Regional-Dallas-Fort Worth International</td>\n",
       "      <td>Abilene Regional</td>\n",
       "      <td>TX</td>\n",
       "      <td>Dallas-Fort Worth International</td>\n",
       "      <td>TX</td>\n",
       "      <td>71</td>\n",
       "      <td>39</td>\n",
       "      <td>31</td>\n",
       "      <td>0</td>\n",
       "      <td>2211</td>\n",
       "      <td>10</td>\n",
       "      <td>2003</td>\n",
       "      <td>0.014021</td>\n",
       "      <td>0.000000</td>\n",
       "      <td>0.004523</td>\n",
       "      <td>0.032112</td>\n",
       "      <td>0.017639</td>\n",
       "    </tr>\n",
       "    <tr>\n",
       "      <th>1</th>\n",
       "      <td>Abilene Regional-Easterwood</td>\n",
       "      <td>Abilene Regional</td>\n",
       "      <td>TX</td>\n",
       "      <td>Easterwood</td>\n",
       "      <td>TX</td>\n",
       "      <td>0</td>\n",
       "      <td>0</td>\n",
       "      <td>0</td>\n",
       "      <td>0</td>\n",
       "      <td>1</td>\n",
       "      <td>0</td>\n",
       "      <td>2003</td>\n",
       "      <td>0.000000</td>\n",
       "      <td>0.000000</td>\n",
       "      <td>0.000000</td>\n",
       "      <td>0.000000</td>\n",
       "      <td>0.000000</td>\n",
       "    </tr>\n",
       "    <tr>\n",
       "      <th>2</th>\n",
       "      <td>Abilene Regional-George Bush Intercontinental</td>\n",
       "      <td>Abilene Regional</td>\n",
       "      <td>TX</td>\n",
       "      <td>George Bush Intercontinental</td>\n",
       "      <td>TX</td>\n",
       "      <td>3</td>\n",
       "      <td>19</td>\n",
       "      <td>8</td>\n",
       "      <td>0</td>\n",
       "      <td>317</td>\n",
       "      <td>7</td>\n",
       "      <td>2003</td>\n",
       "      <td>0.025237</td>\n",
       "      <td>0.000000</td>\n",
       "      <td>0.022082</td>\n",
       "      <td>0.009464</td>\n",
       "      <td>0.059937</td>\n",
       "    </tr>\n",
       "    <tr>\n",
       "      <th>3</th>\n",
       "      <td>Adak-King Salmon</td>\n",
       "      <td>Adak</td>\n",
       "      <td>AK</td>\n",
       "      <td>King Salmon</td>\n",
       "      <td>AK</td>\n",
       "      <td>3</td>\n",
       "      <td>7</td>\n",
       "      <td>6</td>\n",
       "      <td>4</td>\n",
       "      <td>73</td>\n",
       "      <td>0</td>\n",
       "      <td>2003</td>\n",
       "      <td>0.082192</td>\n",
       "      <td>0.054795</td>\n",
       "      <td>0.000000</td>\n",
       "      <td>0.041096</td>\n",
       "      <td>0.095890</td>\n",
       "    </tr>\n",
       "    <tr>\n",
       "      <th>4</th>\n",
       "      <td>Adak-Ted Stevens Anchorage International</td>\n",
       "      <td>Adak</td>\n",
       "      <td>AK</td>\n",
       "      <td>Ted Stevens Anchorage International</td>\n",
       "      <td>AK</td>\n",
       "      <td>0</td>\n",
       "      <td>0</td>\n",
       "      <td>0</td>\n",
       "      <td>0</td>\n",
       "      <td>1</td>\n",
       "      <td>0</td>\n",
       "      <td>2003</td>\n",
       "      <td>0.000000</td>\n",
       "      <td>0.000000</td>\n",
       "      <td>0.000000</td>\n",
       "      <td>0.000000</td>\n",
       "      <td>0.000000</td>\n",
       "    </tr>\n",
       "  </tbody>\n",
       "</table>\n",
       "</div>"
      ],
      "text/plain": [
       "                                         lane_pairs    origin_airport  \\\n",
       "0  Abilene Regional-Dallas-Fort Worth International  Abilene Regional   \n",
       "1                      Abilene Regional-Easterwood   Abilene Regional   \n",
       "2     Abilene Regional-George Bush Intercontinental  Abilene Regional   \n",
       "3                                  Adak-King Salmon              Adak   \n",
       "4          Adak-Ted Stevens Anchorage International              Adak   \n",
       "\n",
       "  orig_state                         dest_airport dest_state  NAS  carrier  \\\n",
       "0         TX      Dallas-Fort Worth International         TX   71       39   \n",
       "1         TX                          Easterwood          TX    0        0   \n",
       "2         TX         George Bush Intercontinental         TX    3       19   \n",
       "3         AK                          King Salmon         AK    3        7   \n",
       "4         AK  Ted Stevens Anchorage International         AK    0        0   \n",
       "\n",
       "   late_aircraft  security_delay  trip_count  weather  year  late_percent  \\\n",
       "0             31               0        2211       10  2003      0.014021   \n",
       "1              0               0           1        0  2003      0.000000   \n",
       "2              8               0         317        7  2003      0.025237   \n",
       "3              6               4          73        0  2003      0.082192   \n",
       "4              0               0           1        0  2003      0.000000   \n",
       "\n",
       "   sec_percent  weather_percent  nas_percent  carrier_percent  \n",
       "0     0.000000         0.004523     0.032112         0.017639  \n",
       "1     0.000000         0.000000     0.000000         0.000000  \n",
       "2     0.000000         0.022082     0.009464         0.059937  \n",
       "3     0.054795         0.000000     0.041096         0.095890  \n",
       "4     0.000000         0.000000     0.000000         0.000000  "
      ]
     },
     "execution_count": 77,
     "metadata": {},
     "output_type": "execute_result"
    }
   ],
   "source": [
    "# normalize delays by calculating percentages of each delay\n",
    "agg_flights['late_percent'] = agg_flights['late_aircraft'] / agg_flights['trip_count']\n",
    "agg_flights['sec_percent'] = agg_flights['security_delay'] / agg_flights['trip_count']\n",
    "agg_flights['weather_percent'] = agg_flights['weather'] / agg_flights['trip_count']\n",
    "agg_flights['nas_percent'] = agg_flights['NAS'] / agg_flights['trip_count']\n",
    "agg_flights['carrier_percent'] = agg_flights['carrier'] / agg_flights['trip_count']\n",
    "agg_flights.head()"
   ]
  },
  {
   "cell_type": "markdown",
   "metadata": {},
   "source": [
    "### Now we can explore the dataset to understand what we have"
   ]
  },
  {
   "cell_type": "markdown",
   "metadata": {},
   "source": [
    "### What state has the highest percentage of weather delays?"
   ]
  },
  {
   "cell_type": "code",
   "execution_count": 78,
   "metadata": {
    "collapsed": false
   },
   "outputs": [
    {
     "data": {
      "text/html": [
       "<div>\n",
       "<table border=\"1\" class=\"dataframe\">\n",
       "  <thead>\n",
       "    <tr style=\"text-align: right;\">\n",
       "      <th></th>\n",
       "      <th>orig_state</th>\n",
       "      <th>weather</th>\n",
       "      <th>trip_count</th>\n",
       "      <th>delay_percentage</th>\n",
       "    </tr>\n",
       "  </thead>\n",
       "  <tbody>\n",
       "    <tr>\n",
       "      <th>0</th>\n",
       "      <td>AK</td>\n",
       "      <td>1879</td>\n",
       "      <td>255076</td>\n",
       "      <td>0.007366</td>\n",
       "    </tr>\n",
       "    <tr>\n",
       "      <th>1</th>\n",
       "      <td>AL</td>\n",
       "      <td>4515</td>\n",
       "      <td>254190</td>\n",
       "      <td>0.017762</td>\n",
       "    </tr>\n",
       "    <tr>\n",
       "      <th>2</th>\n",
       "      <td>AR</td>\n",
       "      <td>2839</td>\n",
       "      <td>202117</td>\n",
       "      <td>0.014046</td>\n",
       "    </tr>\n",
       "    <tr>\n",
       "      <th>3</th>\n",
       "      <td>AZ</td>\n",
       "      <td>5176</td>\n",
       "      <td>1294836</td>\n",
       "      <td>0.003997</td>\n",
       "    </tr>\n",
       "    <tr>\n",
       "      <th>4</th>\n",
       "      <td>CA</td>\n",
       "      <td>19906</td>\n",
       "      <td>5006102</td>\n",
       "      <td>0.003976</td>\n",
       "    </tr>\n",
       "  </tbody>\n",
       "</table>\n",
       "</div>"
      ],
      "text/plain": [
       "  orig_state  weather  trip_count  delay_percentage\n",
       "0         AK     1879      255076          0.007366\n",
       "1         AL     4515      254190          0.017762\n",
       "2         AR     2839      202117          0.014046\n",
       "3         AZ     5176     1294836          0.003997\n",
       "4         CA    19906     5006102          0.003976"
      ]
     },
     "execution_count": 78,
     "metadata": {},
     "output_type": "execute_result"
    }
   ],
   "source": [
    "# i know this is an ugly and inefficient way to do it. more efficient method demonstrated for security delays\n",
    "weather_df = pd.DataFrame(agg_flights['weather'].groupby(agg_flights['orig_state']).agg('sum'))\n",
    "weather_df['trip_count'] = agg_flights['trip_count'].groupby(agg_flights['orig_state']).agg('sum')\n",
    "weather_df['delay_percentage'] = weather_df['weather'] / weather_df['trip_count']\n",
    "weather_df.reset_index(inplace = True)\n",
    "weather_df.head()"
   ]
  },
  {
   "cell_type": "markdown",
   "metadata": {},
   "source": [
    "### Which State has the most weather-related delays? The least?"
   ]
  },
  {
   "cell_type": "code",
   "execution_count": 79,
   "metadata": {
    "collapsed": false
   },
   "outputs": [
    {
     "data": {
      "text/html": [
       "<div>\n",
       "<table border=\"1\" class=\"dataframe\">\n",
       "  <thead>\n",
       "    <tr style=\"text-align: right;\">\n",
       "      <th></th>\n",
       "      <th>orig_state</th>\n",
       "      <th>weather</th>\n",
       "      <th>trip_count</th>\n",
       "      <th>delay_percentage</th>\n",
       "    </tr>\n",
       "  </thead>\n",
       "  <tbody>\n",
       "    <tr>\n",
       "      <th>51</th>\n",
       "      <td>WY</td>\n",
       "      <td>833</td>\n",
       "      <td>49656</td>\n",
       "      <td>0.016775</td>\n",
       "    </tr>\n",
       "  </tbody>\n",
       "</table>\n",
       "</div>"
      ],
      "text/plain": [
       "   orig_state  weather  trip_count  delay_percentage\n",
       "51         WY      833       49656          0.016775"
      ]
     },
     "execution_count": 79,
     "metadata": {},
     "output_type": "execute_result"
    }
   ],
   "source": [
    "weather_df[weather_df['orig_state'] == max(weather_df['orig_state'])]"
   ]
  },
  {
   "cell_type": "code",
   "execution_count": 80,
   "metadata": {
    "collapsed": false
   },
   "outputs": [
    {
     "data": {
      "text/html": [
       "<div>\n",
       "<table border=\"1\" class=\"dataframe\">\n",
       "  <thead>\n",
       "    <tr style=\"text-align: right;\">\n",
       "      <th></th>\n",
       "      <th>orig_state</th>\n",
       "      <th>weather</th>\n",
       "      <th>trip_count</th>\n",
       "      <th>delay_percentage</th>\n",
       "    </tr>\n",
       "  </thead>\n",
       "  <tbody>\n",
       "    <tr>\n",
       "      <th>0</th>\n",
       "      <td>AK</td>\n",
       "      <td>1879</td>\n",
       "      <td>255076</td>\n",
       "      <td>0.007366</td>\n",
       "    </tr>\n",
       "  </tbody>\n",
       "</table>\n",
       "</div>"
      ],
      "text/plain": [
       "  orig_state  weather  trip_count  delay_percentage\n",
       "0         AK     1879      255076          0.007366"
      ]
     },
     "execution_count": 80,
     "metadata": {},
     "output_type": "execute_result"
    }
   ],
   "source": [
    "weather_df[weather_df['orig_state'] == min(weather_df['orig_state'])]"
   ]
  },
  {
   "cell_type": "code",
   "execution_count": 81,
   "metadata": {
    "collapsed": false
   },
   "outputs": [
    {
     "data": {
      "text/plain": [
       "<matplotlib.text.Text at 0x112d9bfd0>"
      ]
     },
     "execution_count": 81,
     "metadata": {},
     "output_type": "execute_result"
    },
    {
     "data": {
      "image/png": "[encoded data removed]",
      "text/plain": [
       "<matplotlib.figure.Figure at 0x112c16510>"
      ]
     },
     "metadata": {},
     "output_type": "display_data"
    }
   ],
   "source": [
    "# how are the weather delays distributed across all 50 states?\n",
    "weather_df['delay_percentage'].hist(bins = 8)\n",
    "plt.title('Weather Delays by State', fontsize = 15)\n",
    "plt.ylabel('Number of States')\n",
    "plt.xlabel('Delay Percentage')"
   ]
  },
  {
   "cell_type": "markdown",
   "metadata": {},
   "source": [
    "### Which airport has the most security-related delays?"
   ]
  },
  {
   "cell_type": "code",
   "execution_count": 82,
   "metadata": {
    "collapsed": false
   },
   "outputs": [],
   "source": [
    "sec_df = pd.DataFrame(agg_flights[['security_delay','trip_count']].groupby(agg_flights['orig_state']).agg('sum'))\n",
    "sec_df.reset_index(inplace = True)"
   ]
  },
  {
   "cell_type": "code",
   "execution_count": 83,
   "metadata": {
    "collapsed": false
   },
   "outputs": [
    {
     "data": {
      "text/html": [
       "<div>\n",
       "<table border=\"1\" class=\"dataframe\">\n",
       "  <thead>\n",
       "    <tr style=\"text-align: right;\">\n",
       "      <th></th>\n",
       "      <th>orig_state</th>\n",
       "      <th>security_delay</th>\n",
       "      <th>trip_count</th>\n",
       "      <th>sec_percentage</th>\n",
       "    </tr>\n",
       "  </thead>\n",
       "  <tbody>\n",
       "    <tr>\n",
       "      <th>7</th>\n",
       "      <td>DE</td>\n",
       "      <td>4</td>\n",
       "      <td>765</td>\n",
       "      <td>0.005229</td>\n",
       "    </tr>\n",
       "  </tbody>\n",
       "</table>\n",
       "</div>"
      ],
      "text/plain": [
       "  orig_state  security_delay  trip_count  sec_percentage\n",
       "7         DE               4         765        0.005229"
      ]
     },
     "execution_count": 83,
     "metadata": {},
     "output_type": "execute_result"
    }
   ],
   "source": [
    "sec_df['sec_percentage'] = sec_df['security_delay'] / sec_df['trip_count']\n",
    "sec_df[sec_df['sec_percentage'] == max(sec_df['sec_percentage'])]"
   ]
  },
  {
   "cell_type": "code",
   "execution_count": 84,
   "metadata": {
    "collapsed": false
   },
   "outputs": [
    {
     "data": {
      "text/html": [
       "<div>\n",
       "<table border=\"1\" class=\"dataframe\">\n",
       "  <thead>\n",
       "    <tr style=\"text-align: right;\">\n",
       "      <th></th>\n",
       "      <th>orig_state</th>\n",
       "      <th>security_delay</th>\n",
       "      <th>trip_count</th>\n",
       "      <th>sec_percentage</th>\n",
       "    </tr>\n",
       "  </thead>\n",
       "  <tbody>\n",
       "    <tr>\n",
       "      <th>15</th>\n",
       "      <td>KS</td>\n",
       "      <td>11</td>\n",
       "      <td>72987</td>\n",
       "      <td>0.000151</td>\n",
       "    </tr>\n",
       "  </tbody>\n",
       "</table>\n",
       "</div>"
      ],
      "text/plain": [
       "   orig_state  security_delay  trip_count  sec_percentage\n",
       "15         KS              11       72987        0.000151"
      ]
     },
     "execution_count": 84,
     "metadata": {},
     "output_type": "execute_result"
    }
   ],
   "source": [
    "sec_df[sec_df['sec_percentage'] == min(sec_df['sec_percentage'])]"
   ]
  },
  {
   "cell_type": "code",
   "execution_count": 85,
   "metadata": {
    "collapsed": false
   },
   "outputs": [
    {
     "data": {
      "text/plain": [
       "0.0052287581699346402"
      ]
     },
     "execution_count": 85,
     "metadata": {},
     "output_type": "execute_result"
    }
   ],
   "source": [
    "# just return the max value in one line\n",
    "max(agg_flights['security_delay'].groupby(agg_flights['orig_state']).agg('sum') / agg_flights['trip_count'].groupby(agg_flights['orig_state']).agg('sum'))"
   ]
  },
  {
   "cell_type": "markdown",
   "metadata": {},
   "source": [
    "## Graph distributions of different delay types by lane pair"
   ]
  },
  {
   "cell_type": "code",
   "execution_count": 86,
   "metadata": {
    "collapsed": false
   },
   "outputs": [],
   "source": [
    "# rename delay column headers so that they look better on the plot legends\n",
    "agg_flights.rename(columns = {'late_percent':'Late Aircraft %',\n",
    "                              'sec_percent':'Security Delay %',\n",
    "                              'weather_percent':'Weather Delay %',\n",
    "                              'nas_percent':'NAS Delay %',\n",
    "                              'carrier_percent':'Carrier Delay %'}, inplace = True)"
   ]
  },
  {
   "cell_type": "code",
   "execution_count": 87,
   "metadata": {
    "collapsed": false
   },
   "outputs": [
    {
     "data": {
      "image/png": "[encoded data removed]",
      "text/plain": [
       "<matplotlib.figure.Figure at 0x1127d6450>"
      ]
     },
     "metadata": {},
     "output_type": "display_data"
    }
   ],
   "source": [
    "plt.subplots(figsize = (12,10))\n",
    "for i, z in zip(agg_flights.columns[12:], range(len(agg_flights.columns[12:]))): # only use the last columns in the df\n",
    "    z = z + 1 # iterator to produce individual plots for each loop\n",
    "    plt.subplot(3,2,z)\n",
    "    agg_flights[i].plot(kind = 'hist', bins = 50)\n",
    "    plt.title('Histogram of Delays')\n",
    "    plt.ylabel('Delay Count')\n",
    "    plt.legend()"
   ]
  }
 ],
 "metadata": {
  "kernelspec": {
   "display_name": "Python 2",
   "language": "python",
   "name": "python2"
  },
  "language_info": {
   "codemirror_mode": {
    "name": "ipython",
    "version": 2
   },
   "file_extension": ".py",
   "mimetype": "text/x-python",
   "name": "python",
   "nbconvert_exporter": "python",
   "pygments_lexer": "ipython2",
   "version": "2.7.11"
  }
 },
 "nbformat": 4,
 "nbformat_minor": 0
}
